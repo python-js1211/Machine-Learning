{
 "cells": [
  {
   "cell_type": "markdown",
   "metadata": {},
   "source": [
    "### Model Comparison "
   ]
  },
  {
   "cell_type": "code",
   "execution_count": 3,
   "metadata": {},
   "outputs": [],
   "source": [
    "import numpy as np\n",
    "import pylab as plt\n",
    "from sklearn import datasets\n",
    "from sklearn.tree import DecisionTreeClassifier\n",
    "from sklearn.svm import SVC\n",
    "from sklearn.ensemble import RandomForestClassifier\n",
    "from sklearn.neighbors import KNeighborsClassifier\n",
    "from sklearn.model_selection import train_test_split\n",
    "from sklearn.metrics import accuracy_score"
   ]
  },
  {
   "cell_type": "code",
   "execution_count": 4,
   "metadata": {},
   "outputs": [],
   "source": [
    "def calcAcc(clfs, clf_names, all_datasets, all_dataset_names):\n",
    "    result = dict()\n",
    "    for i in range(len(clfs)):\n",
    "        clf = clfs[i]\n",
    "        print('Accuracy using {}:'.format(clf_names[i]))\n",
    "        for j in range(len(all_datasets)):\n",
    "            X = all_datasets[j].data\n",
    "            Y = all_datasets[j].target\n",
    "            X_train, X_test, Y_train, Y_test = train_test_split(X, Y, test_size = .4, random_state = 0)\n",
    "            clf.fit(X_train, Y_train)\n",
    "            predictions = clf.predict(X_test)\n",
    "            score = accuracy_score(Y_test, predictions)\n",
    "        \n",
    "            if clf_names[i] not in result:\n",
    "                result[clf_names[i]] = [score]\n",
    "            else:\n",
    "                result[clf_names[i]].append(score)\n",
    "            \n",
    "            print('- {} dataset: {}'.format(all_dataset_names[j], score))\n",
    "    return result"
   ]
  },
  {
   "cell_type": "code",
   "execution_count": 5,
   "metadata": {},
   "outputs": [],
   "source": [
    "def plotBars(N, result, x_labels):\n",
    "    ind = np.arange(N)\n",
    "    width = 0.15\n",
    "    fig = plt.figure()\n",
    "    ax = fig.add_subplot(111)\n",
    "    \n",
    "    keys = ['DecisionTreeClassifier', 'SVC', 'RandomForestClassifier', 'KNeighborsClassifier']\n",
    "    colors = ['#2674f2', '#f9005b', '#bce8b7', '#686f7a']\n",
    "    rects = ()\n",
    "    clf = ()\n",
    "    for i in range(len(result)):\n",
    "        vals = result[keys[i]]\n",
    "        rect = ax.bar(ind + (width * i), vals, width, color=colors[i])\n",
    "        rects += (rect,)\n",
    "        clf += (keys[i],)\n",
    "        \n",
    "    ax.set_ylabel('Accuracy')\n",
    "    ax.set_xticks(ind + width)\n",
    "    ax.set_xticklabels(x_labels)\n",
    "    ax.legend(rects, clf, bbox_to_anchor=(1, 1))\n",
    "\n",
    "    plt.show()"
   ]
  },
  {
   "cell_type": "code",
   "execution_count": 6,
   "metadata": {},
   "outputs": [
    {
     "name": "stdout",
     "output_type": "stream",
     "text": [
      "Accuracy using DecisionTreeClassifier:\n",
      "- Iris dataset: 0.95\n",
      "- Wine dataset: 0.9583333333333334\n",
      "- Breast Cancer dataset: 0.9078947368421053\n",
      "Accuracy using SVC:\n",
      "- Iris dataset: 0.95\n",
      "- Wine dataset: 0.4861111111111111\n",
      "- Breast Cancer dataset: 0.6359649122807017\n",
      "Accuracy using RandomForestClassifier:\n",
      "- Iris dataset: 0.9333333333333333\n",
      "- Wine dataset: 0.9722222222222222\n",
      "- Breast Cancer dataset: 0.9429824561403509\n",
      "Accuracy using KNeighborsClassifier:\n",
      "- Iris dataset: 0.95\n",
      "- Wine dataset: 0.6666666666666666\n",
      "- Breast Cancer dataset: 0.9517543859649122\n"
     ]
    }
   ],
   "source": [
    "iris = datasets.load_iris()\n",
    "wine = datasets.load_wine()\n",
    "breast_cancer = datasets.load_breast_cancer()\n",
    "\n",
    "new_datasets = [iris, wine, breast_cancer]\n",
    "new_dataset_names = ['Iris', 'Wine', 'Breast Cancer']\n",
    "\n",
    "new_clfs = [DecisionTreeClassifier(), SVC(), RandomForestClassifier(), KNeighborsClassifier()]\n",
    "new_clf_names = [str(clf).split('(')[0] for clf in new_clfs]\n",
    "\n",
    "new_result = calcAcc(new_clfs, new_clf_names, new_datasets, new_dataset_names)"
   ]
  },
  {
   "cell_type": "code",
   "execution_count": 7,
   "metadata": {},
   "outputs": [
    {
     "data": {
      "image/png": "[encoded data removed]",
      "text/plain": [
       "<matplotlib.figure.Figure at 0x2a6746037b8>"
      ]
     },
     "metadata": {},
     "output_type": "display_data"
    }
   ],
   "source": [
    "N = 3\n",
    "plotBars(N, new_result, ('Iris', 'Wine', 'Breast Cancer'))"
   ]
  }
 ],
 "metadata": {
  "kernelspec": {
   "display_name": "Python 3",
   "language": "python",
   "name": "python3"
  },
  "language_info": {
   "codemirror_mode": {
    "name": "ipython",
    "version": 3
   },
   "file_extension": ".py",
   "mimetype": "text/x-python",
   "name": "python",
   "nbconvert_exporter": "python",
   "pygments_lexer": "ipython3",
   "version": "3.6.6"
  },
  "latex_envs": {
   "LaTeX_envs_menu_present": true,
   "autoclose": false,
   "autocomplete": true,
   "bibliofile": "biblio.bib",
   "cite_by": "apalike",
   "current_citInitial": 1,
   "eqLabelWithNumbers": true,
   "eqNumInitial": 1,
   "hotkeys": {
    "equation": "Ctrl-E",
    "itemize": "Ctrl-I"
   },
   "labels_anchors": false,
   "latex_user_defs": false,
   "report_style_numbering": false,
   "user_envs_cfg": false
  }
 },
 "nbformat": 4,
 "nbformat_minor": 2
}
