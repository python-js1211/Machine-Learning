{
 "cells": [
  {
   "cell_type": "markdown",
   "metadata": {},
   "source": [
    "### Hyperparameter Tuning"
   ]
  },
  {
   "cell_type": "code",
   "execution_count": 1,
   "metadata": {},
   "outputs": [],
   "source": [
    "from sklearn import datasets\n",
    "from sklearn.svm import SVC\n",
    "from sklearn.model_selection import GridSearchCV\n",
    "from sklearn.model_selection import cross_val_score"
   ]
  },
  {
   "cell_type": "code",
   "execution_count": 2,
   "metadata": {},
   "outputs": [],
   "source": [
    "wine = datasets.load_wine()\n",
    "n_folds = 10"
   ]
  },
  {
   "cell_type": "code",
   "execution_count": 3,
   "metadata": {},
   "outputs": [],
   "source": [
    "def gridSearch(X, Y):\n",
    "    params_grid = {'C': [0.001, 0.01, 0.1, 1, 10, 100], 'gamma': [0.0001, 0.001, 0.01, 0.1]}\n",
    "    grid = GridSearchCV(SVC(), param_grid=params_grid)\n",
    "    grid.fit(X, Y)\n",
    "    return (grid.best_params_['C'], grid.best_params_['gamma'])"
   ]
  },
  {
   "cell_type": "code",
   "execution_count": 4,
   "metadata": {},
   "outputs": [
    {
     "name": "stdout",
     "output_type": "stream",
     "text": [
      "The best Hyperparameters are:\n",
      "- C = 100,\n",
      "- gamma = 0.0001\n",
      "Accuracy of SVC on the wine dataset after Hyperparameter tuning:\n",
      "[0.89473684 0.88888889 1.         1.         0.94444444 0.94444444\n",
      " 1.         1.         1.         1.        ]\n"
     ]
    }
   ],
   "source": [
    "X = wine.data\n",
    "Y = wine.target\n",
    "C, gamma = gridSearch(X, Y)\n",
    "print(\"The best Hyperparameters are:\\n- C = {},\\n- gamma = {}\".format(C, gamma))\n",
    "\n",
    "clf = SVC(kernel='linear', C = C, gamma = gamma)\n",
    "score = cross_val_score(clf, X, Y, cv = n_folds)\n",
    "print('Accuracy of SVC on the wine dataset after Hyperparameter tuning:\\n{}'.format(score))"
   ]
  }
 ],
 "metadata": {
  "kernelspec": {
   "display_name": "Python 3",
   "language": "python",
   "name": "python3"
  },
  "language_info": {
   "codemirror_mode": {
    "name": "ipython",
    "version": 3
   },
   "file_extension": ".py",
   "mimetype": "text/x-python",
   "name": "python",
   "nbconvert_exporter": "python",
   "pygments_lexer": "ipython3",
   "version": "3.6.8"
  }
 },
 "nbformat": 4,
 "nbformat_minor": 2
}
