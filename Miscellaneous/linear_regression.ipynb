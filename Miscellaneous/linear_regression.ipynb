{
 "cells": [
  {
   "cell_type": "markdown",
   "metadata": {},
   "source": [
    "### Linear Regression\n",
    "The table below gives the age (in year) and mileage (in KMs) of four used cars:\n",
    "\n",
    "|  CAR  | Wartburg | Moskvich | Lada | Trabi |\n",
    "| ----- |----------| -------- | ---- | ----- |\n",
    "| Age | 5 | 7 | 15 | 28 |\n",
    "| Mileage | 30530 | 90000 | 159899 | 270564 |\n",
    "\n",
    "1. Determine the weights $w_0$ and $w_0$ for a simple linear regression to predict mileage from age.\n",
    "2. Use the model from $1$ to predict the mileage for a 15-year old car.\n",
    "3. Draw a scatter plot of the data and a plot of the linear regression line."
   ]
  },
  {
   "cell_type": "code",
   "execution_count": 1,
   "metadata": {},
   "outputs": [],
   "source": [
    "X = [5, 7, 15, 28]\n",
    "Y = [30530, 90000, 159899, 270564]"
   ]
  },
  {
   "cell_type": "markdown",
   "metadata": {},
   "source": [
    "#### Task 1"
   ]
  },
  {
   "cell_type": "code",
   "execution_count": 2,
   "metadata": {},
   "outputs": [
    {
     "name": "stdout",
     "output_type": "stream",
     "text": [
      "x_mean: 13.750\n",
      "y_mean: 137748.250\n"
     ]
    }
   ],
   "source": [
    "x_mean = sum(X) / 4\n",
    "y_mean = sum(Y) / 4\n",
    "print('x_mean: {:.3f}\\ny_mean: {:.3f}'.format(x_mean, y_mean))"
   ]
  },
  {
   "cell_type": "markdown",
   "metadata": {},
   "source": [
    "$w_0$ and $w_1$ can be calculated as\n",
    "\n",
    "$w_0=\\bar{y}-w_1\\bar{x}$\n",
    "\n",
    "$w_1 =\\frac{Cov(x,y)}{Var(x)}=\\frac{\\sum_{i=1}^{n} (x_i-\\bar{x})(y_i-\\bar{y})}{\\sum_{i=1}^{n} (x_i-\\bar{x})^2}$"
   ]
  },
  {
   "cell_type": "code",
   "execution_count": 3,
   "metadata": {},
   "outputs": [],
   "source": [
    "cov = var = 0\n",
    "for i in range(4):\n",
    "    cov += ((Y[i] - y_mean) * (X[i] - x_mean))\n",
    "    var += (X[i] - x_mean) ** 2"
   ]
  },
  {
   "cell_type": "code",
   "execution_count": 4,
   "metadata": {},
   "outputs": [
    {
     "name": "stdout",
     "output_type": "stream",
     "text": [
      "Weights:\n",
      "w0: 3897.807\n",
      "w1: 9734.578\n"
     ]
    }
   ],
   "source": [
    "w1 = cov / var\n",
    "w0 = y_mean - (w1 * x_mean)\n",
    "print('Weights:\\nw0: {:.3f}\\nw1: {:.3f}'.format(w0, w1))"
   ]
  },
  {
   "cell_type": "markdown",
   "metadata": {},
   "source": [
    "#### Task 2"
   ]
  },
  {
   "cell_type": "code",
   "execution_count": 5,
   "metadata": {},
   "outputs": [],
   "source": [
    "def predict(x):\n",
    "    return w0 + (w1 * x)"
   ]
  },
  {
   "cell_type": "code",
   "execution_count": 6,
   "metadata": {},
   "outputs": [
    {
     "name": "stdout",
     "output_type": "stream",
     "text": [
      "Mileage for a 15-year old car is 149916.472 km\n"
     ]
    }
   ],
   "source": [
    "age = 15\n",
    "print('Mileage for a {}-year old car is {:.3f} km'.format(age, predict(age)))"
   ]
  },
  {
   "cell_type": "markdown",
   "metadata": {},
   "source": [
    "#### Task 3"
   ]
  },
  {
   "cell_type": "code",
   "execution_count": 8,
   "metadata": {},
   "outputs": [
    {
     "data": {
      "image/png": "[encoded data removed]",
      "text/plain": [
       "<matplotlib.figure.Figure at 0x1d131664f60>"
      ]
     },
     "metadata": {
      "needs_background": "light"
     },
     "output_type": "display_data"
    }
   ],
   "source": [
    "import matplotlib.pyplot as plt\n",
    "\n",
    "plt.scatter(X, Y, color = 'g')\n",
    "\n",
    "prediction = []\n",
    "for i in range(len(X)):\n",
    "    prediction.append(predict(X[i]))\n",
    "    x1 = (X[i], X[i])\n",
    "    y1 = (Y[i], prediction[i])\n",
    "    plt.plot(x1, y1, color = 'r')\n",
    "    \n",
    "plt.plot(X, prediction, color = 'black')\n",
    "plt.scatter(X, prediction, color = 'r')\n",
    "plt.show()"
   ]
  }
 ],
 "metadata": {
  "kernelspec": {
   "display_name": "Python 3",
   "language": "python",
   "name": "python3"
  },
  "language_info": {
   "codemirror_mode": {
    "name": "ipython",
    "version": 3
   },
   "file_extension": ".py",
   "mimetype": "text/x-python",
   "name": "python",
   "nbconvert_exporter": "python",
   "pygments_lexer": "ipython3",
   "version": "3.6.7"
  }
 },
 "nbformat": 4,
 "nbformat_minor": 2
}
