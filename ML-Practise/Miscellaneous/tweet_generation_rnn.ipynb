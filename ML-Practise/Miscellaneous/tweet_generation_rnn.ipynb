{
  "nbformat": 4,
  "nbformat_minor": 0,
  "metadata": {
    "colab": {
      "name": "tweet_generation_rnn.ipynb",
      "version": "0.3.2",
      "provenance": [],
      "collapsed_sections": [],
      "include_colab_link": true
    },
    "kernelspec": {
      "name": "python3",
      "display_name": "Python 3"
    },
    "accelerator": "GPU"
  },
  "cells": [
    {
      "cell_type": "markdown",
      "metadata": {
        "id": "view-in-github",
        "colab_type": "text"
      },
      "source": [
        "<a href=\"https://colab.research.google.com/github/harshildarji/ML-Practise/blob/master/ML-Practise/Miscellaneous/tweet_generation_rnn.ipynb\" target=\"_parent\"><img src=\"https://colab.research.google.com/assets/colab-badge.svg\" alt=\"Open In Colab\"/></a>"
      ]
    },
    {
      "cell_type": "markdown",
      "metadata": {
        "id": "RbSIIKxMJ6OU",
        "colab_type": "text"
      },
      "source": [
        "### Text generation using RNN trained on tweets"
      ]
    },
    {
      "cell_type": "markdown",
      "metadata": {
        "id": "GmnzHhP9KMD7",
        "colab_type": "text"
      },
      "source": [
        "Based on: [Beginners Guide to Text Generation using LSTMs](https://www.kaggle.com/shivamb/beginners-guide-to-text-generation-using-lstms)"
      ]
    },
    {
      "cell_type": "code",
      "metadata": {
        "id": "91akTxO0V_ii",
        "colab_type": "code",
        "outputId": "daca68a4-0ec1-4d6f-dd95-74c559089a83",
        "colab": {
          "base_uri": "https://localhost:8080/",
          "height": 34
        }
      },
      "source": [
        "%tensorflow_version 2.x"
      ],
      "execution_count": 1,
      "outputs": [
        {
          "output_type": "stream",
          "text": [
            "TensorFlow 2.x selected.\n"
          ],
          "name": "stdout"
        }
      ]
    },
    {
      "cell_type": "code",
      "metadata": {
        "id": "1OkOtjqWWNeR",
        "colab_type": "code",
        "colab": {}
      },
      "source": [
        "from tensorflow.keras.preprocessing.sequence import pad_sequences\n",
        "from tensorflow.keras.layers import Embedding, LSTM, Dense, Dropout\n",
        "from tensorflow.keras.preprocessing.text import Tokenizer\n",
        "from tensorflow.keras.callbacks import EarlyStopping\n",
        "from tensorflow.keras.models import Sequential\n",
        "import tensorflow.keras.utils as ku"
      ],
      "execution_count": 0,
      "outputs": []
    },
    {
      "cell_type": "code",
      "metadata": {
        "id": "otZmMFMtWpMF",
        "colab_type": "code",
        "colab": {}
      },
      "source": [
        "from tensorflow.random import set_seed\n",
        "from numpy.random import seed\n",
        "set_seed(2)\n",
        "seed(1)"
      ],
      "execution_count": 0,
      "outputs": []
    },
    {
      "cell_type": "code",
      "metadata": {
        "id": "0HGR2d3xW3Jh",
        "colab_type": "code",
        "colab": {}
      },
      "source": [
        "import pandas as pd\n",
        "import numpy as np\n",
        "import string, os"
      ],
      "execution_count": 0,
      "outputs": []
    },
    {
      "cell_type": "code",
      "metadata": {
        "id": "Z07l2AqiXcYK",
        "colab_type": "code",
        "colab": {}
      },
      "source": [
        "import warnings\n",
        "warnings.filterwarnings('ignore')\n",
        "warnings.simplefilter(action='ignore', category=FutureWarning)"
      ],
      "execution_count": 0,
      "outputs": []
    },
    {
      "cell_type": "code",
      "metadata": {
        "id": "Sp2NDqmuew34",
        "colab_type": "code",
        "colab": {}
      },
      "source": [
        "import io, requests"
      ],
      "execution_count": 0,
      "outputs": []
    },
    {
      "cell_type": "markdown",
      "metadata": {
        "id": "gYLuHC54Xo6i",
        "colab_type": "text"
      },
      "source": [
        "#### Load the dataset"
      ]
    },
    {
      "cell_type": "code",
      "metadata": {
        "id": "PfYASa4yXwnI",
        "colab_type": "code",
        "colab": {}
      },
      "source": [
        "url = 'https://raw.githubusercontent.com/harshildarji/DataScienceLab/master/data/train_data.csv'\n",
        "_data = requests.get(url).content\n",
        "data = pd.read_csv(io.StringIO(_data.decode('utf-8')))"
      ],
      "execution_count": 0,
      "outputs": []
    },
    {
      "cell_type": "code",
      "metadata": {
        "id": "CbcaCJZoX6k7",
        "colab_type": "code",
        "colab": {}
      },
      "source": [
        "data = data.pop('tweet')"
      ],
      "execution_count": 0,
      "outputs": []
    },
    {
      "cell_type": "code",
      "metadata": {
        "id": "6o9vvCannRMN",
        "colab_type": "code",
        "colab": {}
      },
      "source": [
        "data = data.dropna().reset_index(drop=True)"
      ],
      "execution_count": 0,
      "outputs": []
    },
    {
      "cell_type": "code",
      "metadata": {
        "id": "W5L9UIalX-J6",
        "colab_type": "code",
        "outputId": "65dc0e50-8334-472f-d8c8-492340186b98",
        "colab": {
          "base_uri": "https://localhost:8080/",
          "height": 119
        }
      },
      "source": [
        "data.head()"
      ],
      "execution_count": 10,
      "outputs": [
        {
          "output_type": "execute_result",
          "data": {
            "text/plain": [
              "0    mariotti did your ancestors have to apply thro...\n",
              "1    rule of law all the liberals including her wan...\n",
              "2    rt japanmissionun thank you unicef unhcr nyoff...\n",
              "3    know a good law firm in stirling immigration c...\n",
              "4    wall street ally with a skepticism of immigrat...\n",
              "Name: tweet, dtype: object"
            ]
          },
          "metadata": {
            "tags": []
          },
          "execution_count": 10
        }
      ]
    },
    {
      "cell_type": "markdown",
      "metadata": {
        "id": "n1jWwxLaX_dH",
        "colab_type": "text"
      },
      "source": [
        "#### Generating n-gram tokens"
      ]
    },
    {
      "cell_type": "code",
      "metadata": {
        "id": "Sp_G2_0PYHnC",
        "colab_type": "code",
        "colab": {}
      },
      "source": [
        "tokenizer = Tokenizer()"
      ],
      "execution_count": 0,
      "outputs": []
    },
    {
      "cell_type": "code",
      "metadata": {
        "id": "SRZ78JGFYKN4",
        "colab_type": "code",
        "colab": {}
      },
      "source": [
        "def get_sequence_of_token(corpus):\n",
        "    tokenizer.fit_on_texts(corpus)\n",
        "    total_words = len(tokenizer.word_index) + 1\n",
        "    \n",
        "    input_sequences = []\n",
        "    for line in corpus:\n",
        "        token_list = tokenizer.texts_to_sequences([line])[0]\n",
        "        for i in range(1, len(token_list)):\n",
        "            n_gram_sequence = token_list[:i+1]\n",
        "            input_sequences.append(n_gram_sequence)\n",
        "    \n",
        "    return input_sequences, total_words"
      ],
      "execution_count": 0,
      "outputs": []
    },
    {
      "cell_type": "code",
      "metadata": {
        "id": "I5S7upptY3lc",
        "colab_type": "code",
        "colab": {}
      },
      "source": [
        "input_sequences, total_words = get_sequence_of_token(data)"
      ],
      "execution_count": 0,
      "outputs": []
    },
    {
      "cell_type": "markdown",
      "metadata": {
        "id": "lbnM5ujRaHUK",
        "colab_type": "text"
      },
      "source": [
        "#### Padding"
      ]
    },
    {
      "cell_type": "code",
      "metadata": {
        "id": "EuybIVqZaQeU",
        "colab_type": "code",
        "colab": {}
      },
      "source": [
        "def generate_pad_sequences(input_sequences):\n",
        "    max_sequence_len = max([len(s) for s in input_sequences])\n",
        "    input_sequences = np.array(pad_sequences(input_sequences, maxlen=max_sequence_len, padding='pre'))\n",
        "    predictors, label = input_sequences[:,:-1], input_sequences[:,-1]\n",
        "    label = ku.to_categorical(label, num_classes=total_words)\n",
        "    return predictors, label, max_sequence_len"
      ],
      "execution_count": 0,
      "outputs": []
    },
    {
      "cell_type": "code",
      "metadata": {
        "id": "tA133V8pbz-r",
        "colab_type": "code",
        "colab": {}
      },
      "source": [
        "predictors, label, max_sequence_len = generate_pad_sequences(input_sequences)"
      ],
      "execution_count": 0,
      "outputs": []
    },
    {
      "cell_type": "markdown",
      "metadata": {
        "id": "h9WU9BA0cCHQ",
        "colab_type": "text"
      },
      "source": [
        "#### Define the model"
      ]
    },
    {
      "cell_type": "code",
      "metadata": {
        "id": "kHj6IpH8ctkI",
        "colab_type": "code",
        "colab": {}
      },
      "source": [
        "def build_model(max_sequence_len, total_words):\n",
        "    input_len = max_sequence_len - 1\n",
        "    model = Sequential([\n",
        "        Embedding(total_words, 10, input_length=input_len),\n",
        "        LSTM(100),\n",
        "        Dropout(0.1),\n",
        "        Dense(total_words, activation='softmax')\n",
        "    ])\n",
        "    \n",
        "    model.compile(optimizer='adam',\n",
        "                 loss='categorical_crossentropy')\n",
        "    \n",
        "    return model"
      ],
      "execution_count": 0,
      "outputs": []
    },
    {
      "cell_type": "code",
      "metadata": {
        "id": "wj6KFbKIddZF",
        "colab_type": "code",
        "colab": {}
      },
      "source": [
        "model = build_model(max_sequence_len, total_words)"
      ],
      "execution_count": 0,
      "outputs": []
    },
    {
      "cell_type": "code",
      "metadata": {
        "id": "iLYuTCmJdkI2",
        "colab_type": "code",
        "colab": {
          "base_uri": "https://localhost:8080/",
          "height": 289
        },
        "outputId": "e3d97170-328b-4daa-f82a-bba48bd4529f"
      },
      "source": [
        "model.summary()"
      ],
      "execution_count": 18,
      "outputs": [
        {
          "output_type": "stream",
          "text": [
            "Model: \"sequential\"\n",
            "_________________________________________________________________\n",
            "Layer (type)                 Output Shape              Param #   \n",
            "=================================================================\n",
            "embedding (Embedding)        (None, 63, 10)            102360    \n",
            "_________________________________________________________________\n",
            "lstm (LSTM)                  (None, 100)               44400     \n",
            "_________________________________________________________________\n",
            "dropout (Dropout)            (None, 100)               0         \n",
            "_________________________________________________________________\n",
            "dense (Dense)                (None, 10236)             1033836   \n",
            "=================================================================\n",
            "Total params: 1,180,596\n",
            "Trainable params: 1,180,596\n",
            "Non-trainable params: 0\n",
            "_________________________________________________________________\n"
          ],
          "name": "stdout"
        }
      ]
    },
    {
      "cell_type": "code",
      "metadata": {
        "id": "99jSkm_qeJ-5",
        "colab_type": "code",
        "colab": {
          "base_uri": "https://localhost:8080/",
          "height": 1000
        },
        "outputId": "6586388b-f233-4c9a-fc15-88cb6bdec315"
      },
      "source": [
        "model.fit(predictors, label, epochs=50)"
      ],
      "execution_count": 19,
      "outputs": [
        {
          "output_type": "stream",
          "text": [
            "Train on 85819 samples\n",
            "Epoch 1/50\n",
            "WARNING:tensorflow:Entity <function Function._initialize_uninitialized_variables.<locals>.initialize_variables at 0x7fdfa0347ea0> could not be transformed and will be executed as-is. Please report this to the AutoGraph team. When filing the bug, set the verbosity to 10 (on Linux, `export AUTOGRAPH_VERBOSITY=10`) and attach the full output. Cause: module 'gast' has no attribute 'Num'\n",
            "WARNING: Entity <function Function._initialize_uninitialized_variables.<locals>.initialize_variables at 0x7fdfa0347ea0> could not be transformed and will be executed as-is. Please report this to the AutoGraph team. When filing the bug, set the verbosity to 10 (on Linux, `export AUTOGRAPH_VERBOSITY=10`) and attach the full output. Cause: module 'gast' has no attribute 'Num'\n",
            "85819/85819 [==============================] - 59s 693us/sample - loss: 7.2494\n",
            "Epoch 2/50\n",
            "85819/85819 [==============================] - 57s 666us/sample - loss: 6.7424\n",
            "Epoch 3/50\n",
            "85819/85819 [==============================] - 57s 662us/sample - loss: 6.3431\n",
            "Epoch 4/50\n",
            "85819/85819 [==============================] - 57s 662us/sample - loss: 5.9811\n",
            "Epoch 5/50\n",
            "85819/85819 [==============================] - 57s 664us/sample - loss: 5.6626\n",
            "Epoch 6/50\n",
            "85819/85819 [==============================] - 57s 661us/sample - loss: 5.3832\n",
            "Epoch 7/50\n",
            "85819/85819 [==============================] - 57s 663us/sample - loss: 5.1351\n",
            "Epoch 8/50\n",
            "85819/85819 [==============================] - 57s 662us/sample - loss: 4.9121\n",
            "Epoch 9/50\n",
            "85819/85819 [==============================] - 57s 661us/sample - loss: 4.7174\n",
            "Epoch 10/50\n",
            "85819/85819 [==============================] - 57s 661us/sample - loss: 4.5338\n",
            "Epoch 11/50\n",
            "85819/85819 [==============================] - 57s 661us/sample - loss: 4.3641\n",
            "Epoch 12/50\n",
            "85819/85819 [==============================] - 57s 660us/sample - loss: 4.2118\n",
            "Epoch 13/50\n",
            "85819/85819 [==============================] - 57s 665us/sample - loss: 4.0667\n",
            "Epoch 14/50\n",
            "85819/85819 [==============================] - 56s 658us/sample - loss: 3.9400\n",
            "Epoch 15/50\n",
            "85819/85819 [==============================] - 57s 669us/sample - loss: 3.8193\n",
            "Epoch 16/50\n",
            "85819/85819 [==============================] - 57s 668us/sample - loss: 3.7056\n",
            "Epoch 17/50\n",
            "85819/85819 [==============================] - 57s 659us/sample - loss: 3.6063\n",
            "Epoch 18/50\n",
            "85819/85819 [==============================] - 57s 663us/sample - loss: 3.5055\n",
            "Epoch 19/50\n",
            "85819/85819 [==============================] - 57s 661us/sample - loss: 3.4180\n",
            "Epoch 20/50\n",
            "85819/85819 [==============================] - 56s 657us/sample - loss: 3.3385\n",
            "Epoch 21/50\n",
            "85819/85819 [==============================] - 57s 661us/sample - loss: 3.2612\n",
            "Epoch 22/50\n",
            "85819/85819 [==============================] - 57s 658us/sample - loss: 3.1981\n",
            "Epoch 23/50\n",
            "85819/85819 [==============================] - 57s 659us/sample - loss: 3.1293\n",
            "Epoch 24/50\n",
            "85819/85819 [==============================] - 57s 660us/sample - loss: 3.0700\n",
            "Epoch 25/50\n",
            "85819/85819 [==============================] - 56s 657us/sample - loss: 3.0154\n",
            "Epoch 26/50\n",
            "85819/85819 [==============================] - 57s 659us/sample - loss: 2.9670\n",
            "Epoch 27/50\n",
            "85819/85819 [==============================] - 57s 664us/sample - loss: 2.9192\n",
            "Epoch 28/50\n",
            "85819/85819 [==============================] - 57s 665us/sample - loss: 2.8750\n",
            "Epoch 29/50\n",
            "85819/85819 [==============================] - 57s 670us/sample - loss: 2.8307\n",
            "Epoch 30/50\n",
            "85819/85819 [==============================] - 57s 662us/sample - loss: 2.7926\n",
            "Epoch 31/50\n",
            "85819/85819 [==============================] - 57s 661us/sample - loss: 2.7568\n",
            "Epoch 32/50\n",
            "85819/85819 [==============================] - 57s 664us/sample - loss: 2.7280\n",
            "Epoch 33/50\n",
            "85819/85819 [==============================] - 57s 663us/sample - loss: 2.6911\n",
            "Epoch 34/50\n",
            "85819/85819 [==============================] - 57s 663us/sample - loss: 2.6604\n",
            "Epoch 35/50\n",
            "85819/85819 [==============================] - 57s 664us/sample - loss: 2.6330\n",
            "Epoch 36/50\n",
            "85819/85819 [==============================] - 57s 665us/sample - loss: 2.6076\n",
            "Epoch 37/50\n",
            "85819/85819 [==============================] - 56s 658us/sample - loss: 2.5833\n",
            "Epoch 38/50\n",
            "85819/85819 [==============================] - 57s 663us/sample - loss: 2.5594\n",
            "Epoch 39/50\n",
            "85819/85819 [==============================] - 57s 661us/sample - loss: 2.5330\n",
            "Epoch 40/50\n",
            "85819/85819 [==============================] - 57s 668us/sample - loss: 2.5115\n",
            "Epoch 41/50\n",
            "85819/85819 [==============================] - 57s 660us/sample - loss: 2.4970\n",
            "Epoch 42/50\n",
            "85819/85819 [==============================] - 57s 664us/sample - loss: 2.4739\n",
            "Epoch 43/50\n",
            "85819/85819 [==============================] - 57s 662us/sample - loss: 2.4506\n",
            "Epoch 44/50\n",
            "85819/85819 [==============================] - 57s 663us/sample - loss: 2.4404\n",
            "Epoch 45/50\n",
            "85819/85819 [==============================] - 57s 666us/sample - loss: 2.4253\n",
            "Epoch 46/50\n",
            "85819/85819 [==============================] - 57s 667us/sample - loss: 2.4057\n",
            "Epoch 47/50\n",
            "85819/85819 [==============================] - 57s 663us/sample - loss: 2.3893\n",
            "Epoch 48/50\n",
            "85819/85819 [==============================] - 57s 663us/sample - loss: 2.3740\n",
            "Epoch 49/50\n",
            "85819/85819 [==============================] - 57s 660us/sample - loss: 2.3620\n",
            "Epoch 50/50\n",
            "85819/85819 [==============================] - 57s 663us/sample - loss: 2.3497\n"
          ],
          "name": "stdout"
        },
        {
          "output_type": "execute_result",
          "data": {
            "text/plain": [
              "<tensorflow.python.keras.callbacks.History at 0x7fdfa02ffc50>"
            ]
          },
          "metadata": {
            "tags": []
          },
          "execution_count": 19
        }
      ]
    },
    {
      "cell_type": "code",
      "metadata": {
        "id": "pEfguCRUlomT",
        "colab_type": "code",
        "colab": {}
      },
      "source": [
        "model.save('model.h5')"
      ],
      "execution_count": 0,
      "outputs": []
    },
    {
      "cell_type": "markdown",
      "metadata": {
        "id": "sFE1wsiteTx_",
        "colab_type": "text"
      },
      "source": [
        "#### Generate text"
      ]
    },
    {
      "cell_type": "code",
      "metadata": {
        "id": "eUtAzKJQfUIJ",
        "colab_type": "code",
        "colab": {}
      },
      "source": [
        "def generate_text(seed_text, next_words, model, max_sequence_len):\n",
        "    for _ in range(next_words):\n",
        "        token_list = tokenizer.texts_to_sequences([seed_text])[0]\n",
        "        token_list = pad_sequences([token_list], maxlen=max_sequence_len-1, padding='pre')\n",
        "        predicted = model.predict_classes(token_list, verbose=0)\n",
        "        \n",
        "        output_word = ''\n",
        "        for word, index in tokenizer.word_index.items():\n",
        "            if index == predicted:\n",
        "                output_word = word\n",
        "                break\n",
        "                \n",
        "        seed_text += ' ' + output_word\n",
        "        \n",
        "    return seed_text.title()"
      ],
      "execution_count": 0,
      "outputs": []
    },
    {
      "cell_type": "code",
      "metadata": {
        "id": "awQEN02OgLBL",
        "colab_type": "code",
        "colab": {
          "base_uri": "https://localhost:8080/",
          "height": 34
        },
        "outputId": "d3946b0e-0d3c-49f2-a135-241631b73e7d"
      },
      "source": [
        "generate_text('migrants from', 12, model, max_sequence_len)"
      ],
      "execution_count": 22,
      "outputs": [
        {
          "output_type": "execute_result",
          "data": {
            "text/plain": [
              "'Migrants From Hungary Police Lines Hundreds Of Migrants Break Through Police Lines In Border'"
            ]
          },
          "metadata": {
            "tags": []
          },
          "execution_count": 22
        }
      ]
    }
  ]
}