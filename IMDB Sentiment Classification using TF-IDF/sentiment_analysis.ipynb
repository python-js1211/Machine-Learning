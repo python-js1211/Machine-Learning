{
 "cells": [
  {
   "cell_type": "markdown",
   "metadata": {
    "colab_type": "text",
    "id": "i7dDrmfqw7C8"
   },
   "source": [
    "### Word Embedding & Sentiment Classification\n",
    "**Note:** The dataset used here is obtained from initial preprocessing on the [original dataset](http://ai.stanford.edu/~amaas/data/sentiment/)."
   ]
  },
  {
   "cell_type": "code",
   "execution_count": 1,
   "metadata": {
    "colab": {},
    "colab_type": "code",
    "id": "fMes9CR_whPo",
    "scrolled": false
   },
   "outputs": [],
   "source": [
    "import warnings\n",
    "warnings.simplefilter('ignore')"
   ]
  },
  {
   "cell_type": "code",
   "execution_count": 2,
   "metadata": {
    "colab": {
     "base_uri": "https://localhost:8080/",
     "height": 102
    },
    "colab_type": "code",
    "id": "DWIIOXlfwhPt",
    "outputId": "575b4933-b8ea-4ffa-a971-c6312968ca40",
    "scrolled": false
   },
   "outputs": [
    {
     "name": "stderr",
     "output_type": "stream",
     "text": [
      "Using TensorFlow backend.\n",
      "[nltk_data] Downloading package punkt to\n",
      "[nltk_data]     C:\\Users\\harshil\\AppData\\Roaming\\nltk_data...\n",
      "[nltk_data]   Package punkt is already up-to-date!\n",
      "[nltk_data] Downloading package stopwords to\n",
      "[nltk_data]     C:\\Users\\harshil\\AppData\\Roaming\\nltk_data...\n",
      "[nltk_data]   Package stopwords is already up-to-date!\n"
     ]
    },
    {
     "data": {
      "text/plain": [
       "True"
      ]
     },
     "execution_count": 2,
     "metadata": {},
     "output_type": "execute_result"
    }
   ],
   "source": [
    "import numpy as np\n",
    "import pandas as pd\n",
    "import pylab as plt\n",
    "import matplotlib.pyplot as plt\n",
    "\n",
    "from sklearn.linear_model import LogisticRegression\n",
    "\n",
    "from sklearn.model_selection import train_test_split\n",
    "from sklearn.metrics import accuracy_score, precision_score, recall_score, f1_score\n",
    "from sklearn.model_selection import KFold, cross_val_score\n",
    "from sklearn.metrics import cohen_kappa_score\n",
    "\n",
    "from sklearn.feature_extraction.text import TfidfVectorizer\n",
    "import pickle\n",
    "\n",
    "from imblearn.over_sampling import SMOTE\n",
    "from nltk.tokenize import word_tokenize\n",
    "from nltk.corpus import stopwords\n",
    "\n",
    "import nltk\n",
    "nltk.download('punkt')\n",
    "nltk.download('stopwords')"
   ]
  },
  {
   "cell_type": "markdown",
   "metadata": {
    "colab_type": "text",
    "id": "qUOOSSK4whP0"
   },
   "source": [
    "#### Import and prepare dataset"
   ]
  },
  {
   "cell_type": "code",
   "execution_count": 3,
   "metadata": {
    "colab": {},
    "colab_type": "code",
    "id": "gg3evPY5whP2",
    "scrolled": false
   },
   "outputs": [],
   "source": [
    "data = pd.read_csv('./datasets/data.csv')"
   ]
  },
  {
   "cell_type": "markdown",
   "metadata": {
    "colab_type": "text",
    "id": "27Bb0UAFzqgX"
   },
   "source": [
    "Let's see what's inside the *data*!"
   ]
  },
  {
   "cell_type": "code",
   "execution_count": 4,
   "metadata": {
    "colab": {
     "base_uri": "https://localhost:8080/",
     "height": 204
    },
    "colab_type": "code",
    "id": "skxKwp24whP5",
    "outputId": "1cb014b3-c199-4200-d5d1-7c91d0268e30",
    "scrolled": false
   },
   "outputs": [
    {
     "data": {
      "text/html": [
       "<div>\n",
       "<style scoped>\n",
       "    .dataframe tbody tr th:only-of-type {\n",
       "        vertical-align: middle;\n",
       "    }\n",
       "\n",
       "    .dataframe tbody tr th {\n",
       "        vertical-align: top;\n",
       "    }\n",
       "\n",
       "    .dataframe thead th {\n",
       "        text-align: right;\n",
       "    }\n",
       "</style>\n",
       "<table border=\"1\" class=\"dataframe\">\n",
       "  <thead>\n",
       "    <tr style=\"text-align: right;\">\n",
       "      <th></th>\n",
       "      <th>review</th>\n",
       "      <th>label</th>\n",
       "    </tr>\n",
       "  </thead>\n",
       "  <tbody>\n",
       "    <tr>\n",
       "      <th>0</th>\n",
       "      <td>this was painful i made myself watch it until ...</td>\n",
       "      <td>0.0</td>\n",
       "    </tr>\n",
       "    <tr>\n",
       "      <th>1</th>\n",
       "      <td>once again mr costner has dragged out a movie ...</td>\n",
       "      <td>0.0</td>\n",
       "    </tr>\n",
       "    <tr>\n",
       "      <th>2</th>\n",
       "      <td>by strange coincidence i ve started to watch t...</td>\n",
       "      <td>0.0</td>\n",
       "    </tr>\n",
       "    <tr>\n",
       "      <th>3</th>\n",
       "      <td>well the hero and the terror is slightly below...</td>\n",
       "      <td>0.0</td>\n",
       "    </tr>\n",
       "    <tr>\n",
       "      <th>4</th>\n",
       "      <td>well the hero and the terror is slightly below...</td>\n",
       "      <td>0.0</td>\n",
       "    </tr>\n",
       "  </tbody>\n",
       "</table>\n",
       "</div>"
      ],
      "text/plain": [
       "                                              review  label\n",
       "0  this was painful i made myself watch it until ...    0.0\n",
       "1  once again mr costner has dragged out a movie ...    0.0\n",
       "2  by strange coincidence i ve started to watch t...    0.0\n",
       "3  well the hero and the terror is slightly below...    0.0\n",
       "4  well the hero and the terror is slightly below...    0.0"
      ]
     },
     "execution_count": 4,
     "metadata": {},
     "output_type": "execute_result"
    }
   ],
   "source": [
    "data.head()"
   ]
  },
  {
   "cell_type": "markdown",
   "metadata": {
    "colab_type": "text",
    "id": "VOcuGkk70Fma"
   },
   "source": [
    "Here, Label $0.0$ means **_negative_** *sentiment*, while $1.0$ means **_positive_** *sentiment*.\n",
    "\n",
    "Now, let's check if our dataset contains any null values, if yes, drop those rows!"
   ]
  },
  {
   "cell_type": "code",
   "execution_count": 5,
   "metadata": {
    "colab": {
     "base_uri": "https://localhost:8080/",
     "height": 68
    },
    "colab_type": "code",
    "id": "AaMg5f6xwhP-",
    "outputId": "c4aac5d5-5645-4b00-f95a-3e936677eddf",
    "scrolled": false
   },
   "outputs": [
    {
     "data": {
      "text/plain": [
       "review    2\n",
       "label     5\n",
       "dtype: int64"
      ]
     },
     "execution_count": 5,
     "metadata": {},
     "output_type": "execute_result"
    }
   ],
   "source": [
    "data.isnull().sum()"
   ]
  },
  {
   "cell_type": "code",
   "execution_count": 6,
   "metadata": {
    "colab": {},
    "colab_type": "code",
    "id": "MxFwqZG1whQD",
    "scrolled": false
   },
   "outputs": [],
   "source": [
    "data = data.dropna().reset_index(drop=True)"
   ]
  },
  {
   "cell_type": "code",
   "execution_count": 7,
   "metadata": {
    "colab": {
     "base_uri": "https://localhost:8080/",
     "height": 68
    },
    "colab_type": "code",
    "id": "XzD0qFeMwhQH",
    "outputId": "6d24997c-d5cc-4282-a719-4d4e0c078062"
   },
   "outputs": [
    {
     "data": {
      "text/plain": [
       "review    0\n",
       "label     0\n",
       "dtype: int64"
      ]
     },
     "execution_count": 7,
     "metadata": {},
     "output_type": "execute_result"
    }
   ],
   "source": [
    "data.isnull().sum()"
   ]
  },
  {
   "cell_type": "markdown",
   "metadata": {
    "colab_type": "text",
    "id": "NEuLHvSy1PgV"
   },
   "source": [
    "Now it looks good!\n",
    "\n",
    "Next step, split the dataset in train-test!"
   ]
  },
  {
   "cell_type": "code",
   "execution_count": 8,
   "metadata": {
    "colab": {},
    "colab_type": "code",
    "id": "qkNJjcEToRHR"
   },
   "outputs": [],
   "source": [
    "X_train, X_test, y_train, y_test = train_test_split(data['review'], data['label'], test_size = .4, shuffle = False)"
   ]
  },
  {
   "cell_type": "code",
   "execution_count": 9,
   "metadata": {
    "colab": {
     "base_uri": "https://localhost:8080/",
     "height": 34
    },
    "colab_type": "code",
    "id": "3E-11-MboRHV",
    "outputId": "6b528fa3-1031-4f9e-ab97-7c5e6c4c615f"
   },
   "outputs": [
    {
     "data": {
      "text/plain": [
       "(29446, 29446, 19632, 19632)"
      ]
     },
     "execution_count": 9,
     "metadata": {},
     "output_type": "execute_result"
    }
   ],
   "source": [
    "len(X_train), len(y_train), len(X_test), len(y_test)"
   ]
  },
  {
   "cell_type": "markdown",
   "metadata": {
    "colab_type": "text",
    "id": "noJx6s-9oRHZ"
   },
   "source": [
    "#### A little about number of sentiments!"
   ]
  },
  {
   "cell_type": "code",
   "execution_count": 10,
   "metadata": {
    "colab": {
     "base_uri": "https://localhost:8080/",
     "height": 68
    },
    "colab_type": "code",
    "id": "BEyqdxI6oRHa",
    "outputId": "8da8b68c-faf9-49ed-f44c-8b512bd4091e"
   },
   "outputs": [
    {
     "name": "stdout",
     "output_type": "stream",
     "text": [
      "Sentiments in entire dataset:\n",
      " Positive: 24536\n",
      " Negative: 24542\n"
     ]
    }
   ],
   "source": [
    "sentiments = data['label'].value_counts()\n",
    "print('Sentiments in entire dataset:\\n Positive: {}\\n Negative: {}'.format(sentiments[1], sentiments[0]))"
   ]
  },
  {
   "cell_type": "markdown",
   "metadata": {
    "colab_type": "text",
    "id": "IOHOoZ03oRHe"
   },
   "source": [
    "After split,\n",
    "- Number of **_positive sentiments_** in **_train data + test data_** should be equal to the **_total number positive sentiments_** in entire dataset,\n",
    "- Likewise, Number of **_neagetive sentiments_** in **_train data + test data_** should be equal to the **_total number negative sentiments_** in entire dataset."
   ]
  },
  {
   "cell_type": "code",
   "execution_count": 11,
   "metadata": {
    "colab": {},
    "colab_type": "code",
    "id": "JQUqHzGeoRHf"
   },
   "outputs": [],
   "source": [
    "def get_sentiments(d, _d):\n",
    "    positive = (d==1).sum()\n",
    "    negative = (d==0).sum()\n",
    "    print('Sentiments in {}:\\n Positive: {}\\n Negative: {}'.format(_d, positive, negative))"
   ]
  },
  {
   "cell_type": "code",
   "execution_count": 12,
   "metadata": {
    "colab": {
     "base_uri": "https://localhost:8080/",
     "height": 119
    },
    "colab_type": "code",
    "id": "N-xS-FT4oRHk",
    "outputId": "20b13705-51f2-4ead-a0c0-25e3a4ec1e25"
   },
   "outputs": [
    {
     "name": "stdout",
     "output_type": "stream",
     "text": [
      "Sentiments in Train data:\n",
      " Positive: 12333\n",
      " Negative: 17113\n",
      "Sentiments in Test data:\n",
      " Positive: 12203\n",
      " Negative: 7429\n"
     ]
    }
   ],
   "source": [
    "get_sentiments(y_train, 'Train data')\n",
    "get_sentiments(y_test, 'Test data')"
   ]
  },
  {
   "cell_type": "markdown",
   "metadata": {
    "colab_type": "text",
    "id": "kGuzQZQg17B7"
   },
   "source": [
    "Everything seems right! Let's proceed further!"
   ]
  },
  {
   "cell_type": "markdown",
   "metadata": {
    "colab_type": "text",
    "id": "xLAoIbqWwhQd"
   },
   "source": [
    "#### TF-IDF"
   ]
  },
  {
   "cell_type": "markdown",
   "metadata": {
    "colab_type": "text",
    "id": "0vzy2Hsr6J8y"
   },
   "source": [
    "Now, as we all know, we cannot feed the data to a classifier as it is. We should first convert these data into a numerical form known as vectors.\n",
    "\n",
    "Here, we will use **TF-IDF** (**T**erm **F**requency–**I**nverse **D**ocument **F**requency), a numerical statistic that reflects how important a word is to a document in a collection or corpus by assigning some weight to it."
   ]
  },
  {
   "cell_type": "code",
   "execution_count": 13,
   "metadata": {
    "colab": {},
    "colab_type": "code",
    "id": "5jidIRxpwhQf"
   },
   "outputs": [],
   "source": [
    "def tokenize(text):\n",
    "    return [word for word in word_tokenize(text.lower()) if word not in stopwords.words('english')]"
   ]
  },
  {
   "cell_type": "markdown",
   "metadata": {
    "colab_type": "text",
    "id": "xhB9NBOB5eMs"
   },
   "source": [
    "Since our dataset contains in total $49078$ reviews, generating vectors will take a lot of time. Doing so every time will be a time-consuming task.\n",
    "\n",
    "Therefore, once we generate vectors in the first run, we can _store_ the **vocabulary** in a separate file. We can then use this saved vocabulary to _fit_ our _train_ and _test data_ in future runs (*of this program, of course!*).\n",
    "\n",
    "The following method will **_initialize vectorizer_** based on the chosen option."
   ]
  },
  {
   "cell_type": "code",
   "execution_count": 14,
   "metadata": {
    "colab": {},
    "colab_type": "code",
    "id": "i9WroF6gS-hE"
   },
   "outputs": [],
   "source": [
    "def choose_vectorizer(option):\n",
    "    if option == 'generate':\n",
    "        vectorizer = TfidfVectorizer(tokenizer = tokenize)\n",
    "    elif option == 'load':\n",
    "        vectorizer = TfidfVectorizer(vocabulary = pickle.load(open('vocabulary.pkl', 'rb')))\n",
    "    \n",
    "    return vectorizer"
   ]
  },
  {
   "cell_type": "markdown",
   "metadata": {
    "colab_type": "text",
    "id": "Eerky24vS-hK"
   },
   "source": [
    "In following code cell, choose the option **_generate_** if you want to generate vectors of train-test data again (*this will also store the vocabulary in the same directory as this project*) otherwise go with the option **_load_** if you already have vocabulary (*saved in the same directory as this project*)."
   ]
  },
  {
   "cell_type": "code",
   "execution_count": 15,
   "metadata": {
    "colab": {
     "base_uri": "https://localhost:8080/",
     "height": 51
    },
    "colab_type": "code",
    "id": "JXo6F0s3oRH2",
    "outputId": "ce7646d7-c3ac-4c8f-d62f-c84fc018b8d2"
   },
   "outputs": [
    {
     "name": "stdout",
     "output_type": "stream",
     "text": [
      "Wall time: 2h 4s\n"
     ]
    }
   ],
   "source": [
    "%%time\n",
    "options = ['generate', 'load']\n",
    "\n",
    "# 0 to generate, 1 to load (choose wisely, your life depends on it!)\n",
    "option = options[0] \n",
    "\n",
    "vectorizer = choose_vectorizer(option)\n",
    "vectorized_train_data = vectorizer.fit_transform(X_train)\n",
    "vectorized_test_data = vectorizer.transform(X_test)\n",
    "    \n",
    "if option == 'generate':\n",
    "    pickle.dump(vectorizer.vocabulary_, open('vocabulary.pkl', 'wb'))"
   ]
  },
  {
   "cell_type": "markdown",
   "metadata": {
    "colab_type": "text",
    "id": "5_PmjPfYwhR0"
   },
   "source": [
    "#### Training and Validation"
   ]
  },
  {
   "cell_type": "markdown",
   "metadata": {
    "colab_type": "text",
    "id": "CqGOoAZ97fwl"
   },
   "source": [
    "In the training dataset, there are more negative reviews than positive ones. Therefore, we will first make both the sides equal using **SMOTE** (**S**ynthetic **M**inority **O**ver-sampling **TE**chnique)."
   ]
  },
  {
   "cell_type": "code",
   "execution_count": 16,
   "metadata": {
    "colab": {
     "base_uri": "https://localhost:8080/",
     "height": 51
    },
    "colab_type": "code",
    "id": "zhPpi4lWwhRo",
    "outputId": "09386cdf-b4cc-4a55-aa9d-0ea8b0c13948"
   },
   "outputs": [
    {
     "name": "stdout",
     "output_type": "stream",
     "text": [
      "Wall time: 29.3 s\n"
     ]
    }
   ],
   "source": [
    "%%time\n",
    "sm = SMOTE(random_state=42, ratio=1.0)\n",
    "X_train, y_train = sm.fit_sample(vectorized_train_data, y_train)"
   ]
  },
  {
   "cell_type": "markdown",
   "metadata": {
    "colab_type": "text",
    "id": "uqcYdZLG8nn7"
   },
   "source": [
    "We will use **Logistic Regression** classifier here. So, let's train this guy!"
   ]
  },
  {
   "cell_type": "code",
   "execution_count": 17,
   "metadata": {
    "colab": {},
    "colab_type": "code",
    "id": "msWBN71rwhR1"
   },
   "outputs": [],
   "source": [
    "clf = LogisticRegression()"
   ]
  },
  {
   "cell_type": "code",
   "execution_count": 18,
   "metadata": {
    "colab": {
     "base_uri": "https://localhost:8080/",
     "height": 136
    },
    "colab_type": "code",
    "id": "T9KCDc-UoRIN",
    "outputId": "9e2c527d-6f7c-4180-8e8a-3915ac55298f"
   },
   "outputs": [
    {
     "name": "stdout",
     "output_type": "stream",
     "text": [
      "Wall time: 3.22 s\n"
     ]
    },
    {
     "data": {
      "text/plain": [
       "LogisticRegression(C=1.0, class_weight=None, dual=False, fit_intercept=True,\n",
       "                   intercept_scaling=1, l1_ratio=None, max_iter=100,\n",
       "                   multi_class='warn', n_jobs=None, penalty='l2',\n",
       "                   random_state=None, solver='warn', tol=0.0001, verbose=0,\n",
       "                   warm_start=False)"
      ]
     },
     "execution_count": 18,
     "metadata": {},
     "output_type": "execute_result"
    }
   ],
   "source": [
    "%%time\n",
    "clf.fit(X_train, y_train)"
   ]
  },
  {
   "cell_type": "markdown",
   "metadata": {
    "colab_type": "text",
    "id": "zcBSA9Pj8z-E"
   },
   "source": [
    "Of course, we will also do some **_cross-validation_**!"
   ]
  },
  {
   "cell_type": "code",
   "execution_count": 19,
   "metadata": {
    "colab": {
     "base_uri": "https://localhost:8080/",
     "height": 51
    },
    "colab_type": "code",
    "id": "2_ttCUJFoRIU",
    "outputId": "14c123ef-9bbe-4284-bd6f-4d896a1d10a1"
   },
   "outputs": [
    {
     "name": "stdout",
     "output_type": "stream",
     "text": [
      "Wall time: 21.2 s\n"
     ]
    }
   ],
   "source": [
    "%%time\n",
    "kf = KFold(n_splits=10, random_state = 42, shuffle = True)\n",
    "scores = cross_val_score(clf, X_train, y_train, cv = kf)"
   ]
  },
  {
   "cell_type": "code",
   "execution_count": 20,
   "metadata": {
    "colab": {
     "base_uri": "https://localhost:8080/",
     "height": 68
    },
    "colab_type": "code",
    "id": "l0eAWW06oRIX",
    "outputId": "cf56739d-abd9-44e3-f05b-85082c0bbcb4"
   },
   "outputs": [
    {
     "name": "stdout",
     "output_type": "stream",
     "text": [
      "Cross-validation scores: [0.90914403 0.90855974 0.915279   0.91002045 0.90739118 0.90943617\n",
      " 0.90531853 0.92314436 0.91642314 0.92197545]\n",
      "Cross-validation accuracy: 0.9127 (+/- 0.0118)\n"
     ]
    }
   ],
   "source": [
    "print('Cross-validation scores:', scores)\n",
    "print('Cross-validation accuracy: {:.4f} (+/- {:.4f})'.format(scores.mean(), scores.std() * 2))"
   ]
  },
  {
   "cell_type": "markdown",
   "metadata": {
    "colab_type": "text",
    "id": "zGPqfmOX9XlD"
   },
   "source": [
    "The classifier is trained, so let's check its performance on the **_validation set_**."
   ]
  },
  {
   "cell_type": "code",
   "execution_count": 21,
   "metadata": {
    "colab": {},
    "colab_type": "code",
    "id": "gKG_jKupoRIa"
   },
   "outputs": [],
   "source": [
    "predictions = clf.predict(vectorized_test_data)\n",
    "\n",
    "validation = dict()\n",
    "\n",
    "validation['accuracy'] = accuracy_score(y_test, predictions)\n",
    "validation['precision'] = precision_score(y_test, predictions, average='macro')\n",
    "validation['recall'] = recall_score(y_test, predictions, average='macro')\n",
    "validation['f1'] = f1_score(y_test, predictions, average='macro')"
   ]
  },
  {
   "cell_type": "code",
   "execution_count": 22,
   "metadata": {
    "colab": {
     "base_uri": "https://localhost:8080/",
     "height": 119
    },
    "colab_type": "code",
    "id": "xF9tWh-5whSF",
    "outputId": "7fb9be11-d388-485e-8d49-111b14840454",
    "scrolled": false
   },
   "outputs": [
    {
     "name": "stdout",
     "output_type": "stream",
     "text": [
      "Training evaluation:\n",
      " ------------\n",
      "Accuracy: 0.87322\n",
      "Precision: 0.86305\n",
      "Recall: 0.87579\n",
      "F1: 0.86780\n"
     ]
    }
   ],
   "source": [
    "print('Training evaluation:\\n', '-' * 12)\n",
    "for v in validation:\n",
    "    print('{}: {:.5f}'.format(v.title(), validation[v]))"
   ]
  },
  {
   "cell_type": "markdown",
   "metadata": {
    "colab_type": "text",
    "id": "yYsPaCPkwhSg"
   },
   "source": [
    "#### Cohen-Kappa score"
   ]
  },
  {
   "cell_type": "markdown",
   "metadata": {
    "colab_type": "text",
    "id": "_0BEQokS9ncF"
   },
   "source": [
    "**Cohen’s kappa** statistic measures **_interrater reliability_** which is more robust than a simple percent agreement calculation.\n",
    "\n",
    "In simple words, it will show us a level of agreement between the labels predicted by the classifier and the actual labels."
   ]
  },
  {
   "cell_type": "code",
   "execution_count": 23,
   "metadata": {
    "colab": {
     "base_uri": "https://localhost:8080/",
     "height": 34
    },
    "colab_type": "code",
    "id": "fhSo9voTwhSj",
    "outputId": "8a1b2fed-6094-40db-8141-1164a44bc449"
   },
   "outputs": [
    {
     "name": "stdout",
     "output_type": "stream",
     "text": [
      "C-K Score: 0.73606\n"
     ]
    }
   ],
   "source": [
    "p = predictions.tolist()\n",
    "ck = cohen_kappa_score(y_test, p)\n",
    "print('C-K Score: {:.5f}'.format(ck))"
   ]
  },
  {
   "cell_type": "markdown",
   "metadata": {
    "colab_type": "text",
    "id": "tzM2r3lU_q5R"
   },
   "source": [
    "#### It's time for a tiny test!"
   ]
  },
  {
   "cell_type": "code",
   "execution_count": 24,
   "metadata": {
    "colab": {},
    "colab_type": "code",
    "id": "zqGeds-D7E5N"
   },
   "outputs": [],
   "source": [
    "example_reviews = ['An honest, engaging, and surprisingly funny look back at one of modern television\\'s greatest achievements.',\n",
    "          'Excellent movie! Inspiring and very entertaining for all especially youth and anyone inspired by today\\'s modern age of tech entrepreneurship!',\n",
    "          'Honestly even the trailer made me uncomfortable.',\n",
    "          'I never write movie reviews, but this one was such a stinker, I feel I owe it to everyone to at least provide a warning.',\n",
    "          'This movie was a good movie by standard and a lil beyond standard. It was written very well, The acting was great, each characters performance was clever and the comedic timing was spot on. The story line is very real and relatable. Enjoyable for adults and completely appropriate for pre-teens up to 20. Go support, my family loved it.']"
   ]
  },
  {
   "cell_type": "markdown",
   "metadata": {
    "colab_type": "text",
    "id": "PPbaqwo6xzeO"
   },
   "source": [
    "As one can tell, **_first_**, **_second_** and **_fifth_** reviews in **_example_reviews_** are **_positive_** while **_third_** and **_fourth_** reviews are **_negative_**. _Let's see what classifier predicts!_"
   ]
  },
  {
   "cell_type": "code",
   "execution_count": 25,
   "metadata": {
    "colab": {
     "base_uri": "https://localhost:8080/",
     "height": 34
    },
    "colab_type": "code",
    "id": "7OiDa5SkoRIr",
    "outputId": "b4453633-8fc4-486d-c473-117ba35da3fb"
   },
   "outputs": [
    {
     "name": "stdout",
     "output_type": "stream",
     "text": [
      "1 1 0 0 1\n"
     ]
    }
   ],
   "source": [
    "example_preds = clf.predict(vectorizer.transform(example_reviews))\n",
    "print(' '.join(str(int(p)) for p in example_preds))"
   ]
  },
  {
   "cell_type": "markdown",
   "metadata": {
    "colab_type": "text",
    "id": "xY00OyzpzAAk"
   },
   "source": [
    "**Perfect**, Classifier also says the same!"
   ]
  }
 ],
 "metadata": {
  "colab": {
   "name": "sentiment_analysis-Copy1.ipynb",
   "provenance": [],
   "toc_visible": true,
   "version": "0.3.2"
  },
  "kernelspec": {
   "display_name": "Python 3",
   "language": "python",
   "name": "python3"
  },
  "language_info": {
   "codemirror_mode": {
    "name": "ipython",
    "version": 3
   },
   "file_extension": ".py",
   "mimetype": "text/x-python",
   "name": "python",
   "nbconvert_exporter": "python",
   "pygments_lexer": "ipython3",
   "version": "3.6.8"
  }
 },
 "nbformat": 4,
 "nbformat_minor": 1
}
