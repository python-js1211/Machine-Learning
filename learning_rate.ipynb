{
 "cells": [
  {
   "cell_type": "markdown",
   "metadata": {},
   "source": [
    "### [Learning Rate Schedules and Adaptive Learning Rate Methods for Deep Learning](https://towardsdatascience.com/learning-rate-schedules-and-adaptive-learning-rate-methods-for-deep-learning-2c8f433990d1)"
   ]
  },
  {
   "cell_type": "code",
   "execution_count": 1,
   "metadata": {},
   "outputs": [],
   "source": [
    "import warnings\n",
    "warnings.simplefilter('ignore')"
   ]
  },
  {
   "cell_type": "code",
   "execution_count": 2,
   "metadata": {},
   "outputs": [
    {
     "name": "stderr",
     "output_type": "stream",
     "text": [
      "Using TensorFlow backend.\n"
     ]
    }
   ],
   "source": [
    "from __future__ import print_function\n",
    "import numpy as np\n",
    "import math\n",
    "\n",
    "import matplotlib.pyplot as plt\n",
    "\n",
    "import keras\n",
    "from keras import backend as K\n",
    "from keras.utils import np_utils\n",
    "\n",
    "from keras.datasets import cifar10\n",
    "\n",
    "from keras.models import Sequential\n",
    "from keras.models import model_from_json\n",
    "\n",
    "from keras.layers import Dense, Dropout, Flatten\n",
    "from keras.layers import Conv2D, MaxPooling2D\n",
    "\n",
    "from keras.optimizers import SGD, Adagrad, Adadelta, RMSprop, Adam\n",
    "from keras.callbacks import LearningRateScheduler\n",
    "\n",
    "import tensorflow as tf\n",
    "tf.logging.set_verbosity(tf.logging.ERROR)"
   ]
  },
  {
   "cell_type": "markdown",
   "metadata": {},
   "source": [
    "#### Load and prepare CIFAR-10 dataset"
   ]
  },
  {
   "cell_type": "code",
   "execution_count": 3,
   "metadata": {},
   "outputs": [],
   "source": [
    "BATCH_SIZE = 64\n",
    "NUM_CLASSES = 2\n",
    "EPOCHS = 100"
   ]
  },
  {
   "cell_type": "markdown",
   "metadata": {},
   "source": [
    "Input image dimensions"
   ]
  },
  {
   "cell_type": "code",
   "execution_count": 4,
   "metadata": {},
   "outputs": [],
   "source": [
    "img_rows, img_cols = 32, 32"
   ]
  },
  {
   "cell_type": "markdown",
   "metadata": {},
   "source": [
    "Download the dataset"
   ]
  },
  {
   "cell_type": "code",
   "execution_count": 5,
   "metadata": {},
   "outputs": [],
   "source": [
    "(X_train, y_train), (X_test, y_test) = cifar10.load_data()"
   ]
  },
  {
   "cell_type": "markdown",
   "metadata": {},
   "source": [
    "For now, we will only consider images of **cats** and **dogs**!"
   ]
  },
  {
   "cell_type": "code",
   "execution_count": 6,
   "metadata": {},
   "outputs": [],
   "source": [
    "train_picks = np.ravel(np.logical_or(y_train==3, y_train==5))\n",
    "test_picks = np.ravel(np.logical_or(y_test==3, y_test==5))"
   ]
  },
  {
   "cell_type": "code",
   "execution_count": 7,
   "metadata": {},
   "outputs": [],
   "source": [
    "y_train = np.array(y_train[train_picks]==5, dtype=int)\n",
    "y_test = np.array(y_test[test_picks]==5, dtype=int)"
   ]
  },
  {
   "cell_type": "code",
   "execution_count": 8,
   "metadata": {},
   "outputs": [],
   "source": [
    "X_train = X_train[train_picks]\n",
    "X_test = X_test[test_picks]"
   ]
  },
  {
   "cell_type": "markdown",
   "metadata": {},
   "source": [
    "Reshape the data"
   ]
  },
  {
   "cell_type": "code",
   "execution_count": 9,
   "metadata": {},
   "outputs": [],
   "source": [
    "if K.image_data_format() == 'channels_first':\n",
    "    X_train = X_train.reshape(X_train.shape[0], 3, img_rows, img_cols)\n",
    "    X_test = X_test.reshape(X_test.shape[0], 3, img_rows, img_cols)\n",
    "    input_shape = (3, img_rows, img_cols)\n",
    "else:\n",
    "    X_train = X_train.reshape(X_train.shape[0], img_rows, img_cols, 3)\n",
    "    X_test = X_test.reshape(X_test.shape[0], img_rows, img_cols, 3)\n",
    "    input_shape = (img_rows, img_cols, 3)"
   ]
  },
  {
   "cell_type": "code",
   "execution_count": 10,
   "metadata": {},
   "outputs": [],
   "source": [
    "X_train = X_train.astype('float32')\n",
    "X_test = X_test.astype('float32')"
   ]
  },
  {
   "cell_type": "code",
   "execution_count": 11,
   "metadata": {},
   "outputs": [],
   "source": [
    "X_train /= 255\n",
    "X_test /= 255"
   ]
  },
  {
   "cell_type": "code",
   "execution_count": 12,
   "metadata": {},
   "outputs": [
    {
     "name": "stdout",
     "output_type": "stream",
     "text": [
      "X_train shape: (10000, 32, 32, 3)\n",
      "Train samples: 10000\n",
      "Test samples: 2000\n"
     ]
    }
   ],
   "source": [
    "print('X_train shape: {}\\nTrain samples: {}\\nTest samples: {}'.format(X_train.shape, X_train.shape[0], X_test.shape[0]))"
   ]
  },
  {
   "cell_type": "markdown",
   "metadata": {},
   "source": [
    "Convert class vectors to binary class matrices"
   ]
  },
  {
   "cell_type": "code",
   "execution_count": 13,
   "metadata": {},
   "outputs": [],
   "source": [
    "y_train = keras.utils.to_categorical(np.ravel(y_train), NUM_CLASSES)\n",
    "y_test = keras.utils.to_categorical(np.ravel(y_test), NUM_CLASSES)"
   ]
  },
  {
   "cell_type": "markdown",
   "metadata": {},
   "source": [
    "#### Method to build CNN model"
   ]
  },
  {
   "cell_type": "code",
   "execution_count": 14,
   "metadata": {},
   "outputs": [],
   "source": [
    "def build_cnn(optimizer):\n",
    "    model = Sequential([\n",
    "        Conv2D(4, kernel_size=(3, 3), activation='relu', input_shape=input_shape),\n",
    "        Conv2D(8, (3, 3), activation='relu'),\n",
    "        MaxPooling2D(pool_size=(2, 2)),\n",
    "        Dropout(0.25),\n",
    "        Flatten(),\n",
    "        Dense(16, activation='relu'),\n",
    "        Dropout(0.5),\n",
    "        Dense(2, activation='softmax'),\n",
    "    ])\n",
    "    \n",
    "    model.compile(optimizer=optimizer,\n",
    "                 loss=keras.losses.categorical_crossentropy,\n",
    "                 metrics=['accuracy'])\n",
    "    \n",
    "    return model"
   ]
  },
  {
   "cell_type": "markdown",
   "metadata": {},
   "source": [
    "#### Method to plot histories"
   ]
  },
  {
   "cell_type": "code",
   "execution_count": 15,
   "metadata": {},
   "outputs": [],
   "source": [
    "def plot(method, history):\n",
    "    fig = plt.figure()\n",
    "    \n",
    "    plt.plot(range(1, EPOCHS+1), history.history['val_acc'], label='validation')\n",
    "    plt.plot(range(1, EPOCHS+1), history.history['acc'], label='training')\n",
    "    plt.legend()\n",
    "    \n",
    "    plt.xlim([1, EPOCHS])\n",
    "    plt.xlabel('Epochs')\n",
    "    plt.ylabel('Accuracy')\n",
    "    \n",
    "    plt.title(method.title())\n",
    "    plt.grid(True)\n",
    "    plt.show()"
   ]
  },
  {
   "cell_type": "markdown",
   "metadata": {},
   "source": [
    "#### Method to plot learning rates"
   ]
  },
  {
   "cell_type": "code",
   "execution_count": 16,
   "metadata": {},
   "outputs": [],
   "source": [
    "def plot_lr(method, loss_history):\n",
    "    fig = plt.figure()\n",
    "\n",
    "    plt.plot(range(1, EPOCHS+1), loss_history.lr, label='learning rate')\n",
    "    plt.legend()\n",
    "\n",
    "    plt.xlim([1, EPOCHS+1])\n",
    "    plt.xlabel('Epochs')\n",
    "    plt.ylabel('Learning rate')\n",
    "\n",
    "    plt.title('Learning Rate (' + method.title() + ')')\n",
    "    plt.grid(True)\n",
    "    plt.show()"
   ]
  },
  {
   "cell_type": "markdown",
   "metadata": {},
   "source": [
    "#### Constant learning rate"
   ]
  },
  {
   "cell_type": "markdown",
   "metadata": {},
   "source": [
    "Define SGD optimizer"
   ]
  },
  {
   "cell_type": "code",
   "execution_count": 17,
   "metadata": {},
   "outputs": [],
   "source": [
    "learning_rate = 0.1\n",
    "sgd = SGD(lr=learning_rate, momentum=0.0, decay=0.0, nesterov=False)"
   ]
  },
  {
   "cell_type": "markdown",
   "metadata": {},
   "source": [
    "Build the CNN model"
   ]
  },
  {
   "cell_type": "code",
   "execution_count": 18,
   "metadata": {},
   "outputs": [],
   "source": [
    "clr_model = build_cnn(sgd)"
   ]
  },
  {
   "cell_type": "markdown",
   "metadata": {},
   "source": [
    "Fit the model"
   ]
  },
  {
   "cell_type": "code",
   "execution_count": 19,
   "metadata": {},
   "outputs": [
    {
     "name": "stdout",
     "output_type": "stream",
     "text": [
      "Train on 10000 samples, validate on 2000 samples\n",
      "Epoch 1/100\n",
      " - 2s - loss: 0.6930 - acc: 0.5356 - val_loss: 0.6801 - val_acc: 0.5450\n",
      "Epoch 2/100\n",
      " - 2s - loss: 0.6803 - acc: 0.5660 - val_loss: 0.6718 - val_acc: 0.6000\n",
      "Epoch 3/100\n",
      " - 2s - loss: 0.6726 - acc: 0.5885 - val_loss: 0.6816 - val_acc: 0.5545\n",
      "Epoch 4/100\n",
      " - 2s - loss: 0.6667 - acc: 0.6010 - val_loss: 0.6521 - val_acc: 0.6320\n",
      "Epoch 5/100\n",
      " - 2s - loss: 0.6557 - acc: 0.6147 - val_loss: 0.6484 - val_acc: 0.6155\n",
      "Epoch 6/100\n",
      " - 2s - loss: 0.6493 - acc: 0.6209 - val_loss: 0.6356 - val_acc: 0.6465\n",
      "Epoch 7/100\n",
      " - 2s - loss: 0.6402 - acc: 0.6275 - val_loss: 0.6325 - val_acc: 0.6540\n",
      "Epoch 8/100\n",
      " - 2s - loss: 0.6342 - acc: 0.6414 - val_loss: 0.6401 - val_acc: 0.6485\n",
      "Epoch 9/100\n",
      " - 2s - loss: 0.6278 - acc: 0.6486 - val_loss: 0.6178 - val_acc: 0.6585\n",
      "Epoch 10/100\n",
      " - 2s - loss: 0.6189 - acc: 0.6517 - val_loss: 0.6171 - val_acc: 0.6670\n",
      "Epoch 11/100\n",
      " - 2s - loss: 0.6150 - acc: 0.6563 - val_loss: 0.6106 - val_acc: 0.6570\n",
      "Epoch 12/100\n",
      " - 2s - loss: 0.6119 - acc: 0.6646 - val_loss: 0.6214 - val_acc: 0.6400\n",
      "Epoch 13/100\n",
      " - 2s - loss: 0.6072 - acc: 0.6635 - val_loss: 0.6054 - val_acc: 0.6635\n",
      "Epoch 14/100\n",
      " - 2s - loss: 0.6028 - acc: 0.6675 - val_loss: 0.5959 - val_acc: 0.6655\n",
      "Epoch 15/100\n",
      " - 2s - loss: 0.5934 - acc: 0.6781 - val_loss: 0.5963 - val_acc: 0.6595\n",
      "Epoch 16/100\n",
      " - 2s - loss: 0.5961 - acc: 0.6769 - val_loss: 0.6009 - val_acc: 0.6590\n",
      "Epoch 17/100\n",
      " - 2s - loss: 0.5923 - acc: 0.6754 - val_loss: 0.6287 - val_acc: 0.6495\n",
      "Epoch 18/100\n",
      " - 2s - loss: 0.5859 - acc: 0.6826 - val_loss: 0.6217 - val_acc: 0.6570\n",
      "Epoch 19/100\n",
      " - 2s - loss: 0.5780 - acc: 0.6874 - val_loss: 0.5822 - val_acc: 0.6795\n",
      "Epoch 20/100\n",
      " - 2s - loss: 0.5788 - acc: 0.6840 - val_loss: 0.5717 - val_acc: 0.6825\n",
      "Epoch 21/100\n",
      " - 2s - loss: 0.5715 - acc: 0.6881 - val_loss: 0.6042 - val_acc: 0.6465\n",
      "Epoch 22/100\n",
      " - 2s - loss: 0.5671 - acc: 0.6920 - val_loss: 0.5857 - val_acc: 0.6715\n",
      "Epoch 23/100\n",
      " - 2s - loss: 0.5681 - acc: 0.6948 - val_loss: 0.5871 - val_acc: 0.6720\n",
      "Epoch 24/100\n",
      " - 2s - loss: 0.5651 - acc: 0.6986 - val_loss: 0.5885 - val_acc: 0.6730\n",
      "Epoch 25/100\n",
      " - 2s - loss: 0.5559 - acc: 0.6958 - val_loss: 0.5783 - val_acc: 0.6885\n",
      "Epoch 26/100\n",
      " - 2s - loss: 0.5533 - acc: 0.7022 - val_loss: 0.5795 - val_acc: 0.6580\n",
      "Epoch 27/100\n",
      " - 2s - loss: 0.5553 - acc: 0.7032 - val_loss: 0.5846 - val_acc: 0.6805\n",
      "Epoch 28/100\n",
      " - 2s - loss: 0.5484 - acc: 0.7080 - val_loss: 0.5697 - val_acc: 0.6865\n",
      "Epoch 29/100\n",
      " - 2s - loss: 0.5509 - acc: 0.7110 - val_loss: 0.5702 - val_acc: 0.6830\n",
      "Epoch 30/100\n",
      " - 2s - loss: 0.5419 - acc: 0.7102 - val_loss: 0.6056 - val_acc: 0.6420\n",
      "Epoch 31/100\n",
      " - 2s - loss: 0.5593 - acc: 0.7006 - val_loss: 0.5771 - val_acc: 0.6700\n",
      "Epoch 32/100\n",
      " - 2s - loss: 0.5379 - acc: 0.7182 - val_loss: 0.5751 - val_acc: 0.6865\n",
      "Epoch 33/100\n",
      " - 2s - loss: 0.5324 - acc: 0.7148 - val_loss: 0.6191 - val_acc: 0.6715\n",
      "Epoch 34/100\n",
      " - 2s - loss: 0.5367 - acc: 0.7229 - val_loss: 0.5607 - val_acc: 0.6915\n",
      "Epoch 35/100\n",
      " - 2s - loss: 0.5313 - acc: 0.7143 - val_loss: 0.6105 - val_acc: 0.6390\n",
      "Epoch 36/100\n",
      " - 2s - loss: 0.5291 - acc: 0.7194 - val_loss: 0.5637 - val_acc: 0.6925\n",
      "Epoch 37/100\n",
      " - 2s - loss: 0.5270 - acc: 0.7227 - val_loss: 0.5756 - val_acc: 0.6915\n",
      "Epoch 38/100\n",
      " - 2s - loss: 0.5204 - acc: 0.7274 - val_loss: 0.6584 - val_acc: 0.6345\n",
      "Epoch 39/100\n",
      " - 2s - loss: 0.5192 - acc: 0.7264 - val_loss: 0.5802 - val_acc: 0.6770\n",
      "Epoch 40/100\n",
      " - 2s - loss: 0.5137 - acc: 0.7295 - val_loss: 0.5605 - val_acc: 0.6935\n",
      "Epoch 41/100\n",
      " - 2s - loss: 0.5099 - acc: 0.7336 - val_loss: 0.5809 - val_acc: 0.6840\n",
      "Epoch 42/100\n",
      " - 2s - loss: 0.5023 - acc: 0.7358 - val_loss: 0.5672 - val_acc: 0.6935\n",
      "Epoch 43/100\n",
      " - 2s - loss: 0.5038 - acc: 0.7430 - val_loss: 0.5772 - val_acc: 0.6870\n",
      "Epoch 44/100\n",
      " - 2s - loss: 0.4990 - acc: 0.7386 - val_loss: 0.5883 - val_acc: 0.6735\n",
      "Epoch 45/100\n",
      " - 2s - loss: 0.4936 - acc: 0.7423 - val_loss: 0.5546 - val_acc: 0.7000\n",
      "Epoch 46/100\n",
      " - 2s - loss: 0.5019 - acc: 0.7367 - val_loss: 0.5852 - val_acc: 0.6790\n",
      "Epoch 47/100\n",
      " - 2s - loss: 0.4938 - acc: 0.7404 - val_loss: 0.5724 - val_acc: 0.6870\n",
      "Epoch 48/100\n",
      " - 2s - loss: 0.4915 - acc: 0.7453 - val_loss: 0.5914 - val_acc: 0.6785\n",
      "Epoch 49/100\n",
      " - 2s - loss: 0.4928 - acc: 0.7443 - val_loss: 0.5720 - val_acc: 0.6975\n",
      "Epoch 50/100\n",
      " - 2s - loss: 0.4920 - acc: 0.7489 - val_loss: 0.5597 - val_acc: 0.7035\n",
      "Epoch 51/100\n",
      " - 2s - loss: 0.4807 - acc: 0.7482 - val_loss: 0.5912 - val_acc: 0.6580\n",
      "Epoch 52/100\n",
      " - 2s - loss: 0.4856 - acc: 0.7407 - val_loss: 0.5838 - val_acc: 0.6865\n",
      "Epoch 53/100\n",
      " - 2s - loss: 0.4810 - acc: 0.7532 - val_loss: 0.5641 - val_acc: 0.6880\n",
      "Epoch 54/100\n",
      " - 2s - loss: 0.4807 - acc: 0.7469 - val_loss: 0.5676 - val_acc: 0.7000\n",
      "Epoch 55/100\n",
      " - 2s - loss: 0.4841 - acc: 0.7471 - val_loss: 0.5618 - val_acc: 0.6980\n",
      "Epoch 56/100\n",
      " - 2s - loss: 0.4723 - acc: 0.7557 - val_loss: 0.5826 - val_acc: 0.6940\n",
      "Epoch 57/100\n",
      " - 2s - loss: 0.4797 - acc: 0.7462 - val_loss: 0.6259 - val_acc: 0.6485\n",
      "Epoch 58/100\n",
      " - 2s - loss: 0.4693 - acc: 0.7565 - val_loss: 0.5693 - val_acc: 0.6960\n",
      "Epoch 59/100\n",
      " - 2s - loss: 0.4738 - acc: 0.7558 - val_loss: 0.5667 - val_acc: 0.6990\n",
      "Epoch 60/100\n",
      " - 2s - loss: 0.4682 - acc: 0.7589 - val_loss: 0.6347 - val_acc: 0.6525\n",
      "Epoch 61/100\n",
      " - 2s - loss: 0.4676 - acc: 0.7562 - val_loss: 0.5826 - val_acc: 0.6895\n",
      "Epoch 62/100\n",
      " - 2s - loss: 0.4693 - acc: 0.7537 - val_loss: 0.6121 - val_acc: 0.6930\n",
      "Epoch 63/100\n",
      " - 2s - loss: 0.4599 - acc: 0.7640 - val_loss: 0.5643 - val_acc: 0.6950\n",
      "Epoch 64/100\n",
      " - 2s - loss: 0.4632 - acc: 0.7594 - val_loss: 0.5934 - val_acc: 0.6775\n",
      "Epoch 65/100\n",
      " - 2s - loss: 0.4666 - acc: 0.7518 - val_loss: 0.5659 - val_acc: 0.6910\n",
      "Epoch 66/100\n",
      " - 2s - loss: 0.4609 - acc: 0.7610 - val_loss: 0.5710 - val_acc: 0.6895\n",
      "Epoch 67/100\n",
      " - 2s - loss: 0.4620 - acc: 0.7583 - val_loss: 0.5819 - val_acc: 0.6885\n",
      "Epoch 68/100\n",
      " - 2s - loss: 0.4552 - acc: 0.7652 - val_loss: 0.5993 - val_acc: 0.6620\n",
      "Epoch 69/100\n",
      " - 2s - loss: 0.4524 - acc: 0.7658 - val_loss: 0.6053 - val_acc: 0.6720\n",
      "Epoch 70/100\n",
      " - 2s - loss: 0.4558 - acc: 0.7614 - val_loss: 0.5748 - val_acc: 0.6890\n",
      "Epoch 71/100\n",
      " - 2s - loss: 0.4521 - acc: 0.7677 - val_loss: 0.5877 - val_acc: 0.6870\n",
      "Epoch 72/100\n",
      " - 2s - loss: 0.4514 - acc: 0.7662 - val_loss: 0.5840 - val_acc: 0.6985\n",
      "Epoch 73/100\n",
      " - 2s - loss: 0.4372 - acc: 0.7780 - val_loss: 0.6034 - val_acc: 0.6775\n",
      "Epoch 74/100\n",
      " - 2s - loss: 0.4491 - acc: 0.7677 - val_loss: 0.5850 - val_acc: 0.6905\n",
      "Epoch 75/100\n",
      " - 2s - loss: 0.4469 - acc: 0.7654 - val_loss: 0.5816 - val_acc: 0.6945\n",
      "Epoch 76/100\n",
      " - 2s - loss: 0.4466 - acc: 0.7676 - val_loss: 0.5767 - val_acc: 0.6975\n",
      "Epoch 77/100\n",
      " - 2s - loss: 0.4530 - acc: 0.7657 - val_loss: 0.5852 - val_acc: 0.6880\n",
      "Epoch 78/100\n",
      " - 2s - loss: 0.4462 - acc: 0.7698 - val_loss: 0.5974 - val_acc: 0.6915\n",
      "Epoch 79/100\n",
      " - 2s - loss: 0.4358 - acc: 0.7766 - val_loss: 0.6111 - val_acc: 0.6685\n",
      "Epoch 80/100\n",
      " - 2s - loss: 0.4395 - acc: 0.7734 - val_loss: 0.5777 - val_acc: 0.6770\n",
      "Epoch 81/100\n",
      " - 2s - loss: 0.4410 - acc: 0.7722 - val_loss: 0.5992 - val_acc: 0.6895\n",
      "Epoch 82/100\n",
      " - 2s - loss: 0.4355 - acc: 0.7724 - val_loss: 0.5939 - val_acc: 0.6925\n",
      "Epoch 83/100\n",
      " - 2s - loss: 0.4386 - acc: 0.7728 - val_loss: 0.5859 - val_acc: 0.6935\n",
      "Epoch 84/100\n",
      " - 2s - loss: 0.4339 - acc: 0.7811 - val_loss: 0.5847 - val_acc: 0.6980\n",
      "Epoch 85/100\n",
      " - 2s - loss: 0.4356 - acc: 0.7752 - val_loss: 0.5755 - val_acc: 0.6975\n",
      "Epoch 86/100\n",
      " - 2s - loss: 0.4284 - acc: 0.7738 - val_loss: 0.6082 - val_acc: 0.6915\n",
      "Epoch 87/100\n",
      " - 2s - loss: 0.4299 - acc: 0.7770 - val_loss: 0.5770 - val_acc: 0.6925\n",
      "Epoch 88/100\n",
      " - 2s - loss: 0.4342 - acc: 0.7692 - val_loss: 0.6321 - val_acc: 0.6835\n",
      "Epoch 89/100\n",
      " - 2s - loss: 0.4359 - acc: 0.7777 - val_loss: 0.5986 - val_acc: 0.7010\n",
      "Epoch 90/100\n",
      " - 2s - loss: 0.4256 - acc: 0.7796 - val_loss: 0.5831 - val_acc: 0.7005\n",
      "Epoch 91/100\n",
      " - 2s - loss: 0.4247 - acc: 0.7784 - val_loss: 0.5860 - val_acc: 0.7040\n",
      "Epoch 92/100\n",
      " - 2s - loss: 0.4367 - acc: 0.7745 - val_loss: 0.5837 - val_acc: 0.6890\n",
      "Epoch 93/100\n",
      " - 2s - loss: 0.4261 - acc: 0.7824 - val_loss: 0.6055 - val_acc: 0.6980\n",
      "Epoch 94/100\n",
      " - 2s - loss: 0.4300 - acc: 0.7788 - val_loss: 0.5798 - val_acc: 0.6960\n",
      "Epoch 95/100\n",
      " - 2s - loss: 0.4291 - acc: 0.7790 - val_loss: 0.5826 - val_acc: 0.7005\n",
      "Epoch 96/100\n",
      " - 2s - loss: 0.4285 - acc: 0.7791 - val_loss: 0.5850 - val_acc: 0.6985\n"
     ]
    },
    {
     "name": "stdout",
     "output_type": "stream",
     "text": [
      "Epoch 97/100\n",
      " - 2s - loss: 0.4259 - acc: 0.7840 - val_loss: 0.5857 - val_acc: 0.6965\n",
      "Epoch 98/100\n",
      " - 2s - loss: 0.4184 - acc: 0.7870 - val_loss: 0.5948 - val_acc: 0.7000\n",
      "Epoch 99/100\n",
      " - 2s - loss: 0.4148 - acc: 0.7890 - val_loss: 0.6179 - val_acc: 0.6940\n",
      "Epoch 100/100\n",
      " - 2s - loss: 0.4202 - acc: 0.7826 - val_loss: 0.5939 - val_acc: 0.7015\n"
     ]
    }
   ],
   "source": [
    "clr_history = clr_model.fit(X_train, y_train, batch_size=BATCH_SIZE, epochs=EPOCHS, verbose=2, validation_data=(X_test, y_test))"
   ]
  },
  {
   "cell_type": "code",
   "execution_count": 20,
   "metadata": {},
   "outputs": [
    {
     "data": {
      "image/png": "[encoded data removed]",
      "text/plain": [
       "<Figure size 432x288 with 1 Axes>"
      ]
     },
     "metadata": {
      "needs_background": "light"
     },
     "output_type": "display_data"
    }
   ],
   "source": [
    "plot('constant learning rate', clr_history)"
   ]
  },
  {
   "cell_type": "markdown",
   "metadata": {},
   "source": [
    "#### Time-based decay"
   ]
  },
  {
   "cell_type": "markdown",
   "metadata": {},
   "source": [
    "Define SGD optimizer"
   ]
  },
  {
   "cell_type": "code",
   "execution_count": 21,
   "metadata": {},
   "outputs": [],
   "source": [
    "learning_rate = 0.1\n",
    "decay_rate = learning_rate / EPOCHS\n",
    "momentum = 0.5"
   ]
  },
  {
   "cell_type": "code",
   "execution_count": 22,
   "metadata": {},
   "outputs": [],
   "source": [
    "sgd = SGD(lr=learning_rate, momentum=momentum, decay=decay_rate, nesterov=False)"
   ]
  },
  {
   "cell_type": "markdown",
   "metadata": {},
   "source": [
    "Build the CNN model"
   ]
  },
  {
   "cell_type": "code",
   "execution_count": 23,
   "metadata": {},
   "outputs": [],
   "source": [
    "tbd_model = build_cnn(sgd)"
   ]
  },
  {
   "cell_type": "markdown",
   "metadata": {},
   "source": [
    "Fit the model"
   ]
  },
  {
   "cell_type": "code",
   "execution_count": 24,
   "metadata": {},
   "outputs": [
    {
     "name": "stdout",
     "output_type": "stream",
     "text": [
      "Train on 10000 samples, validate on 2000 samples\n",
      "Epoch 1/100\n",
      " - 2s - loss: 0.6940 - acc: 0.4998 - val_loss: 0.6950 - val_acc: 0.5000\n",
      "Epoch 2/100\n",
      " - 2s - loss: 0.6933 - acc: 0.5060 - val_loss: 0.6872 - val_acc: 0.5315\n",
      "Epoch 3/100\n",
      " - 2s - loss: 0.6863 - acc: 0.5420 - val_loss: 0.6690 - val_acc: 0.6125\n",
      "Epoch 4/100\n",
      " - 2s - loss: 0.6729 - acc: 0.5870 - val_loss: 0.6941 - val_acc: 0.5045\n",
      "Epoch 5/100\n",
      " - 2s - loss: 0.6710 - acc: 0.5795 - val_loss: 0.6526 - val_acc: 0.6220\n",
      "Epoch 6/100\n",
      " - 2s - loss: 0.6597 - acc: 0.6049 - val_loss: 0.6429 - val_acc: 0.6255\n",
      "Epoch 7/100\n",
      " - 2s - loss: 0.6503 - acc: 0.6156 - val_loss: 0.6438 - val_acc: 0.6265\n",
      "Epoch 8/100\n",
      " - 2s - loss: 0.6391 - acc: 0.6267 - val_loss: 0.6356 - val_acc: 0.6425\n",
      "Epoch 9/100\n",
      " - 2s - loss: 0.6332 - acc: 0.6334 - val_loss: 0.6265 - val_acc: 0.6465\n",
      "Epoch 10/100\n",
      " - 2s - loss: 0.6327 - acc: 0.6348 - val_loss: 0.6237 - val_acc: 0.6455\n",
      "Epoch 11/100\n",
      " - 2s - loss: 0.6263 - acc: 0.6428 - val_loss: 0.6226 - val_acc: 0.6510\n",
      "Epoch 12/100\n",
      " - 2s - loss: 0.6221 - acc: 0.6479 - val_loss: 0.6238 - val_acc: 0.6565\n",
      "Epoch 13/100\n",
      " - 2s - loss: 0.6211 - acc: 0.6471 - val_loss: 0.6147 - val_acc: 0.6680\n",
      "Epoch 14/100\n",
      " - 2s - loss: 0.6096 - acc: 0.6593 - val_loss: 0.6341 - val_acc: 0.6490\n",
      "Epoch 15/100\n",
      " - 2s - loss: 0.6043 - acc: 0.6637 - val_loss: 0.6045 - val_acc: 0.6765\n",
      "Epoch 16/100\n",
      " - 2s - loss: 0.6017 - acc: 0.6701 - val_loss: 0.6071 - val_acc: 0.6720\n",
      "Epoch 17/100\n",
      " - 2s - loss: 0.5988 - acc: 0.6737 - val_loss: 0.5991 - val_acc: 0.6710\n",
      "Epoch 18/100\n",
      " - 2s - loss: 0.5954 - acc: 0.6715 - val_loss: 0.5971 - val_acc: 0.6775\n",
      "Epoch 19/100\n",
      " - 2s - loss: 0.5907 - acc: 0.6692 - val_loss: 0.5983 - val_acc: 0.6745\n",
      "Epoch 20/100\n",
      " - 2s - loss: 0.5847 - acc: 0.6846 - val_loss: 0.5927 - val_acc: 0.6745\n",
      "Epoch 21/100\n",
      " - 2s - loss: 0.5832 - acc: 0.6890 - val_loss: 0.5833 - val_acc: 0.6855\n",
      "Epoch 22/100\n",
      " - 2s - loss: 0.5785 - acc: 0.6919 - val_loss: 0.5853 - val_acc: 0.6885\n",
      "Epoch 23/100\n",
      " - 2s - loss: 0.5743 - acc: 0.6963 - val_loss: 0.5752 - val_acc: 0.6930\n",
      "Epoch 24/100\n",
      " - 2s - loss: 0.5657 - acc: 0.7000 - val_loss: 0.5730 - val_acc: 0.6905\n",
      "Epoch 25/100\n",
      " - 2s - loss: 0.5659 - acc: 0.6991 - val_loss: 0.5738 - val_acc: 0.6925\n",
      "Epoch 26/100\n",
      " - 2s - loss: 0.5631 - acc: 0.7002 - val_loss: 0.5679 - val_acc: 0.6925\n",
      "Epoch 27/100\n",
      " - 2s - loss: 0.5590 - acc: 0.7039 - val_loss: 0.5733 - val_acc: 0.6865\n",
      "Epoch 28/100\n",
      " - 2s - loss: 0.5560 - acc: 0.7083 - val_loss: 0.5666 - val_acc: 0.6980\n",
      "Epoch 29/100\n",
      " - 2s - loss: 0.5575 - acc: 0.7098 - val_loss: 0.5758 - val_acc: 0.6950\n",
      "Epoch 30/100\n",
      " - 2s - loss: 0.5446 - acc: 0.7149 - val_loss: 0.5655 - val_acc: 0.7005\n",
      "Epoch 31/100\n",
      " - 2s - loss: 0.5489 - acc: 0.7105 - val_loss: 0.5598 - val_acc: 0.7045\n",
      "Epoch 32/100\n",
      " - 2s - loss: 0.5458 - acc: 0.7140 - val_loss: 0.5543 - val_acc: 0.7085\n",
      "Epoch 33/100\n",
      " - 2s - loss: 0.5383 - acc: 0.7233 - val_loss: 0.5521 - val_acc: 0.7055\n",
      "Epoch 34/100\n",
      " - 2s - loss: 0.5425 - acc: 0.7159 - val_loss: 0.5530 - val_acc: 0.7095\n",
      "Epoch 35/100\n",
      " - 2s - loss: 0.5400 - acc: 0.7246 - val_loss: 0.5529 - val_acc: 0.7105\n",
      "Epoch 36/100\n",
      " - 2s - loss: 0.5359 - acc: 0.7253 - val_loss: 0.5595 - val_acc: 0.6990\n",
      "Epoch 37/100\n",
      " - 2s - loss: 0.5305 - acc: 0.7231 - val_loss: 0.5539 - val_acc: 0.7120\n",
      "Epoch 38/100\n",
      " - 2s - loss: 0.5289 - acc: 0.7240 - val_loss: 0.5474 - val_acc: 0.7065\n",
      "Epoch 39/100\n",
      " - 2s - loss: 0.5232 - acc: 0.7375 - val_loss: 0.5466 - val_acc: 0.7190\n",
      "Epoch 40/100\n",
      " - 2s - loss: 0.5247 - acc: 0.7295 - val_loss: 0.5455 - val_acc: 0.7145\n",
      "Epoch 41/100\n",
      " - 2s - loss: 0.5192 - acc: 0.7328 - val_loss: 0.5419 - val_acc: 0.7210\n",
      "Epoch 42/100\n",
      " - 2s - loss: 0.5158 - acc: 0.7418 - val_loss: 0.5458 - val_acc: 0.7130\n",
      "Epoch 43/100\n",
      " - 2s - loss: 0.5170 - acc: 0.7340 - val_loss: 0.5412 - val_acc: 0.7290\n",
      "Epoch 44/100\n",
      " - 2s - loss: 0.5163 - acc: 0.7385 - val_loss: 0.5403 - val_acc: 0.7155\n",
      "Epoch 45/100\n",
      " - 2s - loss: 0.5129 - acc: 0.7414 - val_loss: 0.5364 - val_acc: 0.7340\n",
      "Epoch 46/100\n",
      " - 2s - loss: 0.5069 - acc: 0.7435 - val_loss: 0.5353 - val_acc: 0.7255\n",
      "Epoch 47/100\n",
      " - 2s - loss: 0.5044 - acc: 0.7529 - val_loss: 0.5368 - val_acc: 0.7170\n",
      "Epoch 48/100\n",
      " - 2s - loss: 0.5030 - acc: 0.7467 - val_loss: 0.5304 - val_acc: 0.7250\n",
      "Epoch 49/100\n",
      " - 2s - loss: 0.4985 - acc: 0.7497 - val_loss: 0.5326 - val_acc: 0.7275\n",
      "Epoch 50/100\n",
      " - 2s - loss: 0.5010 - acc: 0.7478 - val_loss: 0.5336 - val_acc: 0.7290\n",
      "Epoch 51/100\n",
      " - 2s - loss: 0.5026 - acc: 0.7450 - val_loss: 0.5309 - val_acc: 0.7180\n",
      "Epoch 52/100\n",
      " - 2s - loss: 0.4958 - acc: 0.7547 - val_loss: 0.5308 - val_acc: 0.7230\n",
      "Epoch 53/100\n",
      " - 2s - loss: 0.4984 - acc: 0.7452 - val_loss: 0.5355 - val_acc: 0.7205\n",
      "Epoch 54/100\n",
      " - 2s - loss: 0.4925 - acc: 0.7560 - val_loss: 0.5349 - val_acc: 0.7180\n",
      "Epoch 55/100\n",
      " - 2s - loss: 0.4916 - acc: 0.7532 - val_loss: 0.5322 - val_acc: 0.7300\n",
      "Epoch 56/100\n",
      " - 2s - loss: 0.4893 - acc: 0.7541 - val_loss: 0.5342 - val_acc: 0.7245\n",
      "Epoch 57/100\n",
      " - 2s - loss: 0.4932 - acc: 0.7526 - val_loss: 0.5297 - val_acc: 0.7250\n",
      "Epoch 58/100\n",
      " - 2s - loss: 0.4866 - acc: 0.7531 - val_loss: 0.5279 - val_acc: 0.7265\n",
      "Epoch 59/100\n",
      " - 2s - loss: 0.4868 - acc: 0.7578 - val_loss: 0.5266 - val_acc: 0.7250\n",
      "Epoch 60/100\n",
      " - 2s - loss: 0.4903 - acc: 0.7549 - val_loss: 0.5278 - val_acc: 0.7275\n",
      "Epoch 61/100\n",
      " - 2s - loss: 0.4820 - acc: 0.7555 - val_loss: 0.5277 - val_acc: 0.7300\n",
      "Epoch 62/100\n",
      " - 2s - loss: 0.4806 - acc: 0.7594 - val_loss: 0.5244 - val_acc: 0.7290\n",
      "Epoch 63/100\n",
      " - 2s - loss: 0.4832 - acc: 0.7594 - val_loss: 0.5262 - val_acc: 0.7305\n",
      "Epoch 64/100\n",
      " - 2s - loss: 0.4817 - acc: 0.7636 - val_loss: 0.5255 - val_acc: 0.7290\n",
      "Epoch 65/100\n",
      " - 2s - loss: 0.4732 - acc: 0.7669 - val_loss: 0.5240 - val_acc: 0.7310\n",
      "Epoch 66/100\n",
      " - 2s - loss: 0.4744 - acc: 0.7661 - val_loss: 0.5253 - val_acc: 0.7280\n",
      "Epoch 67/100\n",
      " - 2s - loss: 0.4717 - acc: 0.7624 - val_loss: 0.5242 - val_acc: 0.7295\n",
      "Epoch 68/100\n",
      " - 2s - loss: 0.4739 - acc: 0.7620 - val_loss: 0.5266 - val_acc: 0.7265\n",
      "Epoch 69/100\n",
      " - 2s - loss: 0.4786 - acc: 0.7620 - val_loss: 0.5219 - val_acc: 0.7330\n",
      "Epoch 70/100\n",
      " - 2s - loss: 0.4650 - acc: 0.7733 - val_loss: 0.5310 - val_acc: 0.7305\n",
      "Epoch 71/100\n",
      " - 2s - loss: 0.4732 - acc: 0.7660 - val_loss: 0.5298 - val_acc: 0.7335\n",
      "Epoch 72/100\n",
      " - 2s - loss: 0.4667 - acc: 0.7672 - val_loss: 0.5286 - val_acc: 0.7245\n",
      "Epoch 73/100\n",
      " - 2s - loss: 0.4656 - acc: 0.7704 - val_loss: 0.5276 - val_acc: 0.7270\n",
      "Epoch 74/100\n",
      " - 2s - loss: 0.4692 - acc: 0.7706 - val_loss: 0.5223 - val_acc: 0.7285\n",
      "Epoch 75/100\n",
      " - 2s - loss: 0.4637 - acc: 0.7663 - val_loss: 0.5217 - val_acc: 0.7350\n",
      "Epoch 76/100\n",
      " - 2s - loss: 0.4597 - acc: 0.7725 - val_loss: 0.5215 - val_acc: 0.7345\n",
      "Epoch 77/100\n",
      " - 2s - loss: 0.4572 - acc: 0.7685 - val_loss: 0.5225 - val_acc: 0.7300\n",
      "Epoch 78/100\n",
      " - 2s - loss: 0.4565 - acc: 0.7771 - val_loss: 0.5236 - val_acc: 0.7325\n",
      "Epoch 79/100\n",
      " - 2s - loss: 0.4547 - acc: 0.7762 - val_loss: 0.5215 - val_acc: 0.7370\n",
      "Epoch 80/100\n",
      " - 2s - loss: 0.4587 - acc: 0.7724 - val_loss: 0.5283 - val_acc: 0.7300\n",
      "Epoch 81/100\n",
      " - 2s - loss: 0.4518 - acc: 0.7806 - val_loss: 0.5214 - val_acc: 0.7360\n",
      "Epoch 82/100\n",
      " - 2s - loss: 0.4607 - acc: 0.7728 - val_loss: 0.5204 - val_acc: 0.7375\n",
      "Epoch 83/100\n",
      " - 2s - loss: 0.4480 - acc: 0.7809 - val_loss: 0.5207 - val_acc: 0.7365\n",
      "Epoch 84/100\n",
      " - 2s - loss: 0.4496 - acc: 0.7777 - val_loss: 0.5209 - val_acc: 0.7345\n",
      "Epoch 85/100\n",
      " - 2s - loss: 0.4598 - acc: 0.7710 - val_loss: 0.5182 - val_acc: 0.7375\n",
      "Epoch 86/100\n",
      " - 2s - loss: 0.4552 - acc: 0.7735 - val_loss: 0.5211 - val_acc: 0.7335\n",
      "Epoch 87/100\n",
      " - 2s - loss: 0.4508 - acc: 0.7789 - val_loss: 0.5267 - val_acc: 0.7275\n",
      "Epoch 88/100\n",
      " - 2s - loss: 0.4543 - acc: 0.7765 - val_loss: 0.5218 - val_acc: 0.7275\n",
      "Epoch 89/100\n",
      " - 2s - loss: 0.4478 - acc: 0.7786 - val_loss: 0.5230 - val_acc: 0.7285\n",
      "Epoch 90/100\n",
      " - 2s - loss: 0.4509 - acc: 0.7753 - val_loss: 0.5353 - val_acc: 0.7230\n",
      "Epoch 91/100\n",
      " - 2s - loss: 0.4479 - acc: 0.7812 - val_loss: 0.5208 - val_acc: 0.7335\n",
      "Epoch 92/100\n",
      " - 2s - loss: 0.4427 - acc: 0.7839 - val_loss: 0.5220 - val_acc: 0.7370\n",
      "Epoch 93/100\n",
      " - 2s - loss: 0.4461 - acc: 0.7789 - val_loss: 0.5202 - val_acc: 0.7450\n",
      "Epoch 94/100\n",
      " - 2s - loss: 0.4462 - acc: 0.7804 - val_loss: 0.5223 - val_acc: 0.7340\n",
      "Epoch 95/100\n",
      " - 2s - loss: 0.4386 - acc: 0.7862 - val_loss: 0.5216 - val_acc: 0.7380\n",
      "Epoch 96/100\n",
      " - 2s - loss: 0.4447 - acc: 0.7812 - val_loss: 0.5198 - val_acc: 0.7400\n"
     ]
    },
    {
     "name": "stdout",
     "output_type": "stream",
     "text": [
      "Epoch 97/100\n",
      " - 2s - loss: 0.4461 - acc: 0.7794 - val_loss: 0.5194 - val_acc: 0.7435\n",
      "Epoch 98/100\n",
      " - 2s - loss: 0.4442 - acc: 0.7845 - val_loss: 0.5249 - val_acc: 0.7275\n",
      "Epoch 99/100\n",
      " - 2s - loss: 0.4402 - acc: 0.7856 - val_loss: 0.5187 - val_acc: 0.7410\n",
      "Epoch 100/100\n",
      " - 2s - loss: 0.4334 - acc: 0.7869 - val_loss: 0.5257 - val_acc: 0.7315\n"
     ]
    }
   ],
   "source": [
    "tbd_history = tbd_model.fit(X_train, y_train, batch_size=BATCH_SIZE, epochs=EPOCHS, verbose=2, validation_data=(X_test, y_test))"
   ]
  },
  {
   "cell_type": "code",
   "execution_count": 25,
   "metadata": {},
   "outputs": [
    {
     "data": {
      "image/png": "[encoded data removed]",
      "text/plain": [
       "<Figure size 432x288 with 1 Axes>"
      ]
     },
     "metadata": {
      "needs_background": "light"
     },
     "output_type": "display_data"
    }
   ],
   "source": [
    "plot('time based decay', tbd_history)"
   ]
  },
  {
   "cell_type": "markdown",
   "metadata": {},
   "source": [
    "#### Step decay"
   ]
  },
  {
   "cell_type": "markdown",
   "metadata": {},
   "source": [
    "Define SGD optimizer"
   ]
  },
  {
   "cell_type": "code",
   "execution_count": 26,
   "metadata": {},
   "outputs": [],
   "source": [
    "momentum = 0.5"
   ]
  },
  {
   "cell_type": "code",
   "execution_count": 27,
   "metadata": {},
   "outputs": [],
   "source": [
    "sgd = SGD(lr=0.0, momentum=momentum, decay=0.0, nesterov=False)"
   ]
  },
  {
   "cell_type": "markdown",
   "metadata": {},
   "source": [
    "Build the CNN model"
   ]
  },
  {
   "cell_type": "code",
   "execution_count": 28,
   "metadata": {},
   "outputs": [],
   "source": [
    "sd_model = build_cnn(sgd)"
   ]
  },
  {
   "cell_type": "markdown",
   "metadata": {},
   "source": [
    "Define step decay function"
   ]
  },
  {
   "cell_type": "code",
   "execution_count": 29,
   "metadata": {},
   "outputs": [],
   "source": [
    "class LossHistory(keras.callbacks.Callback):\n",
    "    def on_train_begin(self, logs={}):\n",
    "        self.losses = []\n",
    "        self.lr = []\n",
    "    \n",
    "    def on_epoch_end(self, batch, logs={}):\n",
    "        self.losses.append(logs.get('loss'))\n",
    "        self.lr.append(step_decay(len(self.losses)))\n",
    "        print('lr: {}'.format(step_decay(len(self.losses))))"
   ]
  },
  {
   "cell_type": "code",
   "execution_count": 30,
   "metadata": {},
   "outputs": [],
   "source": [
    "def step_decay(epoch):\n",
    "    initial_lr = 0.1\n",
    "    drop = 0.5\n",
    "    epochs_drop = 10.0\n",
    "    lr = initial_lr * math.pow(drop, math.floor(epoch/epochs_drop))\n",
    "    return lr"
   ]
  },
  {
   "cell_type": "markdown",
   "metadata": {},
   "source": [
    "Learn schedule callback"
   ]
  },
  {
   "cell_type": "code",
   "execution_count": 31,
   "metadata": {},
   "outputs": [],
   "source": [
    "loss_history = LossHistory()\n",
    "lr = LearningRateScheduler(step_decay)\n",
    "callbacks_list = [loss_history, lr]"
   ]
  },
  {
   "cell_type": "markdown",
   "metadata": {},
   "source": [
    "Fit the model"
   ]
  },
  {
   "cell_type": "code",
   "execution_count": 32,
   "metadata": {},
   "outputs": [
    {
     "name": "stdout",
     "output_type": "stream",
     "text": [
      "Train on 10000 samples, validate on 2000 samples\n",
      "Epoch 1/100\n",
      " - 2s - loss: 0.6932 - acc: 0.5128 - val_loss: 0.6908 - val_acc: 0.5170\n",
      "lr: 0.1\n",
      "Epoch 2/100\n",
      " - 2s - loss: 0.6851 - acc: 0.5541 - val_loss: 0.6636 - val_acc: 0.6055\n",
      "lr: 0.1\n",
      "Epoch 3/100\n",
      " - 2s - loss: 0.6725 - acc: 0.5833 - val_loss: 0.6583 - val_acc: 0.6020\n",
      "lr: 0.1\n",
      "Epoch 4/100\n",
      " - 2s - loss: 0.6649 - acc: 0.5902 - val_loss: 0.6559 - val_acc: 0.6170\n",
      "lr: 0.1\n",
      "Epoch 5/100\n",
      " - 2s - loss: 0.6576 - acc: 0.6099 - val_loss: 0.6458 - val_acc: 0.6245\n",
      "lr: 0.1\n",
      "Epoch 6/100\n",
      " - 2s - loss: 0.6492 - acc: 0.6165 - val_loss: 0.6417 - val_acc: 0.6230\n",
      "lr: 0.1\n",
      "Epoch 7/100\n",
      " - 2s - loss: 0.6340 - acc: 0.6333 - val_loss: 0.6348 - val_acc: 0.6340\n",
      "lr: 0.1\n",
      "Epoch 8/100\n",
      " - 2s - loss: 0.6297 - acc: 0.6457 - val_loss: 0.6321 - val_acc: 0.6405\n",
      "lr: 0.1\n",
      "Epoch 9/100\n",
      " - 2s - loss: 0.6209 - acc: 0.6539 - val_loss: 0.6366 - val_acc: 0.6235\n",
      "lr: 0.1\n",
      "Epoch 10/100\n",
      " - 2s - loss: 0.6144 - acc: 0.6572 - val_loss: 0.6289 - val_acc: 0.6280\n",
      "lr: 0.05\n",
      "Epoch 11/100\n",
      " - 2s - loss: 0.5998 - acc: 0.6734 - val_loss: 0.6105 - val_acc: 0.6655\n",
      "lr: 0.05\n",
      "Epoch 12/100\n",
      " - 2s - loss: 0.5899 - acc: 0.6797 - val_loss: 0.6050 - val_acc: 0.6630\n",
      "lr: 0.05\n",
      "Epoch 13/100\n",
      " - 2s - loss: 0.5921 - acc: 0.6767 - val_loss: 0.6184 - val_acc: 0.6495\n",
      "lr: 0.05\n",
      "Epoch 14/100\n",
      " - 2s - loss: 0.5842 - acc: 0.6839 - val_loss: 0.5945 - val_acc: 0.6800\n",
      "lr: 0.05\n",
      "Epoch 15/100\n",
      " - 2s - loss: 0.5794 - acc: 0.6944 - val_loss: 0.5978 - val_acc: 0.6670\n",
      "lr: 0.05\n",
      "Epoch 16/100\n",
      " - 2s - loss: 0.5790 - acc: 0.6895 - val_loss: 0.5912 - val_acc: 0.6790\n",
      "lr: 0.05\n",
      "Epoch 17/100\n",
      " - 2s - loss: 0.5705 - acc: 0.6947 - val_loss: 0.5900 - val_acc: 0.6730\n",
      "lr: 0.05\n",
      "Epoch 18/100\n",
      " - 2s - loss: 0.5672 - acc: 0.7002 - val_loss: 0.5888 - val_acc: 0.6785\n",
      "lr: 0.05\n",
      "Epoch 19/100\n",
      " - 2s - loss: 0.5623 - acc: 0.7039 - val_loss: 0.6006 - val_acc: 0.6820\n",
      "lr: 0.05\n",
      "Epoch 20/100\n",
      " - 2s - loss: 0.5579 - acc: 0.7057 - val_loss: 0.5880 - val_acc: 0.6815\n",
      "lr: 0.025\n",
      "Epoch 21/100\n",
      " - 2s - loss: 0.5461 - acc: 0.7153 - val_loss: 0.5860 - val_acc: 0.6940\n",
      "lr: 0.025\n",
      "Epoch 22/100\n",
      " - 2s - loss: 0.5408 - acc: 0.7266 - val_loss: 0.5843 - val_acc: 0.6870\n",
      "lr: 0.025\n",
      "Epoch 23/100\n",
      " - 2s - loss: 0.5394 - acc: 0.7229 - val_loss: 0.5832 - val_acc: 0.6900\n",
      "lr: 0.025\n",
      "Epoch 24/100\n",
      " - 2s - loss: 0.5427 - acc: 0.7200 - val_loss: 0.5764 - val_acc: 0.6925\n",
      "lr: 0.025\n",
      "Epoch 25/100\n",
      " - 2s - loss: 0.5373 - acc: 0.7237 - val_loss: 0.5795 - val_acc: 0.6955\n",
      "lr: 0.025\n",
      "Epoch 26/100\n",
      " - 2s - loss: 0.5353 - acc: 0.7235 - val_loss: 0.5899 - val_acc: 0.6900\n",
      "lr: 0.025\n",
      "Epoch 27/100\n",
      " - 2s - loss: 0.5305 - acc: 0.7274 - val_loss: 0.5845 - val_acc: 0.6930\n",
      "lr: 0.025\n",
      "Epoch 28/100\n",
      " - 2s - loss: 0.5301 - acc: 0.7276 - val_loss: 0.5830 - val_acc: 0.6855\n",
      "lr: 0.025\n",
      "Epoch 29/100\n",
      " - 2s - loss: 0.5230 - acc: 0.7312 - val_loss: 0.5752 - val_acc: 0.6960\n",
      "lr: 0.025\n",
      "Epoch 30/100\n",
      " - 2s - loss: 0.5266 - acc: 0.7336 - val_loss: 0.5749 - val_acc: 0.7005\n",
      "lr: 0.0125\n",
      "Epoch 31/100\n",
      " - 2s - loss: 0.5222 - acc: 0.7359 - val_loss: 0.5780 - val_acc: 0.6915\n",
      "lr: 0.0125\n",
      "Epoch 32/100\n",
      " - 2s - loss: 0.5123 - acc: 0.7423 - val_loss: 0.5795 - val_acc: 0.6930\n",
      "lr: 0.0125\n",
      "Epoch 33/100\n",
      " - 2s - loss: 0.5198 - acc: 0.7381 - val_loss: 0.5748 - val_acc: 0.6945\n",
      "lr: 0.0125\n",
      "Epoch 34/100\n",
      " - 2s - loss: 0.5153 - acc: 0.7395 - val_loss: 0.5796 - val_acc: 0.6970\n",
      "lr: 0.0125\n",
      "Epoch 35/100\n",
      " - 2s - loss: 0.5119 - acc: 0.7438 - val_loss: 0.5785 - val_acc: 0.7000\n",
      "lr: 0.0125\n",
      "Epoch 36/100\n",
      " - 2s - loss: 0.5131 - acc: 0.7387 - val_loss: 0.5804 - val_acc: 0.6985\n",
      "lr: 0.0125\n",
      "Epoch 37/100\n",
      " - 2s - loss: 0.5115 - acc: 0.7427 - val_loss: 0.5757 - val_acc: 0.6945\n",
      "lr: 0.0125\n",
      "Epoch 38/100\n",
      " - 2s - loss: 0.5075 - acc: 0.7470 - val_loss: 0.5773 - val_acc: 0.6980\n",
      "lr: 0.0125\n",
      "Epoch 39/100\n",
      " - 2s - loss: 0.5054 - acc: 0.7494 - val_loss: 0.5788 - val_acc: 0.7010\n",
      "lr: 0.0125\n",
      "Epoch 40/100\n",
      " - 2s - loss: 0.5059 - acc: 0.7486 - val_loss: 0.5766 - val_acc: 0.7005\n",
      "lr: 0.00625\n",
      "Epoch 41/100\n",
      " - 2s - loss: 0.5027 - acc: 0.7469 - val_loss: 0.5768 - val_acc: 0.6960\n",
      "lr: 0.00625\n",
      "Epoch 42/100\n",
      " - 2s - loss: 0.4967 - acc: 0.7500 - val_loss: 0.5787 - val_acc: 0.6995\n",
      "lr: 0.00625\n",
      "Epoch 43/100\n",
      " - 2s - loss: 0.5005 - acc: 0.7484 - val_loss: 0.5772 - val_acc: 0.7015\n",
      "lr: 0.00625\n",
      "Epoch 44/100\n",
      " - 2s - loss: 0.4963 - acc: 0.7478 - val_loss: 0.5770 - val_acc: 0.7005\n",
      "lr: 0.00625\n",
      "Epoch 45/100\n",
      " - 2s - loss: 0.4999 - acc: 0.7509 - val_loss: 0.5759 - val_acc: 0.6985\n",
      "lr: 0.00625\n",
      "Epoch 46/100\n",
      " - 2s - loss: 0.5028 - acc: 0.7468 - val_loss: 0.5758 - val_acc: 0.6975\n",
      "lr: 0.00625\n",
      "Epoch 47/100\n",
      " - 2s - loss: 0.4981 - acc: 0.7466 - val_loss: 0.5769 - val_acc: 0.6990\n",
      "lr: 0.00625\n",
      "Epoch 48/100\n",
      " - 2s - loss: 0.5019 - acc: 0.7473 - val_loss: 0.5777 - val_acc: 0.6980\n",
      "lr: 0.00625\n",
      "Epoch 49/100\n",
      " - 2s - loss: 0.4942 - acc: 0.7571 - val_loss: 0.5782 - val_acc: 0.7025\n",
      "lr: 0.00625\n",
      "Epoch 50/100\n",
      " - 2s - loss: 0.4943 - acc: 0.7535 - val_loss: 0.5802 - val_acc: 0.7000\n",
      "lr: 0.003125\n",
      "Epoch 51/100\n",
      " - 2s - loss: 0.4941 - acc: 0.7529 - val_loss: 0.5776 - val_acc: 0.7015\n",
      "lr: 0.003125\n",
      "Epoch 52/100\n",
      " - 2s - loss: 0.4947 - acc: 0.7499 - val_loss: 0.5761 - val_acc: 0.7005\n",
      "lr: 0.003125\n",
      "Epoch 53/100\n",
      " - 2s - loss: 0.4954 - acc: 0.7537 - val_loss: 0.5760 - val_acc: 0.7025\n",
      "lr: 0.003125\n",
      "Epoch 54/100\n",
      " - 2s - loss: 0.4898 - acc: 0.7560 - val_loss: 0.5778 - val_acc: 0.7030\n",
      "lr: 0.003125\n",
      "Epoch 55/100\n",
      " - 2s - loss: 0.4927 - acc: 0.7534 - val_loss: 0.5762 - val_acc: 0.7045\n",
      "lr: 0.003125\n",
      "Epoch 56/100\n",
      " - 2s - loss: 0.4903 - acc: 0.7581 - val_loss: 0.5751 - val_acc: 0.7005\n",
      "lr: 0.003125\n",
      "Epoch 57/100\n",
      " - 2s - loss: 0.4901 - acc: 0.7542 - val_loss: 0.5754 - val_acc: 0.7015\n",
      "lr: 0.003125\n",
      "Epoch 58/100\n",
      " - 2s - loss: 0.4959 - acc: 0.7514 - val_loss: 0.5765 - val_acc: 0.7015\n",
      "lr: 0.003125\n",
      "Epoch 59/100\n",
      " - 2s - loss: 0.4937 - acc: 0.7520 - val_loss: 0.5773 - val_acc: 0.7020\n",
      "lr: 0.003125\n",
      "Epoch 60/100\n",
      " - 2s - loss: 0.4887 - acc: 0.7567 - val_loss: 0.5796 - val_acc: 0.6995\n",
      "lr: 0.0015625\n",
      "Epoch 61/100\n",
      " - 2s - loss: 0.4911 - acc: 0.7521 - val_loss: 0.5780 - val_acc: 0.7015\n",
      "lr: 0.0015625\n",
      "Epoch 62/100\n",
      " - 2s - loss: 0.4856 - acc: 0.7605 - val_loss: 0.5773 - val_acc: 0.7005\n",
      "lr: 0.0015625\n",
      "Epoch 63/100\n",
      " - 2s - loss: 0.4877 - acc: 0.7540 - val_loss: 0.5779 - val_acc: 0.7020\n",
      "lr: 0.0015625\n",
      "Epoch 64/100\n",
      " - 2s - loss: 0.4917 - acc: 0.7552 - val_loss: 0.5781 - val_acc: 0.7015\n",
      "lr: 0.0015625\n",
      "Epoch 65/100\n",
      " - 2s - loss: 0.4943 - acc: 0.7519 - val_loss: 0.5772 - val_acc: 0.6965\n",
      "lr: 0.0015625\n",
      "Epoch 66/100\n",
      " - 2s - loss: 0.4846 - acc: 0.7576 - val_loss: 0.5778 - val_acc: 0.6995\n",
      "lr: 0.0015625\n",
      "Epoch 67/100\n",
      " - 2s - loss: 0.4878 - acc: 0.7612 - val_loss: 0.5787 - val_acc: 0.7005\n",
      "lr: 0.0015625\n",
      "Epoch 68/100\n",
      " - 2s - loss: 0.4865 - acc: 0.7587 - val_loss: 0.5783 - val_acc: 0.6995\n",
      "lr: 0.0015625\n",
      "Epoch 69/100\n",
      " - 2s - loss: 0.4880 - acc: 0.7585 - val_loss: 0.5781 - val_acc: 0.6990\n",
      "lr: 0.0015625\n",
      "Epoch 70/100\n",
      " - 2s - loss: 0.4860 - acc: 0.7567 - val_loss: 0.5779 - val_acc: 0.7030\n",
      "lr: 0.00078125\n",
      "Epoch 71/100\n",
      " - 2s - loss: 0.4850 - acc: 0.7561 - val_loss: 0.5777 - val_acc: 0.7000\n",
      "lr: 0.00078125\n",
      "Epoch 72/100\n",
      " - 2s - loss: 0.4910 - acc: 0.7504 - val_loss: 0.5773 - val_acc: 0.6990\n",
      "lr: 0.00078125\n",
      "Epoch 73/100\n",
      " - 2s - loss: 0.4863 - acc: 0.7596 - val_loss: 0.5769 - val_acc: 0.6990\n",
      "lr: 0.00078125\n",
      "Epoch 74/100\n",
      " - 2s - loss: 0.4908 - acc: 0.7548 - val_loss: 0.5770 - val_acc: 0.6990\n",
      "lr: 0.00078125\n",
      "Epoch 75/100\n",
      " - 2s - loss: 0.4875 - acc: 0.7566 - val_loss: 0.5773 - val_acc: 0.7010\n",
      "lr: 0.00078125\n",
      "Epoch 76/100\n",
      " - 2s - loss: 0.4841 - acc: 0.7602 - val_loss: 0.5781 - val_acc: 0.7020\n",
      "lr: 0.00078125\n",
      "Epoch 77/100\n",
      " - 2s - loss: 0.4924 - acc: 0.7497 - val_loss: 0.5772 - val_acc: 0.7025\n",
      "lr: 0.00078125\n",
      "Epoch 78/100\n",
      " - 2s - loss: 0.4840 - acc: 0.7557 - val_loss: 0.5781 - val_acc: 0.7030\n",
      "lr: 0.00078125\n",
      "Epoch 79/100\n",
      " - 2s - loss: 0.4883 - acc: 0.7556 - val_loss: 0.5785 - val_acc: 0.7010\n",
      "lr: 0.00078125\n",
      "Epoch 80/100\n",
      " - 2s - loss: 0.4853 - acc: 0.7579 - val_loss: 0.5785 - val_acc: 0.7030\n",
      "lr: 0.000390625\n",
      "Epoch 81/100\n",
      " - 2s - loss: 0.4889 - acc: 0.7534 - val_loss: 0.5781 - val_acc: 0.7000\n",
      "lr: 0.000390625\n",
      "Epoch 82/100\n",
      " - 2s - loss: 0.4860 - acc: 0.7614 - val_loss: 0.5781 - val_acc: 0.7015\n",
      "lr: 0.000390625\n",
      "Epoch 83/100\n",
      " - 2s - loss: 0.4826 - acc: 0.7623 - val_loss: 0.5778 - val_acc: 0.7010\n",
      "lr: 0.000390625\n",
      "Epoch 84/100\n",
      " - 2s - loss: 0.4844 - acc: 0.7612 - val_loss: 0.5776 - val_acc: 0.7005\n",
      "lr: 0.000390625\n",
      "Epoch 85/100\n",
      " - 2s - loss: 0.4806 - acc: 0.7611 - val_loss: 0.5778 - val_acc: 0.7005\n"
     ]
    },
    {
     "name": "stdout",
     "output_type": "stream",
     "text": [
      "lr: 0.000390625\n",
      "Epoch 86/100\n",
      " - 2s - loss: 0.4836 - acc: 0.7568 - val_loss: 0.5788 - val_acc: 0.7000\n",
      "lr: 0.000390625\n",
      "Epoch 87/100\n",
      " - 2s - loss: 0.4856 - acc: 0.7601 - val_loss: 0.5782 - val_acc: 0.7020\n",
      "lr: 0.000390625\n",
      "Epoch 88/100\n",
      " - 2s - loss: 0.4851 - acc: 0.7621 - val_loss: 0.5774 - val_acc: 0.7035\n",
      "lr: 0.000390625\n",
      "Epoch 89/100\n",
      " - 2s - loss: 0.4827 - acc: 0.7652 - val_loss: 0.5778 - val_acc: 0.7005\n",
      "lr: 0.000390625\n",
      "Epoch 90/100\n",
      " - 2s - loss: 0.4881 - acc: 0.7579 - val_loss: 0.5776 - val_acc: 0.7010\n",
      "lr: 0.0001953125\n",
      "Epoch 91/100\n",
      " - 2s - loss: 0.4826 - acc: 0.7618 - val_loss: 0.5778 - val_acc: 0.7010\n",
      "lr: 0.0001953125\n",
      "Epoch 92/100\n",
      " - 2s - loss: 0.4850 - acc: 0.7589 - val_loss: 0.5775 - val_acc: 0.7000\n",
      "lr: 0.0001953125\n",
      "Epoch 93/100\n",
      " - 2s - loss: 0.4907 - acc: 0.7570 - val_loss: 0.5773 - val_acc: 0.7000\n",
      "lr: 0.0001953125\n",
      "Epoch 94/100\n",
      " - 2s - loss: 0.4799 - acc: 0.7602 - val_loss: 0.5777 - val_acc: 0.7005\n",
      "lr: 0.0001953125\n",
      "Epoch 95/100\n",
      " - 2s - loss: 0.4856 - acc: 0.7600 - val_loss: 0.5776 - val_acc: 0.7015\n",
      "lr: 0.0001953125\n",
      "Epoch 96/100\n",
      " - 2s - loss: 0.4888 - acc: 0.7606 - val_loss: 0.5777 - val_acc: 0.7015\n",
      "lr: 0.0001953125\n",
      "Epoch 97/100\n",
      " - 2s - loss: 0.4806 - acc: 0.7645 - val_loss: 0.5778 - val_acc: 0.7015\n",
      "lr: 0.0001953125\n",
      "Epoch 98/100\n",
      " - 2s - loss: 0.4845 - acc: 0.7583 - val_loss: 0.5780 - val_acc: 0.7030\n",
      "lr: 0.0001953125\n",
      "Epoch 99/100\n",
      " - 2s - loss: 0.4749 - acc: 0.7649 - val_loss: 0.5785 - val_acc: 0.6995\n",
      "lr: 0.0001953125\n",
      "Epoch 100/100\n",
      " - 2s - loss: 0.4872 - acc: 0.7594 - val_loss: 0.5781 - val_acc: 0.7005\n",
      "lr: 9.765625e-05\n"
     ]
    }
   ],
   "source": [
    "sd_history = sd_model.fit(X_train, y_train, batch_size=BATCH_SIZE, epochs=EPOCHS, verbose=2, validation_data=(X_test, y_test), callbacks=callbacks_list)"
   ]
  },
  {
   "cell_type": "code",
   "execution_count": 33,
   "metadata": {},
   "outputs": [
    {
     "data": {
      "image/png": "[encoded data removed]",
      "text/plain": [
       "<Figure size 432x288 with 1 Axes>"
      ]
     },
     "metadata": {
      "needs_background": "light"
     },
     "output_type": "display_data"
    }
   ],
   "source": [
    "plot('step decay', sd_history)"
   ]
  },
  {
   "cell_type": "code",
   "execution_count": 34,
   "metadata": {},
   "outputs": [
    {
     "data": {
      "image/png": "[encoded data removed]",
      "text/plain": [
       "<Figure size 432x288 with 1 Axes>"
      ]
     },
     "metadata": {
      "needs_background": "light"
     },
     "output_type": "display_data"
    }
   ],
   "source": [
    "plot_lr('step decay', loss_history)"
   ]
  }
 ],
 "metadata": {
  "kernelspec": {
   "display_name": "Python 3",
   "language": "python",
   "name": "python3"
  },
  "language_info": {
   "codemirror_mode": {
    "name": "ipython",
    "version": 3
   },
   "file_extension": ".py",
   "mimetype": "text/x-python",
   "name": "python",
   "nbconvert_exporter": "python",
   "pygments_lexer": "ipython3",
   "version": "3.5.3"
  }
 },
 "nbformat": 4,
 "nbformat_minor": 2
}
