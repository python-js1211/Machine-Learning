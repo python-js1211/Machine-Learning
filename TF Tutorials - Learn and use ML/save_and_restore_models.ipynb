{
 "cells": [
  {
   "cell_type": "markdown",
   "metadata": {},
   "source": [
    "### [Save and restore models](https://www.tensorflow.org/tutorials/keras/save_and_restore_models)"
   ]
  },
  {
   "cell_type": "code",
   "execution_count": 1,
   "metadata": {},
   "outputs": [],
   "source": [
    "!pip install -q h5py pyyaml\n",
    "!pip install -q tf_nightly"
   ]
  },
  {
   "cell_type": "code",
   "execution_count": 2,
   "metadata": {},
   "outputs": [],
   "source": [
    "from __future__ import absolute_import, division, print_function, unicode_literals\n",
    "\n",
    "import os\n",
    "\n",
    "import tensorflow as tf\n",
    "from tensorflow import keras\n",
    "\n",
    "import matplotlib.pyplot as plt"
   ]
  },
  {
   "cell_type": "code",
   "execution_count": 3,
   "metadata": {},
   "outputs": [
    {
     "name": "stdout",
     "output_type": "stream",
     "text": [
      "1.12.0\n"
     ]
    }
   ],
   "source": [
    "print(tf.__version__)"
   ]
  },
  {
   "cell_type": "markdown",
   "metadata": {},
   "source": [
    "#### Load the dataset"
   ]
  },
  {
   "cell_type": "code",
   "execution_count": 4,
   "metadata": {},
   "outputs": [],
   "source": [
    "(train_images, train_labels), (test_images, test_labels) = tf.keras.datasets.mnist.load_data()"
   ]
  },
  {
   "cell_type": "code",
   "execution_count": 5,
   "metadata": {},
   "outputs": [
    {
     "data": {
      "image/png": "[encoded data removed]",
      "text/plain": [
       "<Figure size 432x288 with 2 Axes>"
      ]
     },
     "metadata": {
      "needs_background": "light"
     },
     "output_type": "display_data"
    }
   ],
   "source": [
    "plt.figure()\n",
    "plt.imshow(train_images[12])\n",
    "plt.colorbar()\n",
    "plt.grid(False)\n",
    "plt.show()"
   ]
  },
  {
   "cell_type": "code",
   "execution_count": 6,
   "metadata": {},
   "outputs": [],
   "source": [
    "train_images = train_images[:1000].reshape(-1, 28*28) / 255.0\n",
    "test_images = test_images[:1000].reshape(-1, 28*28) / 255.0\n",
    "\n",
    "train_labels = train_labels[:1000]\n",
    "test_labels = test_labels[:1000]"
   ]
  },
  {
   "cell_type": "markdown",
   "metadata": {},
   "source": [
    "#### Define a model"
   ]
  },
  {
   "cell_type": "code",
   "execution_count": 7,
   "metadata": {},
   "outputs": [],
   "source": [
    "def buil_model():\n",
    "    model = keras.Sequential([\n",
    "        keras.layers.Dense(512, activation=tf.keras.activations.relu, input_shape=(784,)),\n",
    "        keras.layers.Dropout(0.2),\n",
    "        keras.layers.Dense(10, activation=tf.keras.activations.softmax)\n",
    "    ])\n",
    "    \n",
    "    model.compile(optimizer=tf.train.AdamOptimizer(),\n",
    "                 loss=tf.keras.losses.sparse_categorical_crossentropy,\n",
    "                 metrics=['accuracy'])\n",
    "    \n",
    "    return model"
   ]
  },
  {
   "cell_type": "code",
   "execution_count": 8,
   "metadata": {},
   "outputs": [],
   "source": [
    "model = buil_model()"
   ]
  },
  {
   "cell_type": "code",
   "execution_count": 9,
   "metadata": {},
   "outputs": [
    {
     "name": "stdout",
     "output_type": "stream",
     "text": [
      "_________________________________________________________________\n",
      "Layer (type)                 Output Shape              Param #   \n",
      "=================================================================\n",
      "dense (Dense)                (None, 512)               401920    \n",
      "_________________________________________________________________\n",
      "dropout (Dropout)            (None, 512)               0         \n",
      "_________________________________________________________________\n",
      "dense_1 (Dense)              (None, 10)                5130      \n",
      "=================================================================\n",
      "Total params: 407,050\n",
      "Trainable params: 407,050\n",
      "Non-trainable params: 0\n",
      "_________________________________________________________________\n"
     ]
    }
   ],
   "source": [
    "model.summary()"
   ]
  },
  {
   "cell_type": "markdown",
   "metadata": {},
   "source": [
    "#### Checkpoint callback usage"
   ]
  },
  {
   "cell_type": "code",
   "execution_count": 10,
   "metadata": {},
   "outputs": [],
   "source": [
    "checkpoint_path = './checkpoints/t_1/cp.ckpt'"
   ]
  },
  {
   "cell_type": "code",
   "execution_count": 11,
   "metadata": {},
   "outputs": [],
   "source": [
    "cp_callback = tf.keras.callbacks.ModelCheckpoint(checkpoint_path, save_weights_only=True, verbose=1)"
   ]
  },
  {
   "cell_type": "code",
   "execution_count": 12,
   "metadata": {},
   "outputs": [],
   "source": [
    "model = buil_model()"
   ]
  },
  {
   "cell_type": "code",
   "execution_count": 13,
   "metadata": {},
   "outputs": [
    {
     "name": "stdout",
     "output_type": "stream",
     "text": [
      "Train on 1000 samples, validate on 1000 samples\n",
      "Epoch 1/10\n",
      " 896/1000 [=========================>....] - ETA: 0s - loss: 1.1942 - acc: 0.6339\n",
      "Epoch 00001: saving model to ./checkpoints/t_1/cp.ckpt\n",
      "1000/1000 [==============================] - 1s 1ms/step - loss: 1.1383 - acc: 0.6530 - val_loss: 0.7151 - val_acc: 0.7680\n",
      "Epoch 2/10\n",
      " 832/1000 [=======================>......] - ETA: 0s - loss: 0.4295 - acc: 0.8750\n",
      "Epoch 00002: saving model to ./checkpoints/t_1/cp.ckpt\n",
      "1000/1000 [==============================] - 1s 758us/step - loss: 0.4144 - acc: 0.8810 - val_loss: 0.5304 - val_acc: 0.8300\n",
      "Epoch 3/10\n",
      " 960/1000 [===========================>..] - ETA: 0s - loss: 0.2933 - acc: 0.9167\n",
      "Epoch 00003: saving model to ./checkpoints/t_1/cp.ckpt\n",
      "1000/1000 [==============================] - 1s 795us/step - loss: 0.2965 - acc: 0.9140 - val_loss: 0.4708 - val_acc: 0.8590\n",
      "Epoch 4/10\n",
      " 896/1000 [=========================>....] - ETA: 0s - loss: 0.2143 - acc: 0.9442\n",
      "Epoch 00004: saving model to ./checkpoints/t_1/cp.ckpt\n",
      "1000/1000 [==============================] - 1s 978us/step - loss: 0.2098 - acc: 0.9440 - val_loss: 0.4607 - val_acc: 0.8550\n",
      "Epoch 5/10\n",
      " 864/1000 [========================>.....] - ETA: 0s - loss: 0.1473 - acc: 0.9583\n",
      "Epoch 00005: saving model to ./checkpoints/t_1/cp.ckpt\n",
      "1000/1000 [==============================] - 1s 813us/step - loss: 0.1547 - acc: 0.9560 - val_loss: 0.4158 - val_acc: 0.8680\n",
      "Epoch 6/10\n",
      " 992/1000 [============================>.] - ETA: 0s - loss: 0.1198 - acc: 0.9718\n",
      "Epoch 00006: saving model to ./checkpoints/t_1/cp.ckpt\n",
      "1000/1000 [==============================] - 1s 647us/step - loss: 0.1218 - acc: 0.9710 - val_loss: 0.4435 - val_acc: 0.8540\n",
      "Epoch 7/10\n",
      " 800/1000 [=======================>......] - ETA: 0s - loss: 0.0775 - acc: 0.9888\n",
      "Epoch 00007: saving model to ./checkpoints/t_1/cp.ckpt\n",
      "1000/1000 [==============================] - 1s 632us/step - loss: 0.0880 - acc: 0.9860 - val_loss: 0.4249 - val_acc: 0.8660\n",
      "Epoch 8/10\n",
      " 896/1000 [=========================>....] - ETA: 0s - loss: 0.0690 - acc: 0.9911\n",
      "Epoch 00008: saving model to ./checkpoints/t_1/cp.ckpt\n",
      "1000/1000 [==============================] - 1s 777us/step - loss: 0.0716 - acc: 0.9900 - val_loss: 0.4514 - val_acc: 0.8530\n",
      "Epoch 9/10\n",
      " 896/1000 [=========================>....] - ETA: 0s - loss: 0.0515 - acc: 0.9989\n",
      "Epoch 00009: saving model to ./checkpoints/t_1/cp.ckpt\n",
      "1000/1000 [==============================] - 1s 774us/step - loss: 0.0523 - acc: 0.9970 - val_loss: 0.4207 - val_acc: 0.8720\n",
      "Epoch 10/10\n",
      " 832/1000 [=======================>......] - ETA: 0s - loss: 0.0414 - acc: 1.0000\n",
      "Epoch 00010: saving model to ./checkpoints/t_1/cp.ckpt\n",
      "1000/1000 [==============================] - 1s 678us/step - loss: 0.0400 - acc: 1.0000 - val_loss: 0.4246 - val_acc: 0.8700\n"
     ]
    },
    {
     "data": {
      "text/plain": [
       "<tensorflow.python.keras.callbacks.History at 0x192aba95d30>"
      ]
     },
     "execution_count": 13,
     "metadata": {},
     "output_type": "execute_result"
    }
   ],
   "source": [
    "model.fit(train_images, train_labels, epochs=10, validation_data=(test_images, test_labels), callbacks=[cp_callback])"
   ]
  },
  {
   "cell_type": "markdown",
   "metadata": {},
   "source": [
    "#### Rebuild the new model"
   ]
  },
  {
   "cell_type": "code",
   "execution_count": 14,
   "metadata": {},
   "outputs": [],
   "source": [
    "model = buil_model()"
   ]
  },
  {
   "cell_type": "code",
   "execution_count": 15,
   "metadata": {},
   "outputs": [
    {
     "name": "stdout",
     "output_type": "stream",
     "text": [
      "1000/1000 [==============================] - 0s 404us/step\n"
     ]
    }
   ],
   "source": [
    "loss, acc = model.evaluate(test_images, test_labels)"
   ]
  },
  {
   "cell_type": "code",
   "execution_count": 16,
   "metadata": {},
   "outputs": [
    {
     "name": "stdout",
     "output_type": "stream",
     "text": [
      "Untrained model, accuracy: 0.061\n"
     ]
    }
   ],
   "source": [
    "print('Untrained model, accuracy: {}'.format(acc))"
   ]
  },
  {
   "cell_type": "markdown",
   "metadata": {},
   "source": [
    "#### Load the weights from the checkpoint and re-evaluate"
   ]
  },
  {
   "cell_type": "code",
   "execution_count": 17,
   "metadata": {},
   "outputs": [
    {
     "data": {
      "text/plain": [
       "<tensorflow.python.training.checkpointable.util.CheckpointLoadStatus at 0x192ad800b38>"
      ]
     },
     "execution_count": 17,
     "metadata": {},
     "output_type": "execute_result"
    }
   ],
   "source": [
    "model.load_weights(checkpoint_path)"
   ]
  },
  {
   "cell_type": "code",
   "execution_count": 18,
   "metadata": {},
   "outputs": [
    {
     "name": "stdout",
     "output_type": "stream",
     "text": [
      "1000/1000 [==============================] - 0s 131us/step\n"
     ]
    }
   ],
   "source": [
    "loss, acc = model.evaluate(test_images, test_labels)"
   ]
  },
  {
   "cell_type": "code",
   "execution_count": 19,
   "metadata": {},
   "outputs": [
    {
     "name": "stdout",
     "output_type": "stream",
     "text": [
      "Restored model, accuracy: 0.87\n"
     ]
    }
   ],
   "source": [
    "print('Restored model, accuracy: {}'.format(acc))"
   ]
  },
  {
   "cell_type": "markdown",
   "metadata": {},
   "source": [
    "#### Checkpoint callback options"
   ]
  },
  {
   "cell_type": "markdown",
   "metadata": {},
   "source": [
    "Train a model, and save uniquely named checkpoints once every 5-epochs."
   ]
  },
  {
   "cell_type": "code",
   "execution_count": 20,
   "metadata": {},
   "outputs": [],
   "source": [
    "checkpoint_path = './checkpoints/t_2/cp-{epoch:04d}.ckpt'"
   ]
  },
  {
   "cell_type": "code",
   "execution_count": 21,
   "metadata": {},
   "outputs": [],
   "source": [
    "cp_callback = tf.keras.callbacks.ModelCheckpoint(checkpoint_path, verbose=1, save_weights_only=True, period=5)"
   ]
  },
  {
   "cell_type": "code",
   "execution_count": 22,
   "metadata": {},
   "outputs": [],
   "source": [
    "model = buil_model()"
   ]
  },
  {
   "cell_type": "code",
   "execution_count": 23,
   "metadata": {},
   "outputs": [],
   "source": [
    "model.save_weights(checkpoint_path.format(epoch=0))"
   ]
  },
  {
   "cell_type": "code",
   "execution_count": 24,
   "metadata": {},
   "outputs": [
    {
     "name": "stdout",
     "output_type": "stream",
     "text": [
      "Train on 1000 samples, validate on 1000 samples\n",
      "Epoch 1/50\n",
      "1000/1000 [==============================] - 1s 1ms/step - loss: 1.1682 - acc: 0.6720 - val_loss: 0.6926 - val_acc: 0.7990\n",
      "Epoch 2/50\n",
      "1000/1000 [==============================] - 1s 630us/step - loss: 0.4020 - acc: 0.8870 - val_loss: 0.5299 - val_acc: 0.8350\n",
      "Epoch 3/50\n",
      "1000/1000 [==============================] - 1s 526us/step - loss: 0.2657 - acc: 0.9430 - val_loss: 0.4734 - val_acc: 0.8570\n",
      "Epoch 4/50\n",
      "1000/1000 [==============================] - 1s 571us/step - loss: 0.1970 - acc: 0.9530 - val_loss: 0.4306 - val_acc: 0.8600\n",
      "Epoch 5/50\n",
      " 992/1000 [============================>.] - ETA: 0s - loss: 0.1459 - acc: 0.9708\n",
      "Epoch 00005: saving model to ./checkpoints/t_2/cp-0005.ckpt\n",
      "1000/1000 [==============================] - 1s 1ms/step - loss: 0.1454 - acc: 0.9710 - val_loss: 0.4173 - val_acc: 0.8620\n",
      "Epoch 6/50\n",
      "1000/1000 [==============================] - 1s 526us/step - loss: 0.1056 - acc: 0.9800 - val_loss: 0.4069 - val_acc: 0.8680\n",
      "Epoch 7/50\n",
      "1000/1000 [==============================] - 1s 528us/step - loss: 0.0820 - acc: 0.9870 - val_loss: 0.4395 - val_acc: 0.8540\n",
      "Epoch 8/50\n",
      "1000/1000 [==============================] - 1s 594us/step - loss: 0.0631 - acc: 0.9920 - val_loss: 0.4100 - val_acc: 0.8670\n",
      "Epoch 9/50\n",
      "1000/1000 [==============================] - 1s 550us/step - loss: 0.0470 - acc: 0.9980 - val_loss: 0.4107 - val_acc: 0.8650\n",
      "Epoch 10/50\n",
      " 896/1000 [=========================>....] - ETA: 0s - loss: 0.0433 - acc: 0.9989\n",
      "Epoch 00010: saving model to ./checkpoints/t_2/cp-0010.ckpt\n",
      "1000/1000 [==============================] - 1s 794us/step - loss: 0.0430 - acc: 0.9990 - val_loss: 0.4130 - val_acc: 0.8670\n",
      "Epoch 11/50\n",
      "1000/1000 [==============================] - 1s 589us/step - loss: 0.0308 - acc: 0.9990 - val_loss: 0.4095 - val_acc: 0.8720\n",
      "Epoch 12/50\n",
      "1000/1000 [==============================] - 1s 622us/step - loss: 0.0228 - acc: 0.9990 - val_loss: 0.4181 - val_acc: 0.8710\n",
      "Epoch 13/50\n",
      "1000/1000 [==============================] - 1s 627us/step - loss: 0.0196 - acc: 1.0000 - val_loss: 0.4187 - val_acc: 0.8680\n",
      "Epoch 14/50\n",
      "1000/1000 [==============================] - 1s 644us/step - loss: 0.0159 - acc: 1.0000 - val_loss: 0.4222 - val_acc: 0.8710\n",
      "Epoch 15/50\n",
      " 928/1000 [==========================>...] - ETA: 0s - loss: 0.0165 - acc: 1.0000\n",
      "Epoch 00015: saving model to ./checkpoints/t_2/cp-0015.ckpt\n",
      "1000/1000 [==============================] - 1s 1ms/step - loss: 0.0162 - acc: 1.0000 - val_loss: 0.4141 - val_acc: 0.8730\n",
      "Epoch 16/50\n",
      "1000/1000 [==============================] - 1s 612us/step - loss: 0.0116 - acc: 1.0000 - val_loss: 0.4256 - val_acc: 0.8710\n",
      "Epoch 17/50\n",
      "1000/1000 [==============================] - 1s 672us/step - loss: 0.0105 - acc: 1.0000 - val_loss: 0.4248 - val_acc: 0.8740\n",
      "Epoch 18/50\n",
      "1000/1000 [==============================] - 1s 562us/step - loss: 0.0095 - acc: 1.0000 - val_loss: 0.4218 - val_acc: 0.8710\n",
      "Epoch 19/50\n",
      "1000/1000 [==============================] - 1s 645us/step - loss: 0.0087 - acc: 1.0000 - val_loss: 0.4398 - val_acc: 0.8690\n",
      "Epoch 20/50\n",
      " 992/1000 [============================>.] - ETA: 0s - loss: 0.0072 - acc: 1.0000\n",
      "Epoch 00020: saving model to ./checkpoints/t_2/cp-0020.ckpt\n",
      "1000/1000 [==============================] - 1s 998us/step - loss: 0.0071 - acc: 1.0000 - val_loss: 0.4347 - val_acc: 0.8730\n",
      "Epoch 21/50\n",
      "1000/1000 [==============================] - 1s 603us/step - loss: 0.0068 - acc: 1.0000 - val_loss: 0.4350 - val_acc: 0.8770\n",
      "Epoch 22/50\n",
      "1000/1000 [==============================] - 1s 577us/step - loss: 0.0069 - acc: 1.0000 - val_loss: 0.4312 - val_acc: 0.8760\n",
      "Epoch 23/50\n",
      "1000/1000 [==============================] - 1s 646us/step - loss: 0.0056 - acc: 1.0000 - val_loss: 0.4417 - val_acc: 0.8730\n",
      "Epoch 24/50\n",
      "1000/1000 [==============================] - 1s 555us/step - loss: 0.0057 - acc: 1.0000 - val_loss: 0.4473 - val_acc: 0.8670\n",
      "Epoch 25/50\n",
      " 992/1000 [============================>.] - ETA: 0s - loss: 0.0050 - acc: 1.0000\n",
      "Epoch 00025: saving model to ./checkpoints/t_2/cp-0025.ckpt\n",
      "1000/1000 [==============================] - 1s 952us/step - loss: 0.0050 - acc: 1.0000 - val_loss: 0.4566 - val_acc: 0.8710\n",
      "Epoch 26/50\n",
      "1000/1000 [==============================] - 1s 523us/step - loss: 0.0046 - acc: 1.0000 - val_loss: 0.4492 - val_acc: 0.8760\n",
      "Epoch 27/50\n",
      "1000/1000 [==============================] - 1s 509us/step - loss: 0.0040 - acc: 1.0000 - val_loss: 0.4538 - val_acc: 0.8770\n",
      "Epoch 28/50\n",
      "1000/1000 [==============================] - 1s 503us/step - loss: 0.0037 - acc: 1.0000 - val_loss: 0.4452 - val_acc: 0.8760\n",
      "Epoch 29/50\n",
      "1000/1000 [==============================] - 0s 493us/step - loss: 0.0034 - acc: 1.0000 - val_loss: 0.4592 - val_acc: 0.8710\n",
      "Epoch 30/50\n",
      " 896/1000 [=========================>....] - ETA: 0s - loss: 0.0034 - acc: 1.0000\n",
      "Epoch 00030: saving model to ./checkpoints/t_2/cp-0030.ckpt\n",
      "1000/1000 [==============================] - 1s 678us/step - loss: 0.0034 - acc: 1.0000 - val_loss: 0.4609 - val_acc: 0.8720\n",
      "Epoch 31/50\n",
      "1000/1000 [==============================] - 0s 399us/step - loss: 0.0030 - acc: 1.0000 - val_loss: 0.4648 - val_acc: 0.8700\n",
      "Epoch 32/50\n",
      "1000/1000 [==============================] - 0s 399us/step - loss: 0.0030 - acc: 1.0000 - val_loss: 0.4752 - val_acc: 0.8690\n",
      "Epoch 33/50\n",
      "1000/1000 [==============================] - 0s 409us/step - loss: 0.0029 - acc: 1.0000 - val_loss: 0.4656 - val_acc: 0.8750\n",
      "Epoch 34/50\n",
      "1000/1000 [==============================] - 0s 491us/step - loss: 0.0026 - acc: 1.0000 - val_loss: 0.4697 - val_acc: 0.8710\n",
      "Epoch 35/50\n",
      " 896/1000 [=========================>....] - ETA: 0s - loss: 0.0025 - acc: 1.0000\n",
      "Epoch 00035: saving model to ./checkpoints/t_2/cp-0035.ckpt\n",
      "1000/1000 [==============================] - 1s 863us/step - loss: 0.0025 - acc: 1.0000 - val_loss: 0.4670 - val_acc: 0.8790\n",
      "Epoch 36/50\n",
      "1000/1000 [==============================] - 1s 622us/step - loss: 0.0025 - acc: 1.0000 - val_loss: 0.4707 - val_acc: 0.8790\n",
      "Epoch 37/50\n",
      "1000/1000 [==============================] - 0s 456us/step - loss: 0.0024 - acc: 1.0000 - val_loss: 0.4773 - val_acc: 0.8770\n",
      "Epoch 38/50\n",
      "1000/1000 [==============================] - 0s 403us/step - loss: 0.0021 - acc: 1.0000 - val_loss: 0.4641 - val_acc: 0.8750\n",
      "Epoch 39/50\n",
      "1000/1000 [==============================] - 1s 658us/step - loss: 0.0018 - acc: 1.0000 - val_loss: 0.4717 - val_acc: 0.8750\n",
      "Epoch 40/50\n",
      " 896/1000 [=========================>....] - ETA: 0s - loss: 0.0016 - acc: 1.0000\n",
      "Epoch 00040: saving model to ./checkpoints/t_2/cp-0040.ckpt\n",
      "1000/1000 [==============================] - 1s 751us/step - loss: 0.0016 - acc: 1.0000 - val_loss: 0.4773 - val_acc: 0.8770\n",
      "Epoch 41/50\n",
      "1000/1000 [==============================] - 1s 520us/step - loss: 0.0018 - acc: 1.0000 - val_loss: 0.4854 - val_acc: 0.8750\n",
      "Epoch 42/50\n",
      "1000/1000 [==============================] - 0s 411us/step - loss: 0.0018 - acc: 1.0000 - val_loss: 0.4866 - val_acc: 0.8770\n",
      "Epoch 43/50\n",
      "1000/1000 [==============================] - 0s 403us/step - loss: 0.0016 - acc: 1.0000 - val_loss: 0.4916 - val_acc: 0.8680\n",
      "Epoch 44/50\n",
      "1000/1000 [==============================] - 0s 397us/step - loss: 0.0016 - acc: 1.0000 - val_loss: 0.4859 - val_acc: 0.8770\n",
      "Epoch 45/50\n",
      " 960/1000 [===========================>..] - ETA: 0s - loss: 0.0014 - acc: 1.0000\n",
      "Epoch 00045: saving model to ./checkpoints/t_2/cp-0045.ckpt\n",
      "1000/1000 [==============================] - 1s 1ms/step - loss: 0.0014 - acc: 1.0000 - val_loss: 0.4800 - val_acc: 0.8750\n",
      "Epoch 46/50\n",
      "1000/1000 [==============================] - 1s 577us/step - loss: 0.0012 - acc: 1.0000 - val_loss: 0.4922 - val_acc: 0.8740\n",
      "Epoch 47/50\n",
      "1000/1000 [==============================] - 0s 419us/step - loss: 0.0011 - acc: 1.0000 - val_loss: 0.4998 - val_acc: 0.8750\n",
      "Epoch 48/50\n",
      "1000/1000 [==============================] - 1s 527us/step - loss: 0.0015 - acc: 1.0000 - val_loss: 0.4914 - val_acc: 0.8780\n",
      "Epoch 49/50\n",
      "1000/1000 [==============================] - 1s 517us/step - loss: 0.0013 - acc: 1.0000 - val_loss: 0.4937 - val_acc: 0.8780\n",
      "Epoch 50/50\n",
      " 896/1000 [=========================>....] - ETA: 0s - loss: 0.0010 - acc: 1.0000    \n",
      "Epoch 00050: saving model to ./checkpoints/t_2/cp-0050.ckpt\n",
      "1000/1000 [==============================] - 1s 642us/step - loss: 0.0010 - acc: 1.0000 - val_loss: 0.4936 - val_acc: 0.8780\n"
     ]
    },
    {
     "data": {
      "text/plain": [
       "<tensorflow.python.keras.callbacks.History at 0x192adcb8fd0>"
      ]
     },
     "execution_count": 24,
     "metadata": {},
     "output_type": "execute_result"
    }
   ],
   "source": [
    "model.fit(train_images, train_labels, epochs=50, callbacks=[cp_callback], validation_data=(test_images, test_labels), verbose=1)"
   ]
  },
  {
   "cell_type": "markdown",
   "metadata": {},
   "source": [
    "#### Reset and evaluate model using latest checkpoint"
   ]
  },
  {
   "cell_type": "code",
   "execution_count": 25,
   "metadata": {},
   "outputs": [
    {
     "data": {
      "text/plain": [
       "'./checkpoints/t_2/cp-0050.ckpt'"
      ]
     },
     "execution_count": 25,
     "metadata": {},
     "output_type": "execute_result"
    }
   ],
   "source": [
    "latest = tf.train.latest_checkpoint('./checkpoints/t_2/')\n",
    "latest"
   ]
  },
  {
   "cell_type": "code",
   "execution_count": 26,
   "metadata": {},
   "outputs": [],
   "source": [
    "model = buil_model()"
   ]
  },
  {
   "cell_type": "code",
   "execution_count": 27,
   "metadata": {},
   "outputs": [
    {
     "data": {
      "text/plain": [
       "<tensorflow.python.training.checkpointable.util.CheckpointLoadStatus at 0x192ae69b470>"
      ]
     },
     "execution_count": 27,
     "metadata": {},
     "output_type": "execute_result"
    }
   ],
   "source": [
    "model.load_weights(latest)"
   ]
  },
  {
   "cell_type": "code",
   "execution_count": 28,
   "metadata": {},
   "outputs": [
    {
     "name": "stdout",
     "output_type": "stream",
     "text": [
      "1000/1000 [==============================] - 0s 348us/step\n"
     ]
    }
   ],
   "source": [
    "loss, acc = model.evaluate(test_images, test_labels)"
   ]
  },
  {
   "cell_type": "code",
   "execution_count": 29,
   "metadata": {},
   "outputs": [
    {
     "name": "stdout",
     "output_type": "stream",
     "text": [
      "Restored model, accuracy: 0.878\n"
     ]
    }
   ],
   "source": [
    "print('Restored model, accuracy: {}'.format(acc))"
   ]
  },
  {
   "cell_type": "markdown",
   "metadata": {},
   "source": [
    "#### Manually save weights"
   ]
  },
  {
   "cell_type": "code",
   "execution_count": 30,
   "metadata": {},
   "outputs": [],
   "source": [
    "model.save_weights('./checkpoints/manual_ckpt/')"
   ]
  },
  {
   "cell_type": "code",
   "execution_count": 31,
   "metadata": {},
   "outputs": [],
   "source": [
    "model = buil_model()"
   ]
  },
  {
   "cell_type": "code",
   "execution_count": 32,
   "metadata": {},
   "outputs": [
    {
     "data": {
      "text/plain": [
       "<tensorflow.python.training.checkpointable.util.CheckpointLoadStatus at 0x192b11bf2b0>"
      ]
     },
     "execution_count": 32,
     "metadata": {},
     "output_type": "execute_result"
    }
   ],
   "source": [
    "model.load_weights('./checkpoints/manual_ckpt/')"
   ]
  },
  {
   "cell_type": "code",
   "execution_count": 33,
   "metadata": {},
   "outputs": [
    {
     "name": "stdout",
     "output_type": "stream",
     "text": [
      "1000/1000 [==============================] - 1s 513us/step\n"
     ]
    }
   ],
   "source": [
    "loss, acc = model.evaluate(test_images, test_labels)"
   ]
  },
  {
   "cell_type": "code",
   "execution_count": 34,
   "metadata": {},
   "outputs": [
    {
     "name": "stdout",
     "output_type": "stream",
     "text": [
      "Restored model, accuracy: 0.878\n"
     ]
    }
   ],
   "source": [
    "print('Restored model, accuracy: {}'.format(acc))"
   ]
  },
  {
   "cell_type": "markdown",
   "metadata": {},
   "source": [
    "#### Save the entire model"
   ]
  },
  {
   "cell_type": "markdown",
   "metadata": {},
   "source": [
    "As an HDF5 file"
   ]
  },
  {
   "cell_type": "code",
   "execution_count": 35,
   "metadata": {},
   "outputs": [],
   "source": [
    "model = buil_model()"
   ]
  },
  {
   "cell_type": "code",
   "execution_count": 36,
   "metadata": {},
   "outputs": [
    {
     "name": "stdout",
     "output_type": "stream",
     "text": [
      "Epoch 1/5\n",
      "1000/1000 [==============================] - 1s 819us/step - loss: 1.1631 - acc: 0.6550\n",
      "Epoch 2/5\n",
      "1000/1000 [==============================] - 0s 346us/step - loss: 0.4285 - acc: 0.8780\n",
      "Epoch 3/5\n",
      "1000/1000 [==============================] - 0s 329us/step - loss: 0.2859 - acc: 0.9270\n",
      "Epoch 4/5\n",
      "1000/1000 [==============================] - 0s 386us/step - loss: 0.2152 - acc: 0.9480\n",
      "Epoch 5/5\n",
      "1000/1000 [==============================] - 0s 420us/step - loss: 0.1553 - acc: 0.9660\n"
     ]
    },
    {
     "data": {
      "text/plain": [
       "<tensorflow.python.keras.callbacks.History at 0x192ad9adbe0>"
      ]
     },
     "execution_count": 36,
     "metadata": {},
     "output_type": "execute_result"
    }
   ],
   "source": [
    "model.fit(train_images, train_labels, epochs=5)"
   ]
  },
  {
   "cell_type": "code",
   "execution_count": 37,
   "metadata": {},
   "outputs": [
    {
     "name": "stdout",
     "output_type": "stream",
     "text": [
      "WARNING:tensorflow:TensorFlow optimizers do not make it possible to access optimizer attributes or optimizer state after instantiation. As a result, we cannot save the optimizer as part of the model save file.You will have to compile your model again after loading it. Prefer using a Keras optimizer instead (see keras.io/optimizers).\n"
     ]
    }
   ],
   "source": [
    "model.save('./saved_models/model.h5')"
   ]
  },
  {
   "cell_type": "code",
   "execution_count": 38,
   "metadata": {},
   "outputs": [
    {
     "name": "stdout",
     "output_type": "stream",
     "text": [
      "WARNING:tensorflow:No training configuration found in save file: the model was *not* compiled. Compile it manually.\n"
     ]
    }
   ],
   "source": [
    "new_model = keras.models.load_model('./saved_models/model.h5')"
   ]
  },
  {
   "cell_type": "code",
   "execution_count": 39,
   "metadata": {},
   "outputs": [],
   "source": [
    "# Since the optimizer is not saved as part of the model save file, we have to compile it again!\n",
    "\n",
    "new_model.compile(optimizer=tf.train.AdamOptimizer(),\n",
    "                 loss=tf.keras.losses.sparse_categorical_crossentropy,\n",
    "                 metrics=['accuracy'])"
   ]
  },
  {
   "cell_type": "code",
   "execution_count": 40,
   "metadata": {},
   "outputs": [
    {
     "name": "stdout",
     "output_type": "stream",
     "text": [
      "1000/1000 [==============================] - 1s 527us/step\n"
     ]
    }
   ],
   "source": [
    "loss, acc = new_model.evaluate(test_images, test_labels)"
   ]
  },
  {
   "cell_type": "code",
   "execution_count": 41,
   "metadata": {},
   "outputs": [
    {
     "name": "stdout",
     "output_type": "stream",
     "text": [
      "Restored model, accuracy: 0.855\n"
     ]
    }
   ],
   "source": [
    "print('Restored model, accuracy: {}'.format(acc))"
   ]
  }
 ],
 "metadata": {
  "kernelspec": {
   "display_name": "Python 3",
   "language": "python",
   "name": "python3"
  },
  "language_info": {
   "codemirror_mode": {
    "name": "ipython",
    "version": 3
   },
   "file_extension": ".py",
   "mimetype": "text/x-python",
   "name": "python",
   "nbconvert_exporter": "python",
   "pygments_lexer": "ipython3",
   "version": "3.6.8"
  }
 },
 "nbformat": 4,
 "nbformat_minor": 2
}
