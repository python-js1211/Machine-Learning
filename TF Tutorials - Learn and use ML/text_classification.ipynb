{
 "cells": [
  {
   "cell_type": "markdown",
   "metadata": {},
   "source": [
    "### [Text classification with movie reviews](https://www.tensorflow.org/tutorials/keras/basic_text_classification)"
   ]
  },
  {
   "cell_type": "code",
   "execution_count": 1,
   "metadata": {},
   "outputs": [],
   "source": [
    "from __future__ import absolute_import, division, print_function, unicode_literals\n",
    "\n",
    "import tensorflow as tf\n",
    "from tensorflow import keras\n",
    "\n",
    "import numpy as np\n",
    "\n",
    "import matplotlib.pyplot as plt"
   ]
  },
  {
   "cell_type": "code",
   "execution_count": 2,
   "metadata": {},
   "outputs": [
    {
     "name": "stdout",
     "output_type": "stream",
     "text": [
      "Tensorflow: 1.12.0\n",
      "Numpy: 1.16.2\n"
     ]
    }
   ],
   "source": [
    "print('Tensorflow: {}\\nNumpy: {}'.format(tf.__version__, np.version.version))"
   ]
  },
  {
   "cell_type": "markdown",
   "metadata": {},
   "source": [
    "#### Load the IMDB dataset"
   ]
  },
  {
   "cell_type": "code",
   "execution_count": 3,
   "metadata": {},
   "outputs": [],
   "source": [
    "imdb = keras.datasets.imdb\n",
    "(train_data, train_labels), (test_data, test_labels) = imdb.load_data(num_words=10000)"
   ]
  },
  {
   "cell_type": "markdown",
   "metadata": {},
   "source": [
    "**Note:** If it throws `ValueError: Object arrays cannot be loaded when allow_pickle=False`, try degrading **Numpy** to 1.16.2 using `!pip install numpy==1.16.1`."
   ]
  },
  {
   "cell_type": "markdown",
   "metadata": {},
   "source": [
    "#### About the data"
   ]
  },
  {
   "cell_type": "code",
   "execution_count": 4,
   "metadata": {},
   "outputs": [
    {
     "name": "stdout",
     "output_type": "stream",
     "text": [
      "Training data: 25000, labels: 25000\n"
     ]
    }
   ],
   "source": [
    "print('Training data: {}, labels: {}'.format(len(train_data), len(train_labels)))"
   ]
  },
  {
   "cell_type": "code",
   "execution_count": 5,
   "metadata": {},
   "outputs": [
    {
     "name": "stdout",
     "output_type": "stream",
     "text": [
      "[1, 14, 22, 16, 43, 530, 973, 1622, 1385, 65, 458, 4468, 66, 3941, 4, 173, 36, 256, 5, 25, 100, 43, 838, 112, 50, 670, 2, 9, 35, 480, 284, 5, 150, 4, 172, 112, 167, 2, 336, 385, 39, 4, 172, 4536, 1111, 17, 546, 38, 13, 447, 4, 192, 50, 16, 6, 147, 2025, 19, 14, 22, 4, 1920, 4613, 469, 4, 22, 71, 87, 12, 16, 43, 530, 38, 76, 15, 13, 1247, 4, 22, 17, 515, 17, 12, 16, 626, 18, 2, 5, 62, 386, 12, 8, 316, 8, 106, 5, 4, 2223, 5244, 16, 480, 66, 3785, 33, 4, 130, 12, 16, 38, 619, 5, 25, 124, 51, 36, 135, 48, 25, 1415, 33, 6, 22, 12, 215, 28, 77, 52, 5, 14, 407, 16, 82, 2, 8, 4, 107, 117, 5952, 15, 256, 4, 2, 7, 3766, 5, 723, 36, 71, 43, 530, 476, 26, 400, 317, 46, 7, 4, 2, 1029, 13, 104, 88, 4, 381, 15, 297, 98, 32, 2071, 56, 26, 141, 6, 194, 7486, 18, 4, 226, 22, 21, 134, 476, 26, 480, 5, 144, 30, 5535, 18, 51, 36, 28, 224, 92, 25, 104, 4, 226, 65, 16, 38, 1334, 88, 12, 16, 283, 5, 16, 4472, 113, 103, 32, 15, 16, 5345, 19, 178, 32]\n"
     ]
    }
   ],
   "source": [
    "print(train_data[0])"
   ]
  },
  {
   "cell_type": "code",
   "execution_count": 6,
   "metadata": {},
   "outputs": [
    {
     "data": {
      "text/plain": [
       "(218, 189)"
      ]
     },
     "execution_count": 6,
     "metadata": {},
     "output_type": "execute_result"
    }
   ],
   "source": [
    "len(train_data[0]), len(train_data[1])"
   ]
  },
  {
   "cell_type": "markdown",
   "metadata": {},
   "source": [
    "#### Converting integers back to words"
   ]
  },
  {
   "cell_type": "code",
   "execution_count": 7,
   "metadata": {},
   "outputs": [],
   "source": [
    "word_index = imdb.get_word_index()"
   ]
  },
  {
   "cell_type": "code",
   "execution_count": 8,
   "metadata": {},
   "outputs": [],
   "source": [
    "word_index = {k:(v+3) for k,v in word_index.items()}\n",
    "word_index['<PAD>'] = 0\n",
    "word_index['<START>'] = 1\n",
    "word_index['<UNK>'] = 2\n",
    "word_index['<UNUSED>'] = 3"
   ]
  },
  {
   "cell_type": "code",
   "execution_count": 9,
   "metadata": {},
   "outputs": [],
   "source": [
    "reverse_word_index = dict([(value, key) for  (key, value) in word_index.items()])"
   ]
  },
  {
   "cell_type": "code",
   "execution_count": 10,
   "metadata": {},
   "outputs": [],
   "source": [
    "def decode_review(text):\n",
    "    return ' '.join([reverse_word_index.get(i, '?') for i in text])"
   ]
  },
  {
   "cell_type": "code",
   "execution_count": 11,
   "metadata": {},
   "outputs": [
    {
     "data": {
      "text/plain": [
       "\"<START> this film was just brilliant casting location scenery story direction everyone's really suited the part they played and you could just imagine being there robert <UNK> is an amazing actor and now the same being director <UNK> father came from the same scottish island as myself so i loved the fact there was a real connection with this film the witty remarks throughout the film were great it was just brilliant so much that i bought the film as soon as it was released for <UNK> and would recommend it to everyone to watch and the fly fishing was amazing really cried at the end it was so sad and you know what they say if you cry at a film it must have been good and this definitely was also <UNK> to the two little boy's that played the <UNK> of norman and paul they were just brilliant children are often left out of the <UNK> list i think because the stars that play them all grown up are such a big profile for the whole film but these children are amazing and should be praised for what they have done don't you think the whole story was so lovely because it was true and was someone's life after all that was shared with us all\""
      ]
     },
     "execution_count": 11,
     "metadata": {},
     "output_type": "execute_result"
    }
   ],
   "source": [
    "decode_review(train_data[0])"
   ]
  },
  {
   "cell_type": "markdown",
   "metadata": {},
   "source": [
    "#### Prepare the data"
   ]
  },
  {
   "cell_type": "markdown",
   "metadata": {},
   "source": [
    "Since the movie reviews must be the same length, we will use the `pad_sequences` function to standardize the lengths."
   ]
  },
  {
   "cell_type": "code",
   "execution_count": 12,
   "metadata": {},
   "outputs": [],
   "source": [
    "train_data = keras.preprocessing.sequence.pad_sequences(train_data, value=word_index['<PAD>'], padding='post', maxlen=256)\n",
    "test_data = keras.preprocessing.sequence.pad_sequences(test_data, value=word_index['<PAD>'], padding='post', maxlen=256)"
   ]
  },
  {
   "cell_type": "code",
   "execution_count": 13,
   "metadata": {},
   "outputs": [
    {
     "data": {
      "text/plain": [
       "(256, 256)"
      ]
     },
     "execution_count": 13,
     "metadata": {},
     "output_type": "execute_result"
    }
   ],
   "source": [
    "len(train_data[0]), len(train_data[1])"
   ]
  },
  {
   "cell_type": "code",
   "execution_count": 14,
   "metadata": {},
   "outputs": [
    {
     "name": "stdout",
     "output_type": "stream",
     "text": [
      "[   1   14   22   16   43  530  973 1622 1385   65  458 4468   66 3941\n",
      "    4  173   36  256    5   25  100   43  838  112   50  670    2    9\n",
      "   35  480  284    5  150    4  172  112  167    2  336  385   39    4\n",
      "  172 4536 1111   17  546   38   13  447    4  192   50   16    6  147\n",
      " 2025   19   14   22    4 1920 4613  469    4   22   71   87   12   16\n",
      "   43  530   38   76   15   13 1247    4   22   17  515   17   12   16\n",
      "  626   18    2    5   62  386   12    8  316    8  106    5    4 2223\n",
      " 5244   16  480   66 3785   33    4  130   12   16   38  619    5   25\n",
      "  124   51   36  135   48   25 1415   33    6   22   12  215   28   77\n",
      "   52    5   14  407   16   82    2    8    4  107  117 5952   15  256\n",
      "    4    2    7 3766    5  723   36   71   43  530  476   26  400  317\n",
      "   46    7    4    2 1029   13  104   88    4  381   15  297   98   32\n",
      " 2071   56   26  141    6  194 7486   18    4  226   22   21  134  476\n",
      "   26  480    5  144   30 5535   18   51   36   28  224   92   25  104\n",
      "    4  226   65   16   38 1334   88   12   16  283    5   16 4472  113\n",
      "  103   32   15   16 5345   19  178   32    0    0    0    0    0    0\n",
      "    0    0    0    0    0    0    0    0    0    0    0    0    0    0\n",
      "    0    0    0    0    0    0    0    0    0    0    0    0    0    0\n",
      "    0    0    0    0]\n"
     ]
    }
   ],
   "source": [
    "print(train_data[0])"
   ]
  },
  {
   "cell_type": "markdown",
   "metadata": {},
   "source": [
    "#### Build the model"
   ]
  },
  {
   "cell_type": "code",
   "execution_count": 15,
   "metadata": {},
   "outputs": [],
   "source": [
    "VOCAB_SIZE = 10000"
   ]
  },
  {
   "cell_type": "code",
   "execution_count": 16,
   "metadata": {},
   "outputs": [],
   "source": [
    "model = keras.Sequential()"
   ]
  },
  {
   "cell_type": "code",
   "execution_count": 17,
   "metadata": {},
   "outputs": [],
   "source": [
    "model.add(keras.layers.Embedding(VOCAB_SIZE, 16))\n",
    "model.add(keras.layers.GlobalAveragePooling1D())\n",
    "model.add(keras.layers.Dense(16, activation=tf.nn.relu))\n",
    "model.add(keras.layers.Dense(1, activation=tf.nn.sigmoid))"
   ]
  },
  {
   "cell_type": "code",
   "execution_count": 18,
   "metadata": {},
   "outputs": [
    {
     "name": "stdout",
     "output_type": "stream",
     "text": [
      "_________________________________________________________________\n",
      "Layer (type)                 Output Shape              Param #   \n",
      "=================================================================\n",
      "embedding (Embedding)        (None, None, 16)          160000    \n",
      "_________________________________________________________________\n",
      "global_average_pooling1d (Gl (None, 16)                0         \n",
      "_________________________________________________________________\n",
      "dense (Dense)                (None, 16)                272       \n",
      "_________________________________________________________________\n",
      "dense_1 (Dense)              (None, 1)                 17        \n",
      "=================================================================\n",
      "Total params: 160,289\n",
      "Trainable params: 160,289\n",
      "Non-trainable params: 0\n",
      "_________________________________________________________________\n"
     ]
    }
   ],
   "source": [
    "model.summary()"
   ]
  },
  {
   "cell_type": "markdown",
   "metadata": {},
   "source": [
    "#### Compile the model"
   ]
  },
  {
   "cell_type": "code",
   "execution_count": 19,
   "metadata": {},
   "outputs": [],
   "source": [
    "model.compile(optimizer='adam',\n",
    "             loss='binary_crossentropy',\n",
    "             metrics=['accuracy'])"
   ]
  },
  {
   "cell_type": "markdown",
   "metadata": {},
   "source": [
    "#### Create validation set"
   ]
  },
  {
   "cell_type": "code",
   "execution_count": 20,
   "metadata": {},
   "outputs": [],
   "source": [
    "x_val = train_data[:10000]\n",
    "partial_x_train = train_data[10000:]"
   ]
  },
  {
   "cell_type": "code",
   "execution_count": 21,
   "metadata": {},
   "outputs": [],
   "source": [
    "y_val = train_labels[:10000]\n",
    "partial_y_train = train_labels[10000:]"
   ]
  },
  {
   "cell_type": "markdown",
   "metadata": {},
   "source": [
    "#### Training the model"
   ]
  },
  {
   "cell_type": "code",
   "execution_count": 22,
   "metadata": {},
   "outputs": [
    {
     "name": "stderr",
     "output_type": "stream",
     "text": [
      "C:\\Users\\harshil\\AppData\\Roaming\\Python\\Python36\\site-packages\\tensorflow\\python\\ops\\gradients_impl.py:112: UserWarning: Converting sparse IndexedSlices to a dense Tensor of unknown shape. This may consume a large amount of memory.\n",
      "  \"Converting sparse IndexedSlices to a dense Tensor of unknown shape. \"\n"
     ]
    },
    {
     "name": "stdout",
     "output_type": "stream",
     "text": [
      "Train on 15000 samples, validate on 10000 samples\n",
      "Epoch 1/40\n",
      "15000/15000 [==============================] - 3s 181us/step - loss: 0.6920 - acc: 0.5236 - val_loss: 0.6903 - val_acc: 0.5420\n",
      "Epoch 2/40\n",
      "15000/15000 [==============================] - 2s 133us/step - loss: 0.6864 - acc: 0.6844 - val_loss: 0.6819 - val_acc: 0.7115\n",
      "Epoch 3/40\n",
      "15000/15000 [==============================] - 2s 117us/step - loss: 0.6736 - acc: 0.7516 - val_loss: 0.6659 - val_acc: 0.7517\n",
      "Epoch 4/40\n",
      "15000/15000 [==============================] - 2s 117us/step - loss: 0.6507 - acc: 0.7603 - val_loss: 0.6400 - val_acc: 0.7646\n",
      "Epoch 5/40\n",
      "15000/15000 [==============================] - 2s 124us/step - loss: 0.6165 - acc: 0.7903 - val_loss: 0.6032 - val_acc: 0.7825\n",
      "Epoch 6/40\n",
      "15000/15000 [==============================] - 2s 125us/step - loss: 0.5731 - acc: 0.8078 - val_loss: 0.5612 - val_acc: 0.7964\n",
      "Epoch 7/40\n",
      "15000/15000 [==============================] - 2s 133us/step - loss: 0.5249 - acc: 0.8282 - val_loss: 0.5170 - val_acc: 0.8153\n",
      "Epoch 8/40\n",
      "15000/15000 [==============================] - 2s 120us/step - loss: 0.4769 - acc: 0.8452 - val_loss: 0.4752 - val_acc: 0.8320\n",
      "Epoch 9/40\n",
      "15000/15000 [==============================] - 2s 121us/step - loss: 0.4332 - acc: 0.8578 - val_loss: 0.4386 - val_acc: 0.8428\n",
      "Epoch 10/40\n",
      "15000/15000 [==============================] - 2s 122us/step - loss: 0.3940 - acc: 0.8734 - val_loss: 0.4073 - val_acc: 0.8509\n",
      "Epoch 11/40\n",
      "15000/15000 [==============================] - 2s 134us/step - loss: 0.3607 - acc: 0.8810 - val_loss: 0.3840 - val_acc: 0.8557\n",
      "Epoch 12/40\n",
      "15000/15000 [==============================] - 2s 124us/step - loss: 0.3333 - acc: 0.8889 - val_loss: 0.3617 - val_acc: 0.8643\n",
      "Epoch 13/40\n",
      "15000/15000 [==============================] - 2s 123us/step - loss: 0.3087 - acc: 0.8958 - val_loss: 0.3464 - val_acc: 0.8686\n",
      "Epoch 14/40\n",
      "15000/15000 [==============================] - 2s 130us/step - loss: 0.2886 - acc: 0.9017 - val_loss: 0.3329 - val_acc: 0.8725\n",
      "Epoch 15/40\n",
      "15000/15000 [==============================] - 2s 146us/step - loss: 0.2712 - acc: 0.9060 - val_loss: 0.3227 - val_acc: 0.8745\n",
      "Epoch 16/40\n",
      "15000/15000 [==============================] - 2s 152us/step - loss: 0.2564 - acc: 0.9101 - val_loss: 0.3143 - val_acc: 0.8770\n",
      "Epoch 17/40\n",
      "15000/15000 [==============================] - 2s 140us/step - loss: 0.2422 - acc: 0.9156 - val_loss: 0.3075 - val_acc: 0.8774\n",
      "Epoch 18/40\n",
      "15000/15000 [==============================] - 2s 152us/step - loss: 0.2298 - acc: 0.9208 - val_loss: 0.3018 - val_acc: 0.8802\n",
      "Epoch 19/40\n",
      "15000/15000 [==============================] - 2s 148us/step - loss: 0.2183 - acc: 0.9253 - val_loss: 0.2975 - val_acc: 0.8814\n",
      "Epoch 20/40\n",
      "15000/15000 [==============================] - 2s 150us/step - loss: 0.2081 - acc: 0.9280 - val_loss: 0.2937 - val_acc: 0.8829\n",
      "Epoch 21/40\n",
      "15000/15000 [==============================] - 2s 152us/step - loss: 0.1983 - acc: 0.9324 - val_loss: 0.2908 - val_acc: 0.8835\n",
      "Epoch 22/40\n",
      "15000/15000 [==============================] - 2s 151us/step - loss: 0.1893 - acc: 0.9363 - val_loss: 0.2890 - val_acc: 0.8841\n",
      "Epoch 23/40\n",
      "15000/15000 [==============================] - 2s 141us/step - loss: 0.1811 - acc: 0.9395 - val_loss: 0.2877 - val_acc: 0.8845\n",
      "Epoch 24/40\n",
      "15000/15000 [==============================] - 2s 142us/step - loss: 0.1728 - acc: 0.9445 - val_loss: 0.2860 - val_acc: 0.8842\n",
      "Epoch 25/40\n",
      "15000/15000 [==============================] - 2s 140us/step - loss: 0.1657 - acc: 0.9471 - val_loss: 0.2854 - val_acc: 0.8846\n",
      "Epoch 26/40\n",
      "15000/15000 [==============================] - 2s 143us/step - loss: 0.1585 - acc: 0.9500 - val_loss: 0.2854 - val_acc: 0.8851\n",
      "Epoch 27/40\n",
      "15000/15000 [==============================] - 2s 144us/step - loss: 0.1525 - acc: 0.9527 - val_loss: 0.2862 - val_acc: 0.8847\n",
      "Epoch 28/40\n",
      "15000/15000 [==============================] - 2s 137us/step - loss: 0.1461 - acc: 0.9559 - val_loss: 0.2859 - val_acc: 0.8866\n",
      "Epoch 29/40\n",
      "15000/15000 [==============================] - 2s 140us/step - loss: 0.1403 - acc: 0.9565 - val_loss: 0.2866 - val_acc: 0.8858\n",
      "Epoch 30/40\n",
      "15000/15000 [==============================] - 2s 144us/step - loss: 0.1353 - acc: 0.9595 - val_loss: 0.2881 - val_acc: 0.8860\n",
      "Epoch 31/40\n",
      "15000/15000 [==============================] - 2s 146us/step - loss: 0.1292 - acc: 0.9619 - val_loss: 0.2896 - val_acc: 0.8855\n",
      "Epoch 32/40\n",
      "15000/15000 [==============================] - 2s 142us/step - loss: 0.1245 - acc: 0.9639 - val_loss: 0.2915 - val_acc: 0.8856\n",
      "Epoch 33/40\n",
      "15000/15000 [==============================] - 2s 139us/step - loss: 0.1191 - acc: 0.9664 - val_loss: 0.2935 - val_acc: 0.8851\n",
      "Epoch 34/40\n",
      "15000/15000 [==============================] - 2s 145us/step - loss: 0.1147 - acc: 0.9679 - val_loss: 0.2962 - val_acc: 0.8843\n",
      "Epoch 35/40\n",
      "15000/15000 [==============================] - 2s 144us/step - loss: 0.1107 - acc: 0.9693 - val_loss: 0.2979 - val_acc: 0.8853\n",
      "Epoch 36/40\n",
      "15000/15000 [==============================] - 2s 137us/step - loss: 0.1058 - acc: 0.9709 - val_loss: 0.3009 - val_acc: 0.8839\n",
      "Epoch 37/40\n",
      "15000/15000 [==============================] - 2s 140us/step - loss: 0.1019 - acc: 0.9725 - val_loss: 0.3039 - val_acc: 0.8845 loss: 0.1006 - acc\n",
      "Epoch 38/40\n",
      "15000/15000 [==============================] - 2s 149us/step - loss: 0.0985 - acc: 0.9733 - val_loss: 0.3072 - val_acc: 0.8828\n",
      "Epoch 39/40\n",
      "15000/15000 [==============================] - 2s 142us/step - loss: 0.0942 - acc: 0.9753 - val_loss: 0.3095 - val_acc: 0.8833\n",
      "Epoch 40/40\n",
      "15000/15000 [==============================] - 2s 145us/step - loss: 0.0905 - acc: 0.9770 - val_loss: 0.3131 - val_acc: 0.8812\n"
     ]
    }
   ],
   "source": [
    "history = model.fit(partial_x_train, partial_y_train, epochs=40, batch_size=512, validation_data=(x_val, y_val), verbose=1)"
   ]
  },
  {
   "cell_type": "markdown",
   "metadata": {},
   "source": [
    "#### Evaluation"
   ]
  },
  {
   "cell_type": "code",
   "execution_count": 23,
   "metadata": {},
   "outputs": [
    {
     "name": "stdout",
     "output_type": "stream",
     "text": [
      "25000/25000 [==============================] - 2s 63us/step\n"
     ]
    },
    {
     "data": {
      "text/plain": [
       "[0.3332369383621216, 0.87292]"
      ]
     },
     "execution_count": 23,
     "metadata": {},
     "output_type": "execute_result"
    }
   ],
   "source": [
    "model.evaluate(test_data, test_labels)"
   ]
  },
  {
   "cell_type": "markdown",
   "metadata": {},
   "source": [
    "#### Accuracy and Loss over time"
   ]
  },
  {
   "cell_type": "code",
   "execution_count": 24,
   "metadata": {},
   "outputs": [
    {
     "data": {
      "text/plain": [
       "dict_keys(['val_loss', 'val_acc', 'loss', 'acc'])"
      ]
     },
     "execution_count": 24,
     "metadata": {},
     "output_type": "execute_result"
    }
   ],
   "source": [
    "history_dict = history.history\n",
    "history_dict.keys()"
   ]
  },
  {
   "cell_type": "code",
   "execution_count": 25,
   "metadata": {},
   "outputs": [],
   "source": [
    "acc = history_dict['acc']\n",
    "val_acc = history_dict['val_acc']\n",
    "loss = history_dict['loss']\n",
    "val_loss = history_dict['val_loss']"
   ]
  },
  {
   "cell_type": "code",
   "execution_count": 26,
   "metadata": {},
   "outputs": [],
   "source": [
    "epochs = range(1, len(acc) + 1)"
   ]
  },
  {
   "cell_type": "code",
   "execution_count": 27,
   "metadata": {},
   "outputs": [
    {
     "data": {
      "image/png": "[encoded data removed]",
      "text/plain": [
       "<Figure size 432x288 with 1 Axes>"
      ]
     },
     "metadata": {
      "needs_background": "light"
     },
     "output_type": "display_data"
    }
   ],
   "source": [
    "plt.xlabel('Epochs')\n",
    "\n",
    "plt.plot(epochs, acc, 'g--', label='Training accuracy')\n",
    "plt.plot(epochs, val_acc, 'g', label='Validation accuracy')\n",
    "\n",
    "plt.plot(epochs, loss, 'r--', label='Training loss')\n",
    "plt.plot(epochs, val_loss, 'r', label='Validation loss')\n",
    "\n",
    "plt.legend()\n",
    "plt.show()"
   ]
  }
 ],
 "metadata": {
  "kernelspec": {
   "display_name": "Python 3",
   "language": "python",
   "name": "python3"
  },
  "language_info": {
   "codemirror_mode": {
    "name": "ipython",
    "version": 3
   },
   "file_extension": ".py",
   "mimetype": "text/x-python",
   "name": "python",
   "nbconvert_exporter": "python",
   "pygments_lexer": "ipython3",
   "version": "3.6.8"
  }
 },
 "nbformat": 4,
 "nbformat_minor": 2
}
