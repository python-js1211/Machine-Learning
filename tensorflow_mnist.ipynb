{
 "cells": [
  {
   "cell_type": "markdown",
   "metadata": {},
   "source": [
    "### Tensorflow MNIST"
   ]
  },
  {
   "cell_type": "code",
   "execution_count": 1,
   "metadata": {},
   "outputs": [],
   "source": [
    "%%capture\n",
    "import tensorflow as tf\n",
    "from tensorflow.examples.tutorials.mnist import input_data\n",
    "mnist = input_data.read_data_sets('MNIST_data/', one_hot=True)"
   ]
  },
  {
   "cell_type": "code",
   "execution_count": 2,
   "metadata": {},
   "outputs": [],
   "source": [
    "X = tf.placeholder(tf.float32, [None, 784])\n",
    "Y = tf.placeholder(tf.float32, [None, 10])\n",
    "w = tf.Variable(tf.zeros([784, 10]))\n",
    "b = tf.Variable(tf.zeros([10]))"
   ]
  },
  {
   "cell_type": "code",
   "execution_count": 3,
   "metadata": {},
   "outputs": [],
   "source": [
    "Y_ = tf.nn.softmax(tf.matmul(X, w) + b)"
   ]
  },
  {
   "cell_type": "code",
   "execution_count": 4,
   "metadata": {},
   "outputs": [],
   "source": [
    "loss = -tf.reduce_sum(Y * tf.log(Y_))"
   ]
  },
  {
   "cell_type": "code",
   "execution_count": 5,
   "metadata": {},
   "outputs": [],
   "source": [
    "is_correct = tf.equal(tf.argmax(Y_, 1), tf.argmax(Y, 1))\n",
    "accuracy = tf.reduce_mean(tf.cast(is_correct, tf.float32))"
   ]
  },
  {
   "cell_type": "code",
   "execution_count": 6,
   "metadata": {},
   "outputs": [],
   "source": [
    "train_step = tf.train.GradientDescentOptimizer(0.003).minimize(loss)"
   ]
  },
  {
   "cell_type": "code",
   "execution_count": 7,
   "metadata": {},
   "outputs": [],
   "source": [
    "sess = tf.InteractiveSession()\n",
    "sess.run(tf.global_variables_initializer())"
   ]
  },
  {
   "cell_type": "code",
   "execution_count": 8,
   "metadata": {},
   "outputs": [
    {
     "name": "stdout",
     "output_type": "stream",
     "text": [
      "Step 0, Train batch accuracy: 26%\n",
      "Step 100, Train batch accuracy: 88%\n",
      "Step 200, Train batch accuracy: 93%\n",
      "Step 300, Train batch accuracy: 91%\n",
      "Step 400, Train batch accuracy: 94%\n",
      "Step 500, Train batch accuracy: 95%\n",
      "Step 600, Train batch accuracy: 91%\n",
      "Step 700, Train batch accuracy: 98%\n",
      "Step 800, Train batch accuracy: 90%\n",
      "Step 900, Train batch accuracy: 91%\n",
      "Step 1000, Train batch accuracy: 90%\n",
      "Step 1100, Train batch accuracy: 91%\n",
      "Step 1200, Train batch accuracy: 96%\n",
      "Step 1300, Train batch accuracy: 89%\n",
      "Step 1400, Train batch accuracy: 88%\n",
      "Step 1500, Train batch accuracy: 95%\n",
      "Step 1600, Train batch accuracy: 92%\n",
      "Step 1700, Train batch accuracy: 95%\n",
      "Step 1800, Train batch accuracy: 93%\n",
      "Step 1900, Train batch accuracy: 97%\n",
      "Step 2000, Train batch accuracy: 92%\n",
      "Step 2100, Train batch accuracy: 86%\n",
      "Step 2200, Train batch accuracy: 90%\n",
      "Step 2300, Train batch accuracy: 95%\n",
      "Step 2400, Train batch accuracy: 98%\n",
      "Step 2500, Train batch accuracy: 93%\n",
      "Step 2600, Train batch accuracy: 96%\n",
      "Step 2700, Train batch accuracy: 95%\n",
      "Step 2800, Train batch accuracy: 93%\n",
      "Step 2900, Train batch accuracy: 93%\n",
      "Step 3000, Train batch accuracy: 92%\n",
      "Step 3100, Train batch accuracy: 94%\n",
      "Step 3200, Train batch accuracy: 93%\n",
      "Step 3300, Train batch accuracy: 94%\n",
      "Step 3400, Train batch accuracy: 95%\n",
      "Step 3500, Train batch accuracy: 94%\n",
      "Step 3600, Train batch accuracy: 90%\n",
      "Step 3700, Train batch accuracy: 91%\n",
      "Step 3800, Train batch accuracy: 94%\n",
      "Step 3900, Train batch accuracy: 92%\n",
      "Step 4000, Train batch accuracy: 90%\n",
      "Step 4100, Train batch accuracy: 96%\n",
      "Step 4200, Train batch accuracy: 93%\n",
      "Step 4300, Train batch accuracy: 96%\n",
      "Step 4400, Train batch accuracy: 87%\n",
      "Step 4500, Train batch accuracy: 92%\n",
      "Step 4600, Train batch accuracy: 93%\n",
      "Step 4700, Train batch accuracy: 90%\n",
      "Step 4800, Train batch accuracy: 94%\n",
      "Step 4900, Train batch accuracy: 90%\n",
      "Step 5000, Train batch accuracy: 94%\n",
      "Step 5100, Train batch accuracy: 90%\n",
      "Step 5200, Train batch accuracy: 98%\n",
      "Step 5300, Train batch accuracy: 89%\n",
      "Step 5400, Train batch accuracy: 94%\n",
      "Step 5500, Train batch accuracy: 93%\n",
      "Step 5600, Train batch accuracy: 95%\n",
      "Step 5700, Train batch accuracy: 94%\n",
      "Step 5800, Train batch accuracy: 95%\n",
      "Step 5900, Train batch accuracy: 89%\n",
      "Step 6000, Train batch accuracy: 89%\n",
      "Step 6100, Train batch accuracy: 95%\n",
      "Step 6200, Train batch accuracy: 94%\n",
      "Step 6300, Train batch accuracy: 98%\n",
      "Step 6400, Train batch accuracy: 95%\n",
      "Step 6500, Train batch accuracy: 93%\n",
      "Step 6600, Train batch accuracy: 96%\n",
      "Step 6700, Train batch accuracy: 96%\n",
      "Step 6800, Train batch accuracy: 92%\n",
      "Step 6900, Train batch accuracy: 92%\n",
      "Step 7000, Train batch accuracy: 93%\n",
      "Step 7100, Train batch accuracy: 95%\n",
      "Step 7200, Train batch accuracy: 92%\n",
      "Step 7300, Train batch accuracy: 91%\n",
      "Step 7400, Train batch accuracy: 94%\n",
      "Step 7500, Train batch accuracy: 95%\n",
      "Step 7600, Train batch accuracy: 95%\n",
      "Step 7700, Train batch accuracy: 96%\n",
      "Step 7800, Train batch accuracy: 96%\n",
      "Step 7900, Train batch accuracy: 95%\n",
      "Step 8000, Train batch accuracy: 93%\n",
      "Step 8100, Train batch accuracy: 92%\n",
      "Step 8200, Train batch accuracy: 95%\n",
      "Step 8300, Train batch accuracy: 92%\n",
      "Step 8400, Train batch accuracy: 97%\n",
      "Step 8500, Train batch accuracy: 94%\n",
      "Step 8600, Train batch accuracy: 90%\n",
      "Step 8700, Train batch accuracy: 94%\n",
      "Step 8800, Train batch accuracy: 92%\n",
      "Step 8900, Train batch accuracy: 94%\n",
      "Step 9000, Train batch accuracy: 93%\n",
      "Step 9100, Train batch accuracy: 93%\n",
      "Step 9200, Train batch accuracy: 88%\n",
      "Step 9300, Train batch accuracy: 98%\n",
      "Step 9400, Train batch accuracy: 98%\n",
      "Step 9500, Train batch accuracy: 94%\n",
      "Step 9600, Train batch accuracy: 94%\n",
      "Step 9700, Train batch accuracy: 94%\n",
      "Step 9800, Train batch accuracy: 91%\n",
      "Step 9900, Train batch accuracy: 94%\n"
     ]
    }
   ],
   "source": [
    "for i in range(10000):\n",
    "    batch_X, batch_y = mnist.train.next_batch(100)\n",
    "    train_data = {X: batch_X, Y: batch_y}\n",
    "    sess.run(train_step, feed_dict=train_data)\n",
    "    if i % 100 == 0:\n",
    "        a = accuracy.eval(feed_dict=train_data)\n",
    "        print('Step {}, Train batch accuracy: {:g}%'.format(i, a * 100))"
   ]
  },
  {
   "cell_type": "code",
   "execution_count": 9,
   "metadata": {},
   "outputs": [
    {
     "name": "stdout",
     "output_type": "stream",
     "text": [
      "Test set accuracy: 92.42%\n"
     ]
    }
   ],
   "source": [
    "test_accuracy = accuracy.eval(feed_dict={X: mnist.test.images, Y: mnist.test.labels})\n",
    "print('Test set accuracy: {:g}%'.format(test_accuracy * 100))"
   ]
  }
 ],
 "metadata": {
  "kernelspec": {
   "display_name": "Python 3",
   "language": "python",
   "name": "python3"
  },
  "language_info": {
   "codemirror_mode": {
    "name": "ipython",
    "version": 3
   },
   "file_extension": ".py",
   "mimetype": "text/x-python",
   "name": "python",
   "nbconvert_exporter": "python",
   "pygments_lexer": "ipython3",
   "version": "3.6.7"
  }
 },
 "nbformat": 4,
 "nbformat_minor": 2
}
