{
  "nbformat": 4,
  "nbformat_minor": 0,
  "metadata": {
    "kernelspec": {
      "name": "python3",
      "display_name": "Python 3"
    },
    "language_info": {
      "codemirror_mode": {
        "name": "ipython",
        "version": 3
      },
      "file_extension": ".py",
      "mimetype": "text/x-python",
      "name": "python",
      "nbconvert_exporter": "python",
      "pygments_lexer": "ipython3",
      "version": "3.6.8"
    },
    "colab": {
      "name": "text_classification_rnn.ipynb",
      "version": "0.3.2",
      "provenance": [],
      "collapsed_sections": [],
      "include_colab_link": true
    },
    "accelerator": "GPU"
  },
  "cells": [
    {
      "cell_type": "markdown",
      "metadata": {
        "id": "view-in-github",
        "colab_type": "text"
      },
      "source": [
        "<a href=\"https://colab.research.google.com/github/harshildarji/ML-Practise/blob/master/TF%202%20Tutorials/text_classification_rnn.ipynb\" target=\"_parent\"><img src=\"https://colab.research.google.com/assets/colab-badge.svg\" alt=\"Open In Colab\"/></a>"
      ]
    },
    {
      "cell_type": "markdown",
      "metadata": {
        "id": "XYNsZJMVcLLp",
        "colab_type": "text"
      },
      "source": [
        "### [Text classification with an RNN](https://www.tensorflow.org/beta/tutorials/text/text_classification_rnn)"
      ]
    },
    {
      "cell_type": "code",
      "metadata": {
        "id": "vk_gY2EGcLLr",
        "colab_type": "code",
        "colab": {
          "base_uri": "https://localhost:8080/",
          "height": 34
        },
        "outputId": "46a389d5-cf3f-4eb7-c975-ecc61c4d2476"
      },
      "source": [
        "from __future__ import absolute_import, division, print_function, unicode_literals\n",
        "import matplotlib.pyplot as plt\n",
        "\n",
        "%tensorflow_version 2.x\n",
        "import tensorflow as tf\n",
        "\n",
        "import tensorflow_datasets as tfds\n",
        "tfds.disable_progress_bar()"
      ],
      "execution_count": 1,
      "outputs": [
        {
          "output_type": "stream",
          "text": [
            "TensorFlow 2.x selected.\n"
          ],
          "name": "stdout"
        }
      ]
    },
    {
      "cell_type": "code",
      "metadata": {
        "id": "u5JfEZhdcLLx",
        "colab_type": "code",
        "colab": {
          "base_uri": "https://localhost:8080/",
          "height": 34
        },
        "outputId": "ffb3e996-9321-4137-bf08-35f978dca848"
      },
      "source": [
        "print(tf.__version__)"
      ],
      "execution_count": 2,
      "outputs": [
        {
          "output_type": "stream",
          "text": [
            "2.0.0-rc0\n"
          ],
          "name": "stdout"
        }
      ]
    },
    {
      "cell_type": "code",
      "metadata": {
        "id": "kuWEBoa2cLL8",
        "colab_type": "code",
        "colab": {}
      },
      "source": [
        "import logging\n",
        "logger = tf.get_logger()\n",
        "logger.setLevel(logging.ERROR)"
      ],
      "execution_count": 0,
      "outputs": []
    },
    {
      "cell_type": "markdown",
      "metadata": {
        "id": "n-GRWDzWcLMB",
        "colab_type": "text"
      },
      "source": [
        "Just a small helper function to plot graphs."
      ]
    },
    {
      "cell_type": "code",
      "metadata": {
        "id": "7wjlhPcscLMH",
        "colab_type": "code",
        "colab": {}
      },
      "source": [
        "def plot(history, string):\n",
        "    plt.plot(history.history[string], label='Training '+string)\n",
        "    plt.plot(history.history['val_'+string], label='Validation '+string)\n",
        "    plt.xlabel('Epochs')\n",
        "    plt.ylabel(string.title())\n",
        "    plt.legend();"
      ],
      "execution_count": 0,
      "outputs": []
    },
    {
      "cell_type": "markdown",
      "metadata": {
        "id": "b75AP4wwcLML",
        "colab_type": "text"
      },
      "source": [
        "#### Load and prepare the dataset"
      ]
    },
    {
      "cell_type": "code",
      "metadata": {
        "id": "vPbrygLpcLMM",
        "colab_type": "code",
        "colab": {}
      },
      "source": [
        "dataset, info = tfds.load('imdb_reviews/subwords8k', with_info=True, as_supervised=True)"
      ],
      "execution_count": 0,
      "outputs": []
    },
    {
      "cell_type": "code",
      "metadata": {
        "id": "LD8QGjs-cLMR",
        "colab_type": "code",
        "colab": {}
      },
      "source": [
        "train_dataset, test_dataset = dataset['train'], dataset['test']"
      ],
      "execution_count": 0,
      "outputs": []
    },
    {
      "cell_type": "code",
      "metadata": {
        "id": "HrFyPvQmcLMY",
        "colab_type": "code",
        "colab": {}
      },
      "source": [
        "tokenizer = info.features['text'].encoder"
      ],
      "execution_count": 0,
      "outputs": []
    },
    {
      "cell_type": "code",
      "metadata": {
        "id": "twLWA69LcLMc",
        "colab_type": "code",
        "colab": {
          "base_uri": "https://localhost:8080/",
          "height": 34
        },
        "outputId": "e6b38e92-32fc-4c04-9c31-81e4487bcf62"
      },
      "source": [
        "print('Vocab size: {}'.format(tokenizer.vocab_size))"
      ],
      "execution_count": 8,
      "outputs": [
        {
          "output_type": "stream",
          "text": [
            "Vocab size: 8185\n"
          ],
          "name": "stdout"
        }
      ]
    },
    {
      "cell_type": "markdown",
      "metadata": {
        "id": "LxEu5k_lcLMi",
        "colab_type": "text"
      },
      "source": [
        "An example!"
      ]
    },
    {
      "cell_type": "code",
      "metadata": {
        "id": "-fZwJmVTcLMr",
        "colab_type": "code",
        "colab": {}
      },
      "source": [
        "sample_string = 'Hello World'"
      ],
      "execution_count": 0,
      "outputs": []
    },
    {
      "cell_type": "code",
      "metadata": {
        "id": "xgrXp4ABcLM4",
        "colab_type": "code",
        "colab": {
          "base_uri": "https://localhost:8080/",
          "height": 34
        },
        "outputId": "f3611e94-6dd7-49e3-be91-1b7f6ac0bdc6"
      },
      "source": [
        "tokenized_string = tokenizer.encode(sample_string)\n",
        "print('Tokenized string: {}'.format(tokenized_string))"
      ],
      "execution_count": 10,
      "outputs": [
        {
          "output_type": "stream",
          "text": [
            "Tokenized string: [4025, 222, 2307, 1829]\n"
          ],
          "name": "stdout"
        }
      ]
    },
    {
      "cell_type": "code",
      "metadata": {
        "id": "yc206qAocLND",
        "colab_type": "code",
        "colab": {
          "base_uri": "https://localhost:8080/",
          "height": 34
        },
        "outputId": "1defd861-2699-4bc9-9c13-dad29ec66bd2"
      },
      "source": [
        "original_string = tokenizer.decode(tokenized_string)\n",
        "print('Original string: {}'.format(original_string))"
      ],
      "execution_count": 11,
      "outputs": [
        {
          "output_type": "stream",
          "text": [
            "Original string: Hello World\n"
          ],
          "name": "stdout"
        }
      ]
    },
    {
      "cell_type": "markdown",
      "metadata": {
        "id": "xPFo4u8pcLNL",
        "colab_type": "text"
      },
      "source": [
        "This tokenizer encodes the string by breaking it into subwords if the word is not in its dictionary."
      ]
    },
    {
      "cell_type": "code",
      "metadata": {
        "id": "TDLxEuu9cLNO",
        "colab_type": "code",
        "colab": {
          "base_uri": "https://localhost:8080/",
          "height": 85
        },
        "outputId": "45d81d0d-cac4-40d9-96b1-76a7c43028ee"
      },
      "source": [
        "for ts in tokenized_string:\n",
        "    print('{}\\t-->\\t{}'.format(ts, tokenizer.decode([ts])))"
      ],
      "execution_count": 12,
      "outputs": [
        {
          "output_type": "stream",
          "text": [
            "4025\t-->\tHell\n",
            "222\t-->\to \n",
            "2307\t-->\tWor\n",
            "1829\t-->\tld\n"
          ],
          "name": "stdout"
        }
      ]
    },
    {
      "cell_type": "markdown",
      "metadata": {
        "id": "N6cHpCCjcLNW",
        "colab_type": "text"
      },
      "source": [
        "Back to dataset preparation!"
      ]
    },
    {
      "cell_type": "code",
      "metadata": {
        "id": "P7e82G7FcLNY",
        "colab_type": "code",
        "colab": {}
      },
      "source": [
        "BUFFER_SIZE = 10000\n",
        "BATCH_SIZE = 64"
      ],
      "execution_count": 0,
      "outputs": []
    },
    {
      "cell_type": "code",
      "metadata": {
        "id": "b9PTgKe6cLNj",
        "colab_type": "code",
        "colab": {}
      },
      "source": [
        "train_dataset = train_dataset.shuffle(BUFFER_SIZE)\n",
        "train_dataset = train_dataset.padded_batch(BATCH_SIZE, train_dataset.output_shapes)"
      ],
      "execution_count": 0,
      "outputs": []
    },
    {
      "cell_type": "code",
      "metadata": {
        "id": "O-td2PqXcLNp",
        "colab_type": "code",
        "colab": {}
      },
      "source": [
        "test_dataset = test_dataset.padded_batch(BATCH_SIZE, test_dataset.output_shapes)"
      ],
      "execution_count": 0,
      "outputs": []
    },
    {
      "cell_type": "markdown",
      "metadata": {
        "id": "r4kWc75acLNw",
        "colab_type": "text"
      },
      "source": [
        "#### Define the model"
      ]
    },
    {
      "cell_type": "code",
      "metadata": {
        "id": "pnkduTSpcLNy",
        "colab_type": "code",
        "colab": {}
      },
      "source": [
        "model = tf.keras.Sequential([\n",
        "    tf.keras.layers.Embedding(tokenizer.vocab_size, 64),\n",
        "    tf.keras.layers.Bidirectional(tf.keras.layers.LSTM(64)),\n",
        "    tf.keras.layers.Dense(64, activation='relu'),\n",
        "    tf.keras.layers.Dense(1, activation='sigmoid')\n",
        "])"
      ],
      "execution_count": 0,
      "outputs": []
    },
    {
      "cell_type": "code",
      "metadata": {
        "id": "Nd6kYxFmcLN2",
        "colab_type": "code",
        "colab": {}
      },
      "source": [
        "model.compile(optimizer='adam',\n",
        "             loss='binary_crossentropy',\n",
        "             metrics=['accuracy'])"
      ],
      "execution_count": 0,
      "outputs": []
    },
    {
      "cell_type": "code",
      "metadata": {
        "id": "V7nR57arcLN7",
        "colab_type": "code",
        "colab": {
          "base_uri": "https://localhost:8080/",
          "height": 289
        },
        "outputId": "2673e4fb-48ec-41fc-a669-d3451e5ec21b"
      },
      "source": [
        "model.summary()"
      ],
      "execution_count": 18,
      "outputs": [
        {
          "output_type": "stream",
          "text": [
            "Model: \"sequential\"\n",
            "_________________________________________________________________\n",
            "Layer (type)                 Output Shape              Param #   \n",
            "=================================================================\n",
            "embedding (Embedding)        (None, None, 64)          523840    \n",
            "_________________________________________________________________\n",
            "bidirectional (Bidirectional (None, 128)               66048     \n",
            "_________________________________________________________________\n",
            "dense (Dense)                (None, 64)                8256      \n",
            "_________________________________________________________________\n",
            "dense_1 (Dense)              (None, 1)                 65        \n",
            "=================================================================\n",
            "Total params: 598,209\n",
            "Trainable params: 598,209\n",
            "Non-trainable params: 0\n",
            "_________________________________________________________________\n"
          ],
          "name": "stdout"
        }
      ]
    },
    {
      "cell_type": "markdown",
      "metadata": {
        "id": "dzXwQQiFcLOK",
        "colab_type": "text"
      },
      "source": [
        "#### Train the model"
      ]
    },
    {
      "cell_type": "code",
      "metadata": {
        "id": "QQRkuOiHcLON",
        "colab_type": "code",
        "colab": {
          "base_uri": "https://localhost:8080/",
          "height": 357
        },
        "outputId": "afe4c287-3a64-4df4-fd28-e3f18d7522d6"
      },
      "source": [
        "history = model.fit(train_dataset, epochs=10, validation_data=test_dataset)"
      ],
      "execution_count": 19,
      "outputs": [
        {
          "output_type": "stream",
          "text": [
            "Epoch 1/10\n",
            "391/391 [==============================] - 182s 465ms/step - loss: 0.5408 - accuracy: 0.7284 - val_loss: 0.0000e+00 - val_accuracy: 0.0000e+00\n",
            "Epoch 2/10\n",
            "391/391 [==============================] - 176s 449ms/step - loss: 0.3825 - accuracy: 0.8454 - val_loss: 0.4324 - val_accuracy: 0.8204\n",
            "Epoch 3/10\n",
            "391/391 [==============================] - 173s 443ms/step - loss: 0.4309 - accuracy: 0.8188 - val_loss: 0.7105 - val_accuracy: 0.7592\n",
            "Epoch 4/10\n",
            "391/391 [==============================] - 173s 441ms/step - loss: 0.3809 - accuracy: 0.8384 - val_loss: 0.5806 - val_accuracy: 0.7278\n",
            "Epoch 5/10\n",
            "391/391 [==============================] - 172s 440ms/step - loss: 0.4397 - accuracy: 0.8091 - val_loss: 0.5589 - val_accuracy: 0.7636\n",
            "Epoch 6/10\n",
            "391/391 [==============================] - 172s 440ms/step - loss: 0.3294 - accuracy: 0.8648 - val_loss: 0.4506 - val_accuracy: 0.8133\n",
            "Epoch 7/10\n",
            "391/391 [==============================] - 173s 442ms/step - loss: 0.2697 - accuracy: 0.8968 - val_loss: 0.4971 - val_accuracy: 0.8213\n",
            "Epoch 8/10\n",
            "391/391 [==============================] - 172s 441ms/step - loss: 0.2112 - accuracy: 0.9206 - val_loss: 0.4724 - val_accuracy: 0.8261\n",
            "Epoch 9/10\n",
            "391/391 [==============================] - 173s 443ms/step - loss: 0.2045 - accuracy: 0.9232 - val_loss: 0.4855 - val_accuracy: 0.8250\n",
            "Epoch 10/10\n",
            "391/391 [==============================] - 173s 443ms/step - loss: 0.1813 - accuracy: 0.9350 - val_loss: 0.6313 - val_accuracy: 0.8008\n"
          ],
          "name": "stdout"
        }
      ]
    },
    {
      "cell_type": "code",
      "metadata": {
        "id": "7QVLtMajcLOe",
        "colab_type": "code",
        "colab": {
          "base_uri": "https://localhost:8080/",
          "height": 392
        },
        "outputId": "d1670a0e-9ae7-4fad-8156-83c274b33bb0"
      },
      "source": [
        "plt.figure(figsize=(10, 6))\n",
        "\n",
        "plt.subplot(1, 2, 1)\n",
        "plot(history, 'accuracy')\n",
        "\n",
        "plt.subplot(1, 2, 2)\n",
        "plot(history, 'loss')"
      ],
      "execution_count": 20,
      "outputs": [
        {
          "output_type": "display_data",
          "data": {
            "image/png": "[encoded data removed]",
            "text/plain": [
              "<Figure size 720x432 with 2 Axes>"
            ]
          },
          "metadata": {
            "tags": []
          }
        }
      ]
    },
    {
      "cell_type": "markdown",
      "metadata": {
        "id": "J6JOISKckjnp",
        "colab_type": "text"
      },
      "source": [
        "#### Add two or more LSTM layers"
      ]
    },
    {
      "cell_type": "code",
      "metadata": {
        "id": "l28Thbz-k6jD",
        "colab_type": "code",
        "colab": {}
      },
      "source": [
        "model = tf.keras.Sequential([\n",
        "    tf.keras.layers.Embedding(tokenizer.vocab_size, 64),\n",
        "    tf.keras.layers.Bidirectional(tf.keras.layers.LSTM(64, return_sequences=True)),\n",
        "    tf.keras.layers.Bidirectional(tf.keras.layers.LSTM(32)),\n",
        "    tf.keras.layers.Dense(64, activation='relu'),\n",
        "    tf.keras.layers.Dense(1, activation='sigmoid')\n",
        "])"
      ],
      "execution_count": 0,
      "outputs": []
    },
    {
      "cell_type": "code",
      "metadata": {
        "id": "O7d3IiIIlWfM",
        "colab_type": "code",
        "colab": {}
      },
      "source": [
        "model.compile(optimizer='adam',\n",
        "             loss='binary_crossentropy',\n",
        "             metrics=['accuracy'])"
      ],
      "execution_count": 0,
      "outputs": []
    },
    {
      "cell_type": "code",
      "metadata": {
        "id": "ZqSpUQr2lgYd",
        "colab_type": "code",
        "colab": {
          "base_uri": "https://localhost:8080/",
          "height": 323
        },
        "outputId": "45658188-5bb1-4649-ad48-febd465d44b5"
      },
      "source": [
        "model.summary()"
      ],
      "execution_count": 23,
      "outputs": [
        {
          "output_type": "stream",
          "text": [
            "Model: \"sequential_1\"\n",
            "_________________________________________________________________\n",
            "Layer (type)                 Output Shape              Param #   \n",
            "=================================================================\n",
            "embedding_1 (Embedding)      (None, None, 64)          523840    \n",
            "_________________________________________________________________\n",
            "bidirectional_1 (Bidirection (None, None, 128)         66048     \n",
            "_________________________________________________________________\n",
            "bidirectional_2 (Bidirection (None, 64)                41216     \n",
            "_________________________________________________________________\n",
            "dense_2 (Dense)              (None, 64)                4160      \n",
            "_________________________________________________________________\n",
            "dense_3 (Dense)              (None, 1)                 65        \n",
            "=================================================================\n",
            "Total params: 635,329\n",
            "Trainable params: 635,329\n",
            "Non-trainable params: 0\n",
            "_________________________________________________________________\n"
          ],
          "name": "stdout"
        }
      ]
    },
    {
      "cell_type": "code",
      "metadata": {
        "id": "oXUtZd6llhqP",
        "colab_type": "code",
        "colab": {
          "base_uri": "https://localhost:8080/",
          "height": 357
        },
        "outputId": "4abf5c3b-f158-41bd-abcb-48f1f3c193ae"
      },
      "source": [
        "history = model.fit(train_dataset, epochs=10, validation_data=test_dataset)"
      ],
      "execution_count": 24,
      "outputs": [
        {
          "output_type": "stream",
          "text": [
            "Epoch 1/10\n",
            "391/391 [==============================] - 331s 846ms/step - loss: 0.5375 - accuracy: 0.7196 - val_loss: 0.0000e+00 - val_accuracy: 0.0000e+00\n",
            "Epoch 2/10\n",
            "391/391 [==============================] - 323s 826ms/step - loss: 0.4150 - accuracy: 0.8165 - val_loss: 0.7056 - val_accuracy: 0.6320\n",
            "Epoch 3/10\n",
            "391/391 [==============================] - 321s 820ms/step - loss: 0.4506 - accuracy: 0.7901 - val_loss: 0.4564 - val_accuracy: 0.8077\n",
            "Epoch 4/10\n",
            "391/391 [==============================] - 320s 818ms/step - loss: 0.3393 - accuracy: 0.8621 - val_loss: 0.3996 - val_accuracy: 0.8254\n",
            "Epoch 5/10\n",
            "391/391 [==============================] - 321s 821ms/step - loss: 0.2760 - accuracy: 0.8906 - val_loss: 0.3515 - val_accuracy: 0.8568\n",
            "Epoch 6/10\n",
            "391/391 [==============================] - 319s 817ms/step - loss: 0.2126 - accuracy: 0.9212 - val_loss: 0.3306 - val_accuracy: 0.8677\n",
            "Epoch 7/10\n",
            "391/391 [==============================] - 320s 818ms/step - loss: 0.1624 - accuracy: 0.9436 - val_loss: 0.3356 - val_accuracy: 0.8732\n",
            "Epoch 8/10\n",
            "391/391 [==============================] - 318s 814ms/step - loss: 0.1172 - accuracy: 0.9620 - val_loss: 0.4224 - val_accuracy: 0.8596\n",
            "Epoch 9/10\n",
            "391/391 [==============================] - 318s 814ms/step - loss: 0.0838 - accuracy: 0.9745 - val_loss: 0.4578 - val_accuracy: 0.8704\n",
            "Epoch 10/10\n",
            "391/391 [==============================] - 320s 817ms/step - loss: 0.0741 - accuracy: 0.9776 - val_loss: 0.4821 - val_accuracy: 0.8683\n"
          ],
          "name": "stdout"
        }
      ]
    },
    {
      "cell_type": "code",
      "metadata": {
        "id": "a-tjwkKXlplr",
        "colab_type": "code",
        "colab": {
          "base_uri": "https://localhost:8080/",
          "height": 392
        },
        "outputId": "ba82f0d9-df1b-4a20-f05b-87eacd5ba1a6"
      },
      "source": [
        "plt.figure(figsize=(10, 6))\n",
        "\n",
        "plt.subplot(1, 2, 1)\n",
        "plot(history, 'accuracy')\n",
        "\n",
        "plt.subplot(1, 2, 2)\n",
        "plot(history, 'loss')"
      ],
      "execution_count": 25,
      "outputs": [
        {
          "output_type": "display_data",
          "data": {
            "image/png": "[encoded data removed]",
            "text/plain": [
              "<Figure size 720x432 with 2 Axes>"
            ]
          },
          "metadata": {
            "tags": []
          }
        }
      ]
    }
  ]
}